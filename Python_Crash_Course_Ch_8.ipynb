{
 "cells": [
  {
   "cell_type": "code",
   "execution_count": 1,
   "metadata": {},
   "outputs": [
    {
     "name": "stdout",
     "output_type": "stream",
     "text": [
      " Hello Hirak\n"
     ]
    }
   ],
   "source": [
    "def  greet_user(username):\n",
    "    \"\"\" greeting user\"\"\"\n",
    "    print(f\" Hello {username}\")\n",
    "greet_user('Hirak')"
   ]
  },
  {
   "cell_type": "code",
   "execution_count": 2,
   "metadata": {},
   "outputs": [
    {
     "name": "stdout",
     "output_type": "stream",
     "text": [
      "Hey guys I am learning functions\n"
     ]
    }
   ],
   "source": [
    "#8.1\n",
    "\n",
    "\n",
    "def display_message():\n",
    "    print (\"Hey guys I am learning functions\")\n",
    "\n",
    "display_message()\n"
   ]
  },
  {
   "cell_type": "code",
   "execution_count": 4,
   "metadata": {},
   "outputs": [
    {
     "name": "stdout",
     "output_type": "stream",
     "text": [
      "One of my fav book is The old man a sea\n"
     ]
    }
   ],
   "source": [
    "#8.2\n",
    "\n",
    "def favorite_book(book):\n",
    "    print(f\"One of my fav book is {book}\")\n",
    "\n",
    "favorite_book('The old man a sea')\n"
   ]
  },
  {
   "cell_type": "code",
   "execution_count": null,
   "metadata": {},
   "outputs": [],
   "source": [
    "def your_pet(owner,pet) :\n",
    "    print(f\" I am {owner}\")\n",
    "    print(f\"I have a {pet}\")\n",
    "your_pet('aggu','roku')\n"
   ]
  },
  {
   "cell_type": "code",
   "execution_count": null,
   "metadata": {},
   "outputs": [],
   "source": [
    "def your_pet(owner,pet) :\n",
    "    print(f\"I am {owner}\")\n",
    "    print(f\"I have a pet name {pet}\")\n",
    "your_pet(owner = 'ron',pet='roku')"
   ]
  },
  {
   "cell_type": "code",
   "execution_count": null,
   "metadata": {},
   "outputs": [],
   "source": [
    "#8.3\n",
    "\n",
    "def print_shirt( size, text) :\n",
    "    print (f\" the size of the shirt is {int(size)}\")\n",
    "    print (f\" The text of the shirt is  {text}  \")\n",
    "print_shirt ('9','God is me')\n"
   ]
  },
  {
   "cell_type": "code",
   "execution_count": null,
   "metadata": {},
   "outputs": [],
   "source": [
    "#8.4\n",
    "def make_shirt(size='large',message= 'I love Python') :\n",
    "          \n",
    "          print (f\"My tShirt Size is {size} \")\n",
    "          print (f\"I am gonna tell the world through the shirt that {message}\")\n",
    "make_shirt()"
   ]
  },
  {
   "cell_type": "code",
   "execution_count": null,
   "metadata": {},
   "outputs": [],
   "source": [
    "#8.5\n",
    "def describe_city(city,country):\n",
    "    print(f\"{city} is in {country}\")\n",
    "    \n",
    "describe_city('Delhi','India')\n",
    "\n"
   ]
  },
  {
   "cell_type": "code",
   "execution_count": 20,
   "metadata": {},
   "outputs": [
    {
     "name": "stdout",
     "output_type": "stream",
     "text": [
      "Jimi Henry\n"
     ]
    }
   ],
   "source": [
    "def get_fromatted_name(first_name,last_name) :\n",
    "    full_name = f\"{first_name} {last_name}\"\n",
    "    return full_name.title()\n",
    "\n",
    "musician = get_fromatted_name('jimi','henry') \n",
    "print(musician)"
   ]
  },
  {
   "cell_type": "code",
   "execution_count": 21,
   "metadata": {},
   "outputs": [
    {
     "name": "stdout",
     "output_type": "stream",
     "text": [
      "Jimi Rocks Henry\n"
     ]
    }
   ],
   "source": [
    "def get_fromatted_name(first_name,middle_name,last_name) :\n",
    "    full_name = f\"{first_name} {middle_name} {last_name}\"\n",
    "    return full_name.title()\n",
    "\n",
    "musician = get_fromatted_name('jimi','rocks','henry') \n",
    "print(musician)"
   ]
  },
  {
   "cell_type": "code",
   "execution_count": null,
   "metadata": {},
   "outputs": [],
   "source": [
    "def get_fromatted_name(first_name,last_name ,middle_name ='') :\n",
    "    if middle_name:\n",
    "        full_name=f\"{first_name} {middle_name} {last_name}\"\n",
    "    else:\n",
    "        full_name=f\"{first_name}  {last_name}\"\n",
    "    \n",
    "    return full_name.title()\n",
    "\n",
    "musician = get_fromatted_name('jimi','henry') \n",
    "print(musician)\n",
    "\n",
    "musician = get_fromatted_name('jimi','made','henry') \n",
    "print(musician)"
   ]
  },
  {
   "cell_type": "code",
   "execution_count": 34,
   "metadata": {},
   "outputs": [
    {
     "name": "stdout",
     "output_type": "stream",
     "text": [
      "{'first_name': ' Jame', 'last_name': 'Anderson'}\n"
     ]
    }
   ],
   "source": [
    "def build_person (first_name,last_name ):\n",
    "    person={'first_name': first_name,'last_name': last_name}\n",
    "    return person\n",
    "musician= build_person( ' Jame' , 'Anderson')\n",
    "print (musician)"
   ]
  },
  {
   "cell_type": "code",
   "execution_count": null,
   "metadata": {},
   "outputs": [],
   "source": []
  }
 ],
 "metadata": {
  "kernelspec": {
   "display_name": "Python 3",
   "language": "python",
   "name": "python3"
  },
  "language_info": {
   "codemirror_mode": {
    "name": "ipython",
    "version": 3
   },
   "file_extension": ".py",
   "mimetype": "text/x-python",
   "name": "python",
   "nbconvert_exporter": "python",
   "pygments_lexer": "ipython3",
   "version": "3.11.4"
  }
 },
 "nbformat": 4,
 "nbformat_minor": 2
}
