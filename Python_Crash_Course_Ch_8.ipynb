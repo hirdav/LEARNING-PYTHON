{
 "cells": [
  {
   "cell_type": "code",
   "execution_count": 1,
   "metadata": {},
   "outputs": [
    {
     "name": "stdout",
     "output_type": "stream",
     "text": [
      " Hello Hirak\n"
     ]
    }
   ],
   "source": [
    "def  greet_user(username):\n",
    "    \"\"\" greeting user\"\"\"\n",
    "    print(f\" Hello {username}\")\n",
    "greet_user('Hirak')"
   ]
  },
  {
   "cell_type": "code",
   "execution_count": 2,
   "metadata": {},
   "outputs": [
    {
     "name": "stdout",
     "output_type": "stream",
     "text": [
      "Hey guys I am learning functions\n"
     ]
    }
   ],
   "source": [
    "#8.1\n",
    "\n",
    "\n",
    "def display_message():\n",
    "    print (\"Hey guys I am learning functions\")\n",
    "\n",
    "display_message()\n"
   ]
  },
  {
   "cell_type": "code",
   "execution_count": 4,
   "metadata": {},
   "outputs": [
    {
     "name": "stdout",
     "output_type": "stream",
     "text": [
      "One of my fav book is The old man a sea\n"
     ]
    }
   ],
   "source": [
    "#8.2\n",
    "\n",
    "def favorite_book(book):\n",
    "    print(f\"One of my fav book is {book}\")\n",
    "\n",
    "favorite_book('The old man a sea')\n"
   ]
  },
  {
   "cell_type": "code",
   "execution_count": null,
   "metadata": {},
   "outputs": [],
   "source": [
    "def your_pet(owner,pet) :\n",
    "    print(f\" I am {owner}\")\n",
    "    print(f\"I have a {pet}\")\n",
    "your_pet('aggu','roku')\n"
   ]
  },
  {
   "cell_type": "code",
   "execution_count": null,
   "metadata": {},
   "outputs": [],
   "source": [
    "def your_pet(owner,pet) :\n",
    "    print(f\"I am {owner}\")\n",
    "    print(f\"I have a pet name {pet}\")\n",
    "your_pet(owner = 'ron',pet='roku')"
   ]
  },
  {
   "cell_type": "code",
   "execution_count": null,
   "metadata": {},
   "outputs": [],
   "source": [
    "#8.3\n",
    "\n",
    "def print_shirt( size, text) :\n",
    "    print (f\" the size of the shirt is {int(size)}\")\n",
    "    print (f\" The text of the shirt is  {text}  \")\n",
    "print_shirt ('9','God is me')\n"
   ]
  },
  {
   "cell_type": "code",
   "execution_count": null,
   "metadata": {},
   "outputs": [],
   "source": [
    "#8.4\n",
    "def make_shirt(size='large',message= 'I love Python') :\n",
    "          \n",
    "          print (f\"My tShirt Size is {size} \")\n",
    "          print (f\"I am gonna tell the world through the shirt that {message}\")\n",
    "make_shirt()"
   ]
  },
  {
   "cell_type": "code",
   "execution_count": null,
   "metadata": {},
   "outputs": [],
   "source": [
    "#8.5\n",
    "def describe_city(city,country):\n",
    "    print(f\"{city} is in {country}\")\n",
    "    \n",
    "describe_city('Delhi','India')\n",
    "\n"
   ]
  },
  {
   "cell_type": "code",
   "execution_count": 20,
   "metadata": {},
   "outputs": [
    {
     "name": "stdout",
     "output_type": "stream",
     "text": [
      "Jimi Henry\n"
     ]
    }
   ],
   "source": [
    "def get_fromatted_name(first_name,last_name) :\n",
    "    full_name = f\"{first_name} {last_name}\"\n",
    "    return full_name.title()\n",
    "\n",
    "musician = get_fromatted_name('jimi','henry') \n",
    "print(musician)"
   ]
  },
  {
   "cell_type": "code",
   "execution_count": 21,
   "metadata": {},
   "outputs": [
    {
     "name": "stdout",
     "output_type": "stream",
     "text": [
      "Jimi Rocks Henry\n"
     ]
    }
   ],
   "source": [
    "def get_fromatted_name(first_name,middle_name,last_name) :\n",
    "    full_name = f\"{first_name} {middle_name} {last_name}\"\n",
    "    return full_name.title()\n",
    "\n",
    "musician = get_fromatted_name('jimi','rocks','henry') \n",
    "print(musician)"
   ]
  },
  {
   "cell_type": "code",
   "execution_count": 3,
   "metadata": {},
   "outputs": [
    {
     "name": "stdout",
     "output_type": "stream",
     "text": [
      "Jimi  Henry\n",
      "Jimi Henry Made\n"
     ]
    }
   ],
   "source": [
    "def get_formatted_name(first_name,last_name ,middle_name ='') :\n",
    "    if middle_name:\n",
    "        full_name=f\"{first_name} {middle_name} {last_name}\"\n",
    "    else:\n",
    "        full_name=f\"{first_name}  {last_name}\"\n",
    "    \n",
    "    return full_name.title()\n",
    "\n",
    "musician = get_formatted_name('jimi','henry') \n",
    "print(musician)\n",
    "\n",
    "musician = get_formatted_name('jimi','made','henry') \n",
    "print(musician)"
   ]
  },
  {
   "cell_type": "code",
   "execution_count": 36,
   "metadata": {},
   "outputs": [],
   "source": [
    "def build_person (first_name,last_name ):\n",
    "    \"\"\"to return a dictionary\"\"\"\n",
    "    person={'first_name': first_name,'last_name': last_name}\n",
    "    return person\n",
    "# musician= build_person( ' Jame' , 'Anderson')\n",
    "# print (musician)"
   ]
  },
  {
   "cell_type": "code",
   "execution_count": 38,
   "metadata": {},
   "outputs": [
    {
     "data": {
      "text/plain": [
       "{'first_name': 'kyu', 'last_name': 'yio'}"
      ]
     },
     "execution_count": 38,
     "metadata": {},
     "output_type": "execute_result"
    }
   ],
   "source": [
    "#output as dictionary\n",
    "build_person('kyu' , 'yio')"
   ]
  },
  {
   "cell_type": "code",
   "execution_count": 5,
   "metadata": {},
   "outputs": [
    {
     "data": {
      "text/plain": [
       "'Hi  Lo'"
      ]
     },
     "execution_count": 5,
     "metadata": {},
     "output_type": "execute_result"
    }
   ],
   "source": [
    "get_fromatted_name('hi','lo')"
   ]
  },
  {
   "cell_type": "markdown",
   "metadata": {},
   "source": [
    "Using while loop"
   ]
  },
  {
   "cell_type": "code",
   "execution_count": null,
   "metadata": {},
   "outputs": [],
   "source": [
    "def get_formatted_name(first_name, last_name):\n",
    "    full_name=f\"{first_name} {last_name}\"\n",
    "    return full_name.title()\n",
    "while True:\n",
    "    print(\"Tell me your name:\")\n",
    "    print(\"write 'q' to close it \")\n",
    "\n",
    "    f=input (\"first name :  \")\n",
    "    if f =='q':\n",
    "        break\n",
    "    l=input (\"last name :  \")\n",
    "    if l=='q' :\n",
    "        break\n",
    "    formatted_name = get_formatted_name(f , l)\n",
    "    print (f\"Hellow ,{formatted_name}\")"
   ]
  },
  {
   "cell_type": "markdown",
   "metadata": {},
   "source": [
    "#8.6  City Names: Write a function called city_country() that takes in the name \n",
    "of a city and its country. The function should return a string formatted like this:\n",
    " \"Santiago, Chile\"\n",
    "Call your function with at least three city-country pairs, and print the values \n",
    "that are returned"
   ]
  },
  {
   "cell_type": "code",
   "execution_count": 4,
   "metadata": {},
   "outputs": [
    {
     "name": "stdout",
     "output_type": "stream",
     "text": [
      "New Yo,United Sta\n",
      "New Y,United St\n",
      "New ,United S\n"
     ]
    }
   ],
   "source": [
    "def city_country(city ,country):\n",
    "    \n",
    "    return f\"{city.title()},{country.title()}\"\n",
    "print(city_country(\"New yo\", \"united sta\"))\n",
    "print(city_country(\"New y\", \"united st\"))\n",
    "print(city_country(\"New \", \"united s\"))\n",
    "\n",
    "    "
   ]
  },
  {
   "cell_type": "code",
   "execution_count": 6,
   "metadata": {},
   "outputs": [
    {
     "data": {
      "text/plain": [
       "'Santiago, Chile\"'"
      ]
     },
     "execution_count": 6,
     "metadata": {},
     "output_type": "execute_result"
    }
   ],
   "source": [
    "city_country('\"Santiago', ' Chile\"')\n"
   ]
  },
  {
   "cell_type": "markdown",
   "metadata": {},
   "source": [
    "# 8-7. Album Dictionary Builder\n",
    "\n",
    "### Write a function called make_album() that builds a dictionary describing a music album. The function should take in an artist name and an album title, and it should return a dictionary containing these two pieces of information. Use the function to make three dictionaries representing different albums. Print each return value to show that the dictionaries are storing the album information correctly.Use None to add an optional parameter to make_album() that allows you to store the number of songs on an album. If the calling line includes a value for the number of songs, add that value to the album’s dictionary. Make at least one new function call that includes the number of songs on an album."
   ]
  },
  {
   "cell_type": "code",
   "execution_count": 10,
   "metadata": {},
   "outputs": [
    {
     "name": "stdout",
     "output_type": "stream",
     "text": [
      "{'artist': 'ed', 'title': 'midnight', 'song': '43'}\n",
      "{'artist': 'edsh', 'title': 'phot', 'song': None}\n",
      "{'artist': 'kuha', 'title': 'kir', 'song': '31'}\n"
     ]
    }
   ],
   "source": [
    "def make_album( artist_name,album_title,songs=None) :\n",
    "    diff_album= {'artist': artist_name,'title': album_title , 'song': songs}\n",
    "    return diff_album \n",
    "print(make_album ('ed','midnight','43'))\n",
    "print(make_album('edsh','phot'))\n",
    "print(make_album('kuha','kir','31'))\n",
    "\n"
   ]
  },
  {
   "cell_type": "markdown",
   "metadata": {},
   "source": [
    "###8-8. User Albums: Start with your program from Exercise 8-7. Write a while \n",
    "loop that allows users to enter an album’s artist and title. Once you have that \n",
    "information, call make_album() with the user’s input and print the dictionary \n",
    "that’s created. Be sure to include a quit value in the while loop."
   ]
  },
  {
   "cell_type": "code",
   "execution_count": 19,
   "metadata": {},
   "outputs": [
    {
     "name": "stdout",
     "output_type": "stream",
     "text": [
      "\n",
      "enter album information\n",
      "enter q to quit\n",
      "{'artist': 'u', 'title': 'i', 'song': '9'}\n",
      "\n",
      "enter album information\n",
      "enter q to quit\n",
      "{'artist': 'j', 'title': 'j', 'song': ''}\n",
      "\n",
      "enter album information\n",
      "enter q to quit\n",
      "{'artist': 'o', 'title': 'h', 'song': 'j'}\n",
      "\n",
      "enter album information\n",
      "enter q to quit\n",
      "{'artist': 'j', 'title': 'j', 'song': 'j'}\n",
      "\n",
      "enter album information\n",
      "enter q to quit\n"
     ]
    }
   ],
   "source": [
    "def make_album( artist,title,song=None) :\n",
    "    diff_album= {'artist': artist,'title': title , 'song': song}\n",
    "    return diff_album \n",
    "\n",
    "\n",
    "while True:\n",
    "    print(\"\\nenter album information\")\n",
    "    print(\"enter q to quit\")\n",
    "    artist=input(\"Artist name :  \")\n",
    "    if artist == 'q':\n",
    "        break\n",
    "    title = input(\"title track :  \")\n",
    "    if title == 'q':\n",
    "        break\n",
    "    song = input( \"song number  :  \")\n",
    "    if song == 'q':\n",
    "        break\n",
    "    diff_album = make_album (artist,title,song)\n",
    "    print (diff_album)\n",
    "    "
   ]
  },
  {
   "cell_type": "code",
   "execution_count": 3,
   "metadata": {},
   "outputs": [
    {
     "name": "stdout",
     "output_type": "stream",
     "text": [
      "hello , Xu\n",
      "hello , Ty\n",
      "hello , Wz\n"
     ]
    }
   ],
   "source": [
    "def greet_users(names):\n",
    "    for name in names:\n",
    "        msg=f\"hello , {name.title()}\"\n",
    "        print(msg)\n",
    "usernames= ['xu','ty','wz']\n",
    "greet_users(usernames)"
   ]
  },
  {
   "cell_type": "code",
   "execution_count": 22,
   "metadata": {},
   "outputs": [
    {
     "name": "stdout",
     "output_type": "stream",
     "text": [
      " bests are pop\n",
      " bests are RnB\n",
      " bests are rock\n"
     ]
    }
   ],
   "source": [
    "def songs(songss):\n",
    "    for melody in songss :\n",
    "        music= f\" bests are {melody}\"\n",
    "        print(music)\n",
    "\n",
    "various_melo= ['pop','RnB', 'rock']\n",
    "songs(various_melo)"
   ]
  },
  {
   "cell_type": "markdown",
   "metadata": {},
   "source": [
    "### 8.9 ---------TIY------------ ###"
   ]
  },
  {
   "cell_type": "code",
   "execution_count": 10,
   "metadata": {},
   "outputs": [
    {
     "name": "stdout",
     "output_type": "stream",
     "text": [
      " this are the messages :  Hi\n",
      " this are the messages :  Hellow\n",
      " this are the messages :  What\n"
     ]
    }
   ],
   "source": [
    "def show_messages(show_msg) :\n",
    "    \"\"\" containing series of texts\"\"\"\n",
    "    for imessage in show_msg:\n",
    "        print (f\" this are the messages :  {imessage}\")\n",
    "\n",
    "messages= ['Hi','Hellow','What']\n",
    "show_messages(messages)"
   ]
  },
  {
   "cell_type": "markdown",
   "metadata": {},
   "source": [
    "### 8-10. Sending Messages: Start with a copy of your program from Exercise 8-9. \n",
    "Write a function called send_messages() that prints each text message and \n",
    "moves each message to a new list called sent_messages as it’s printed. After \n",
    "calling the function, print both of your lists to make sure the messages were \n",
    "moved correctly."
   ]
  },
  {
   "cell_type": "code",
   "execution_count": 19,
   "metadata": {},
   "outputs": [
    {
     "name": "stdout",
     "output_type": "stream",
     "text": [
      "send messages : What\n",
      "send messages : Hellow\n",
      "send messages : Hi\n",
      "Sent messages list: ['What', 'Hellow', 'Hi']\n"
     ]
    }
   ],
   "source": [
    "def send_messages(show_msg,sent_messages) :\n",
    "    \"\"\" containing series of texts\"\"\"\n",
    "    while show_msg :\n",
    "        current_messages= show_msg.pop()\n",
    "        print(f\"send messages : {current_messages}\")\n",
    "        sent_messages.append(current_messages)\n",
    "\n",
    "\n",
    "\n",
    "\n",
    "show_msg= ['Hi','Hellow','What']\n",
    "sent_messages =[]\n",
    "\n",
    "send_messages(show_msg,sent_messages)\n",
    "\n",
    "\n",
    "#print(\"\\nOriginal messages list (should be empty):\", show_msg)[to verify]\n",
    "print(\"Sent messages list:\", sent_messages)"
   ]
  },
  {
   "cell_type": "markdown",
   "metadata": {},
   "source": [
    "### 8-11. Archived Messages: Start with your work from Exercise 8-10. Call the function send_messages() with a copy of the list of messages. After calling the function, print both of your lists to show that the original list has retained its messages."
   ]
  },
  {
   "cell_type": "code",
   "execution_count": 6,
   "metadata": {},
   "outputs": [
    {
     "name": "stdout",
     "output_type": "stream",
     "text": [
      "send messages : What\n",
      "send messages : Hellow\n",
      "send messages : Hi\n",
      "\n",
      "Original messages list : ['Hi', 'Hellow', 'What']\n",
      "Sent messages list: ['What', 'Hellow', 'Hi']\n"
     ]
    }
   ],
   "source": [
    "def send_messages(show_msg,sent_messages) :\n",
    "    \"\"\" containing series of texts\"\"\"\n",
    "    while show_msg :\n",
    "        current_messages= show_msg.pop()\n",
    "        print(f\"send messages : {current_messages}\")\n",
    "        sent_messages.append(current_messages)\n",
    "\n",
    "\n",
    "\n",
    "\n",
    "show_msg= ['Hi','Hellow','What']\n",
    "sent_messages =[]\n",
    "\n",
    "send_messages(show_msg[:],sent_messages)\n",
    "\n",
    "\n",
    "print(\"\\nOriginal messages list :\", show_msg)\n",
    "print(\"Sent messages list:\", sent_messages)"
   ]
  },
  {
   "cell_type": "markdown",
   "metadata": {},
   "source": [
    "### Passing arbitrary number"
   ]
  },
  {
   "cell_type": "code",
   "execution_count": null,
   "metadata": {},
   "outputs": [],
   "source": []
  },
  {
   "cell_type": "code",
   "execution_count": 2,
   "metadata": {},
   "outputs": [
    {
     "name": "stdout",
     "output_type": "stream",
     "text": [
      "('pepperoni',)\n",
      "('papad', 'kholachapri', 'chilli')\n"
     ]
    }
   ],
   "source": [
    "def make_pizza(*toppings) :\n",
    "    \"\"\"print the toppings that have been requested\"\"\"\n",
    "    print(toppings)\n",
    "make_pizza('pepperoni')\n",
    "make_pizza('papad','kholachapri','chilli')"
   ]
  },
  {
   "cell_type": "markdown",
   "metadata": {},
   "source": [
    "### loopin thorugh the added items\n"
   ]
  },
  {
   "cell_type": "code",
   "execution_count": 11,
   "metadata": {},
   "outputs": [
    {
     "name": "stdout",
     "output_type": "stream",
     "text": [
      "\n",
      "making pizza with the following toppings :  \n",
      "--pepperoni\n",
      "\n",
      "making pizza with the following toppings :  \n",
      "--papad\n",
      "--kholachapri\n",
      "--chilli\n"
     ]
    }
   ],
   "source": [
    "def make_pizza(*toppings) :\n",
    "    \"\"\"print the toppings that have been requested\"\"\"\n",
    "    print(\"\\nmaking pizza with the following toppings :  \")\n",
    "    for toping in toppings:\n",
    "            print(f\"--{toping}\")\n",
    "make_pizza('pepperoni')\n",
    "make_pizza('papad','kholachapri','chilli')"
   ]
  },
  {
   "cell_type": "markdown",
   "metadata": {},
   "source": [
    "### MIxing Positional and arbitrary Arguments"
   ]
  },
  {
   "cell_type": "code",
   "execution_count": 22,
   "metadata": {},
   "outputs": [
    {
     "name": "stdout",
     "output_type": "stream",
     "text": [
      " 12 runs with   : \n",
      "- square drive shot\n",
      "- scoop shot\n",
      " 16 runs with   : \n",
      "- straight drive shot\n"
     ]
    }
   ],
   "source": [
    "def match(runs, *shot) :\n",
    "    print (f\" {runs} runs with   : \")\n",
    "    for score in shot :\n",
    "        print (f\"- {score} shot\")\n",
    "match(12,'square drive','scoop')\n",
    "match( 16 ,'straight drive')\n",
    "\n"
   ]
  },
  {
   "cell_type": "markdown",
   "metadata": {},
   "source": [
    "### Using arbritary  keyword Arguments"
   ]
  },
  {
   "cell_type": "code",
   "execution_count": 26,
   "metadata": {},
   "outputs": [
    {
     "name": "stdout",
     "output_type": "stream",
     "text": [
      "{'location': 'princeton', 'field': 'physics', 'significant_contri': 'E=mc^2', 'first_name': 'albert', ' last_name': 'einstein'}\n"
     ]
    }
   ],
   "source": [
    "def build_profile(first,last , **user_info):\n",
    "    user_info ['first_name'] = first\n",
    "    user_info[ ' last_name'] = last  \n",
    "    return user_info\n",
    "user_profile= build_profile('albert','einstein',\n",
    "                            location = 'princeton',\n",
    "                            field ='physics',\n",
    "                            significant_contri='E=mc^2')\n",
    "print(user_profile)\n"
   ]
  },
  {
   "cell_type": "markdown",
   "metadata": {},
   "source": [
    "### 8-12. Sandwiches: Write a function that accepts a list of items a person wants on a sandwich. The function should have one parameter that collects as many items as the function call provides, and it should print a summary of the sandwich that’s being ordered. Call the function three times, using a different number of arguments each time."
   ]
  },
  {
   "cell_type": "code",
   "execution_count": 33,
   "metadata": {},
   "outputs": [
    {
     "name": "stdout",
     "output_type": "stream",
     "text": [
      "You like to have this items in your sandwich\n",
      " - tomato \n",
      " - chese \n",
      "You like to have this items in your sandwich\n",
      " -  spinach \n",
      "You like to have this items in your sandwich\n",
      " - double bread \n"
     ]
    }
   ],
   "source": [
    "def sandwiches(*args) :\n",
    "    print (f\"You like to have this items in your sandwich\")\n",
    "    for order in args:\n",
    "        print (f\" - {order} \")\n",
    "sandwiches('tomato','chese')\n",
    "sandwiches (' spinach')\n",
    "sandwiches('double bread')"
   ]
  },
  {
   "cell_type": "markdown",
   "metadata": {},
   "source": [
    "### 8-13. User Profile: Start with a copy of user_profile.py from page 148. Build a profile of yourself by calling build_profile(), using your first and last names and three other key-value pairs that describe you"
   ]
  },
  {
   "cell_type": "code",
   "execution_count": 32,
   "metadata": {},
   "outputs": [
    {
     "name": "stdout",
     "output_type": "stream",
     "text": [
      "{'location': 'standford', 'field': 'data science', 'significance': 'versatile', 'first_name': 'Hirak', ' last_name': 'david'}\n"
     ]
    }
   ],
   "source": [
    "def build_profile(first,last , **user_info):\n",
    "    user_info ['first_name'] = first\n",
    "    user_info[ ' last_name'] = last  \n",
    "    return user_info\n",
    "user_profile= build_profile('Hirak','david',\n",
    "                            location = 'standford',\n",
    "                            field ='data science',\n",
    "                            significance='versatile')\n",
    "\n",
    "print(user_profile)"
   ]
  },
  {
   "cell_type": "markdown",
   "metadata": {},
   "source": [
    "8-14. Cars: Write a function that stores information about a car in a diction\n",
    "ary. The function should always receive a manufacturer and a model name. It \n",
    "should then accept an arbitrary number of keyword arguments. Call the func\n",
    "tion with the required information and two other name-value pairs, such as a \n",
    "color or an optional feature. Your function should work for a call like this one:\n",
    "### car = make_car('subaru', 'outback', color='blue', tow_package=True)\n",
    " Print the dictionary that’s returned to make sure all the information was \n",
    "stored correctly."
   ]
  },
  {
   "cell_type": "code",
   "execution_count": 42,
   "metadata": {},
   "outputs": [
    {
     "name": "stdout",
     "output_type": "stream",
     "text": [
      "{'color': 'blue', 'tow_package': True, 'car_info': 'subaru', 'car_fanufacturer': 'outback'}\n"
     ]
    }
   ],
   "source": [
    "def cars( car_info , car_manufacturer, **information) :\n",
    "    \"\"\"here this struture converts data into dictionary\"\"\"\n",
    "    information['car_info'] = car_info\n",
    "    information['car_manufacturer'] = car_manufacturer\n",
    "    return information \n",
    "car = cars( 'subaru','outback',color='blue',tow_package=True)\n",
    "print(car)"
   ]
  },
  {
   "cell_type": "code",
   "execution_count": 43,
   "metadata": {},
   "outputs": [
    {
     "name": "stdout",
     "output_type": "stream",
     "text": [
      "{'color': 'blue', 'ram': '256gb', 'rom': '256gb', 'model': 'samsung ', 'series': 's24'}\n"
     ]
    }
   ],
   "source": [
    "def mobiles(model,series ,**kwrgs) :\n",
    "    kwrgs['model'] = model\n",
    "    kwrgs['series'] = series\n",
    "    return kwrgs \n",
    "phone = mobiles('samsung ', 's24', color ='blue',ram='256gb',rom='256gb')\n",
    "print(phone)"
   ]
  },
  {
   "cell_type": "markdown",
   "metadata": {},
   "source": [
    "to import all the fucntion from a module"
   ]
  },
  {
   "cell_type": "code",
   "execution_count": null,
   "metadata": {},
   "outputs": [],
   "source": [
    "from collections import *\n"
   ]
  }
 ],
 "metadata": {
  "kernelspec": {
   "display_name": "Python 3",
   "language": "python",
   "name": "python3"
  },
  "language_info": {
   "codemirror_mode": {
    "name": "ipython",
    "version": 3
   },
   "file_extension": ".py",
   "mimetype": "text/x-python",
   "name": "python",
   "nbconvert_exporter": "python",
   "pygments_lexer": "ipython3",
   "version": "3.11.4"
  }
 },
 "nbformat": 4,
 "nbformat_minor": 2
}
