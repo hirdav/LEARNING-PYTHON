{
 "cells": [
  {
   "cell_type": "code",
   "execution_count": 4,
   "metadata": {},
   "outputs": [
    {
     "name": "stdout",
     "output_type": "stream",
     "text": [
      "\n",
      "Hello, Hello!\n"
     ]
    }
   ],
   "source": [
    "name = input(\"Please enter your name: \")\n",
    "print(f\"\\nHello, {name}!\")\n",
    "\n",
    "\n",
    "\n",
    "\n"
   ]
  },
  {
   "cell_type": "code",
   "execution_count": 5,
   "metadata": {},
   "outputs": [
    {
     "name": "stdout",
     "output_type": "stream",
     "text": [
      "\n",
      "Hello, Hidi!\n"
     ]
    }
   ],
   "source": [
    "prompt = \"If you share your name, we can personalize the messages you see.\"\n",
    "prompt += \"\\nWhat is your first name? \"\n",
    "name = input(prompt)\n",
    "print(f\"\\nHello, {name}!\")"
   ]
  },
  {
   "cell_type": "code",
   "execution_count": 3,
   "metadata": {},
   "outputs": [
    {
     "name": "stdout",
     "output_type": "stream",
     "text": [
      "{'FB', 'GOOGLE', 'bong', 'beer', 'AAPL', 'jin'}\n",
      "{'bong', 'beer', 'jin'}\n"
     ]
    }
   ],
   "source": [
    "UNIVERSE={'AAPL','GOOGLE', 'FB'}\n",
    "# UNIVERSE.clear()\n",
    "# print(UNIVERSE)\n",
    "\n",
    "unibars={'bong', 'FB','beer','jin'}\n",
    "\n",
    "# newverse= UNIVERSE.union(unibars)\n",
    "# print(newverse)\n",
    "\n",
    "# newverse= UNIVERSE.intersection(unibars)\n",
    "# print(newverse)\n",
    "\n",
    "newverse= UNIVERSE.union(unibars)\n",
    "print(newverse)\n",
    "\n",
    "newverse= unibars.difference(UNIVERSE)\n",
    "print(newverse)"
   ]
  },
  {
   "cell_type": "code",
   "execution_count": 16,
   "metadata": {},
   "outputs": [
    {
     "name": "stdout",
     "output_type": "stream",
     "text": [
      "allowed\n"
     ]
    }
   ],
   "source": [
    "age=input(\"what\")\n",
    "age=int(age)\n",
    "if age >=18 :\n",
    "    print(\"allowed\")\n",
    "else :\n",
    "    print(\"not allowing\")\n",
    "\n"
   ]
  },
  {
   "cell_type": "code",
   "execution_count": 20,
   "metadata": {},
   "outputs": [],
   "source": [
    "current_number= 1\n",
    "while current_number >=5 :\n",
    "print(current_number)\n",
    "current_number += 1"
   ]
  },
  {
   "cell_type": "code",
   "execution_count": null,
   "metadata": {},
   "outputs": [],
   "source": [
    "age=input(\"what\")\n",
    "age=int(age)\n",
    "if age >=18 :\n",
    "    print(\"allowed\")\n",
    "else :\n",
    "    print(\"not allowing\")\n",
    "\n"
   ]
  },
  {
   "cell_type": "code",
   "execution_count": 26,
   "metadata": {},
   "outputs": [
    {
     "name": "stdout",
     "output_type": "stream",
     "text": [
      "bad car\n",
      "hu is not so good to drive\n"
     ]
    }
   ],
   "source": [
    "\n",
    "your_car= input(\" what car do you drive to work  ?\")\n",
    "\n",
    "if your_car==\"maruti\":\n",
    "    print(\"great car\")\n",
    "    print (f\"{your_car} is best to drive\")\n",
    "else:\n",
    "    print(\"bad car\")\n",
    "    print (f\"{your_car} is not so good to drive\")\n",
    "\n",
    "\n"
   ]
  },
  {
   "cell_type": "code",
   "execution_count": 27,
   "metadata": {},
   "outputs": [
    {
     "name": "stdout",
     "output_type": "stream",
     "text": [
      "bad car\n",
      "man is best to drive\n"
     ]
    }
   ],
   "source": [
    "#another way of code\n",
    "print(\"great car\" if input(\"What car do you drive to work? \") == \"maruti\" else \"bad car\")\n",
    "print(f\"{input('What car do you drive to work? ')} is {'best' if input('What car do you drive to work? ') == 'maruti' else 'not so good'} to drive\")"
   ]
  }
 ],
 "metadata": {
  "kernelspec": {
   "display_name": "Python 3",
   "language": "python",
   "name": "python3"
  },
  "language_info": {
   "codemirror_mode": {
    "name": "ipython",
    "version": 3
   },
   "file_extension": ".py",
   "mimetype": "text/x-python",
   "name": "python",
   "nbconvert_exporter": "python",
   "pygments_lexer": "ipython3",
   "version": "3.11.4"
  }
 },
 "nbformat": 4,
 "nbformat_minor": 2
}
