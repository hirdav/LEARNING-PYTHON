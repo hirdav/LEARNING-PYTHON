{
 "cells": [
  {
   "cell_type": "code",
   "execution_count": 4,
   "metadata": {},
   "outputs": [
    {
     "name": "stdout",
     "output_type": "stream",
     "text": [
      "\n",
      "Hello, Hello!\n"
     ]
    }
   ],
   "source": [
    "name = input(\"Please enter your name: \")\n",
    "print(f\"\\nHello, {name}!\")\n",
    "\n",
    "\n",
    "\n",
    "\n"
   ]
  },
  {
   "cell_type": "code",
   "execution_count": 3,
   "metadata": {},
   "outputs": [
    {
     "name": "stdout",
     "output_type": "stream",
     "text": [
      "{'FB', 'GOOGLE', 'bong', 'beer', 'AAPL', 'jin'}\n",
      "{'bong', 'beer', 'jin'}\n"
     ]
    }
   ],
   "source": [
    "UNIVERSE={'AAPL','GOOGLE', 'FB'}\n",
    "# UNIVERSE.clear()\n",
    "# print(UNIVERSE)\n",
    "\n",
    "unibars={'bong', 'FB','beer','jin'}\n",
    "\n",
    "# newverse= UNIVERSE.union(unibars)\n",
    "# print(newverse)\n",
    "\n",
    "# newverse= UNIVERSE.intersection(unibars)\n",
    "# print(newverse)\n",
    "\n",
    "newverse= UNIVERSE.union(unibars)\n",
    "print(newverse)\n",
    "\n",
    "newverse= unibars.difference(UNIVERSE)\n",
    "print(newverse)"
   ]
  },
  {
   "cell_type": "code",
   "execution_count": 16,
   "metadata": {},
   "outputs": [
    {
     "name": "stdout",
     "output_type": "stream",
     "text": [
      "allowed\n"
     ]
    }
   ],
   "source": [
    "age=input(\"what\")\n",
    "age=int(age)\n",
    "if age >=18 :\n",
    "    print(\"allowed\")\n",
    "else :\n",
    "    print(\"not allowing\")\n",
    "\n"
   ]
  },
  {
   "cell_type": "code",
   "execution_count": 20,
   "metadata": {},
   "outputs": [],
   "source": [
    "current_number= 1\n",
    "while current_number >=5 :\n",
    "print(current_number)\n",
    "current_number += 1"
   ]
  },
  {
   "cell_type": "code",
   "execution_count": null,
   "metadata": {},
   "outputs": [],
   "source": [
    "age=input(\"what\")\n",
    "age=int(age)\n",
    "if age >=18 :\n",
    "    print(\"allowed\")\n",
    "else :\n",
    "    print(\"not allowing\")\n",
    "\n"
   ]
  },
  {
   "cell_type": "markdown",
   "metadata": {},
   "source": [
    "7.1 \n",
    "Rental Car: Write a program that asks the user what kind of rental car they \n",
    "would like. Print a message about that car, such as “Let me see if I can find you \n",
    "a Subaru.”"
   ]
  },
  {
   "cell_type": "code",
   "execution_count": 35,
   "metadata": {},
   "outputs": [
    {
     "name": "stdout",
     "output_type": "stream",
     "text": [
      "jaguar is bad a car\n",
      "jaguar is not so good to drive\n"
     ]
    }
   ],
   "source": [
    "\n",
    "your_car= input(\" what car do you drive to work  ?\")\n",
    "\n",
    "if your_car==\"maruti\":\n",
    "    print(f\"{your_car}great car\")\n",
    "    print (f\"{your_car} is best to drive\")\n",
    "else:\n",
    "    print(f\"{your_car} is bad a car\")\n",
    "    print (f\"{your_car} is not so good to drive\")\n",
    "\n",
    "\n"
   ]
  },
  {
   "cell_type": "code",
   "execution_count": 31,
   "metadata": {},
   "outputs": [
    {
     "name": "stdout",
     "output_type": "stream",
     "text": [
      "bad car\n",
      "mar is not so good to drive\n"
     ]
    }
   ],
   "source": [
    "#another way TO code\n",
    "print(\"great car\" if input(\"What car do you drive to work? \") == \"maruti\" else \"bad car\")\n",
    "print(f\"{input('What car do you drive to work? ')} is {'best' if input('What car do you drive to work? ') == 'maruti' else 'not so good'} to drive\")"
   ]
  },
  {
   "cell_type": "markdown",
   "metadata": {},
   "source": [
    "7.2\n",
    "Restaurant Seating : Write a program that asks the user how many people \n",
    "are in their dinner group. If the answer is more than eight, print a message say\n",
    "ing they’ll have to wait for a table. Otherwise, report that their table is ready"
   ]
  },
  {
   "cell_type": "code",
   "execution_count": 50,
   "metadata": {},
   "outputs": [
    {
     "name": "stdout",
     "output_type": "stream",
     "text": [
      "Kindly wait for your table to be ready\n",
      "Thank you for visiting us\n"
     ]
    }
   ],
   "source": [
    "people = input('How many friends in your group')\n",
    "people =  int(people) #if string  as a input then str (input)\n",
    "if people >=8 : \n",
    "        print(\"Kindly wait for your table to be ready\")\n",
    "elif people<=8 :\n",
    "        print (\"your table is ready\")\n",
    "else :\n",
    "        print(\" today all tables are taken\")\n",
    "        \n",
    "print (\"Thank you for visiting us\")"
   ]
  },
  {
   "cell_type": "markdown",
   "metadata": {},
   "source": [
    "7-3. \n",
    "Multiples of Ten: Ask the user for a number, and then report whether the \n",
    "number is a multiple of 10 or not."
   ]
  },
  {
   "cell_type": "code",
   "execution_count": 54,
   "metadata": {},
   "outputs": [
    {
     "name": "stdout",
     "output_type": "stream",
     "text": [
      "Yes. 250 is multiple of 10 ! \n"
     ]
    }
   ],
   "source": [
    "number=input('lets check this number is multiple of 10 or not ! lets find out')\n",
    "number= int(number)\n",
    "if number % 10 == 0:\n",
    "    print (f\"Yes. {number} is multiple of 10 ! \")\n",
    "else :\n",
    "    print(f\"{number} is not multiple of 10 !\")\n"
   ]
  },
  {
   "cell_type": "code",
   "execution_count": null,
   "metadata": {},
   "outputs": [],
   "source": [
    "curr_num = -5\n",
    "while curr_num <=5:\n",
    "    print(curr_num)\n",
    "    curr_num +=1"
   ]
  },
  {
   "cell_type": "code",
   "execution_count": 3,
   "metadata": {},
   "outputs": [
    {
     "name": "stdout",
     "output_type": "stream",
     "text": [
      "6\n",
      "7\n",
      "8\n",
      "9\n",
      "10\n"
     ]
    }
   ],
   "source": [
    "target_n = int(input(\"Guess a number between 1-10 to loop until it reaches: \"))\n",
    "\n",
    "while target_n <= 10:\n",
    "    print(target_n)\n",
    "    target_n += 1"
   ]
  },
  {
   "cell_type": "code",
   "execution_count": 10,
   "metadata": {},
   "outputs": [
    {
     "name": "stdout",
     "output_type": "stream",
     "text": [
      " \n",
      " quit\n"
     ]
    }
   ],
   "source": [
    "prompt = \"tell me something and I ll repeat with you\"\n",
    "\n",
    "name = \"   \"\n",
    "while name != 'quit' :\n",
    "    name = input (prompt)\n",
    "    print(f\" {name}\")\n",
    "    "
   ]
  },
  {
   "cell_type": "code",
   "execution_count": 1,
   "metadata": {},
   "outputs": [
    {
     "name": "stdout",
     "output_type": "stream",
     "text": [
      "hirak\n",
      "hirakkok\n"
     ]
    }
   ],
   "source": [
    "prompt= \" enter your name and your friends name and when you finished naming your freinds type 'quit' !! \"\n",
    "\n",
    "name = \"\"\n",
    "while name != 'quit':\n",
    "    name = input(prompt)\n",
    "   \n",
    "    if name != 'quit':\n",
    "        print (name)"
   ]
  },
  {
   "cell_type": "code",
   "execution_count": 7,
   "metadata": {},
   "outputs": [
    {
     "name": "stdout",
     "output_type": "stream",
     "text": [
      "hunkokokoko\n",
      "itvhitihivi\n",
      "short cutt tgf\n"
     ]
    }
   ],
   "source": [
    "prompt = \"start a game , just name anything when you are done just type quit\"\n",
    "active = True\n",
    "while  active:\n",
    "        message = input (prompt)\n",
    "        if message == 'quit' :\n",
    "                active =False \n",
    "        else:\n",
    "                print(message)"
   ]
  },
  {
   "cell_type": "code",
   "execution_count": null,
   "metadata": {},
   "outputs": [],
   "source": [
    "prompt = \" enter your frinds name\"\n",
    "\n",
    "while True :\n",
    "    friends = input(prompt)\n",
    "    if friends == 'quit':\n",
    "        break \n",
    "    else :\n",
    "        print(f\" my frinds names are {friends.upper()}\")"
   ]
  },
  {
   "cell_type": "markdown",
   "metadata": {},
   "source": [
    "Write a chatbot program where the user can:\n",
    "\n",
    "Choose between topics (like weather, sports, or news).\n",
    "Once they choose a topic, engage in a conversation about that topic, where the conversation continues until they type \"quit.\"\n",
    "After the conversation ends, the bot will repeatedly ask for feedback (e.g., \"How was your experience?\") until the user types \"quit.\"\n",
    "This structure will let you use all three variations of the while loop with input in a single program. Here's an outline of how it could work:"
   ]
  },
  {
   "cell_type": "code",
   "execution_count": null,
   "metadata": {},
   "outputs": [],
   "source": [
    "# 1st loop: Asking the user to choose a topic\n",
    "active = True\n",
    "while active:\n",
    "    prompt = \"\\nChoose a topic to discuss (weather, sports, news):\"\n",
    "    prompt += \"\\nEnter 'quit' to end the program. \"\n",
    "    topic = input(prompt)\n",
    "    \n",
    "    if topic == 'quit':\n",
    "        active = False\n",
    "    elif topic in ['weather', 'sports', 'news']:\n",
    "        print(f\"\\nYou chose {topic}. Let's discuss!\")\n",
    "        \n",
    "        # 2nd loop: Simulate a conversation about the chosen topic\n",
    "        message = \"\"\n",
    "        while message != 'quit':\n",
    "            prompt = f\"\\nAsk me something about {topic}:\"\n",
    "            prompt += \"\\nEnter 'quit' to go back. \"\n",
    "            message = input(prompt)\n",
    "            \n",
    "            if message != 'quit':\n",
    "                print(f\"Interesting question about {topic}: {message}\")\n",
    "        \n",
    "        # After the conversation ends, now ask for feedback.\n",
    "        feedback = \"\"\n",
    "        while feedback != 'quit':\n",
    "            feedback_prompt = \"\\nHow was your experience? Type 'quit' to finish feedback.\"\n",
    "            feedback = input(feedback_prompt)\n",
    "            \n",
    "            if feedback != 'quit':\n",
    "                print(f\"Thanks for your feedback: {feedback}\")\n",
    "    else:\n",
    "        print(\"Invalid topic, please choose again.\")\n"
   ]
  },
  {
   "cell_type": "code",
   "execution_count": null,
   "metadata": {},
   "outputs": [],
   "source": [
    "cur_n= 0 \n",
    "while cur_n <50 :\n",
    "    cur_n += 1\n",
    "    if cur_n %3 == 0 :\n",
    "        continue    \n",
    "        \n",
    "    print(cur_n)"
   ]
  },
  {
   "cell_type": "markdown",
   "metadata": {},
   "source": [
    "7-4. Pizza Toppings: \n",
    "Write a loop that prompts the user to enter a series of \n",
    "pizza toppings until they enter a 'quit' value. As they enter each topping, print \n",
    "a message saying you’ll add that topping to their pizza"
   ]
  },
  {
   "cell_type": "code",
   "execution_count": null,
   "metadata": {},
   "outputs": [],
   "source": [
    "top= \" Enter your fav toppings :  \"\n",
    "topp =\"\"\n",
    "while topp != 'quit' :\n",
    "        topp = input(top)\n",
    "        if topp != 'quit':\n",
    "            print (f\" You have entered {topp.lower()} as your fav topings\")  \n",
    "        else :\n",
    "              print (\"Thank You\")"
   ]
  },
  {
   "cell_type": "markdown",
   "metadata": {},
   "source": [
    "7-5. Movie Tickets: A movie theater charges different ticket prices depending on \n",
    "a person’s age. If a person is under the age of 3, the ticket is free; if they are \n",
    "between 3 and 12, the ticket is $10; and if they are over age 12, the ticket is \n",
    "$15. Write a loop in which you ask users their age, and then tell them the cost \n",
    "of their movie ticket."
   ]
  },
  {
   "cell_type": "code",
   "execution_count": null,
   "metadata": {},
   "outputs": [],
   "source": [
    "dob =  input(\" Whats your year of birth ? or you can 'quit'\")\n",
    "\n",
    "while True :\n",
    "    \n",
    "    if dob =='quit':\n",
    "        print(\"We're sorry, you backed out \")\n",
    "    elif dob <=3 :\n",
    "        print (\" your ticket price would be free for this evening\")\n",
    "    elif dob <=12 :\n",
    "        print (\" your ticket price would be $10 for this evening\")\n",
    "    else : \n",
    "        print (\" your ticket price would be $15 for this evening\")\n",
    "    print (f\" Thank you for visiting us as you are {dob} yo and have the best eve\")"
   ]
  },
  {
   "cell_type": "code",
   "execution_count": null,
   "metadata": {},
   "outputs": [],
   "source": [
    "unconfirmed_user= ['ao','bui','cuu']\n",
    "confirmed_user = []\n",
    "\n",
    "while unconfirmed_user:\n",
    "    current_user = unconfirmed_user.pop()\n",
    "    print( f\" verifying use : {current_user.title()}\")\n",
    "    confirmed_user.append(current_user)\n",
    "\n",
    "print(\"xyz\")\n",
    "\n",
    "for confirmed_users in confirmed_user:\n",
    "    print(confirmed_users.title())\n"
   ]
  },
  {
   "cell_type": "code",
   "execution_count": 51,
   "metadata": {},
   "outputs": [
    {
     "name": "stdout",
     "output_type": "stream",
     "text": [
      "[' tu', 'rt', 'rt', 'yu']\n",
      "[' tu', 'yu']\n"
     ]
    }
   ],
   "source": [
    "pets= [ ' tu','rt','rt','yu']\n",
    "print(pets)\n",
    "while 'rt' in pets :\n",
    "    pets.remove('rt')\n",
    "\n",
    "print(pets)"
   ]
  },
  {
   "cell_type": "code",
   "execution_count": 52,
   "metadata": {},
   "outputs": [
    {
     "ename": "TypeError",
     "evalue": "'str' object does not support item assignment",
     "output_type": "error",
     "traceback": [
      "\u001b[1;31m---------------------------------------------------------------------------\u001b[0m",
      "\u001b[1;31mTypeError\u001b[0m                                 Traceback (most recent call last)",
      "Cell \u001b[1;32mIn[52], line 6\u001b[0m\n\u001b[0;32m      4\u001b[0m     name\u001b[38;5;241m=\u001b[39m \u001b[38;5;28minput\u001b[39m (\u001b[38;5;124m\"\u001b[39m\u001b[38;5;124mwhat is the player name\u001b[39m\u001b[38;5;124m\"\u001b[39m)\n\u001b[0;32m      5\u001b[0m     his_title\u001b[38;5;241m=\u001b[39m \u001b[38;5;28minput\u001b[39m (\u001b[38;5;124m\"\u001b[39m\u001b[38;5;124mHis title\u001b[39m\u001b[38;5;124m\"\u001b[39m)\n\u001b[1;32m----> 6\u001b[0m     \u001b[43mhis_title\u001b[49m\u001b[43m[\u001b[49m\u001b[43mname\u001b[49m\u001b[43m]\u001b[49m\u001b[38;5;241m=\u001b[39mhis_title\n\u001b[0;32m      7\u001b[0m \u001b[38;5;28mprint\u001b[39m (his_title)\n",
      "\u001b[1;31mTypeError\u001b[0m: 'str' object does not support item assignment"
     ]
    }
   ],
   "source": [
    "player= {}\n",
    "polling_active= True\n",
    "while polling_active :\n",
    "    name= input (\"what is the player name\")\n",
    "    his_title= input (\"His title\")\n",
    "    his_title[name]=his_title"
   ]
  },
  {
   "cell_type": "markdown",
   "metadata": {},
   "source": [
    "7-8. Deli: Make a list called sandwich_orders and fill it with the names of various \n",
    "sandwiches. Then make an empty list called finished_sandwiches. Loop through \n",
    "the list of sandwich orders and print a message for each order, such as I made \n",
    "your tuna sandwich. As each sandwich is made, move it to the list of finished \n",
    "sandwiches. After all the sandwiches have been made, print a message listing \n",
    "each sandwich that was made."
   ]
  },
  {
   "cell_type": "code",
   "execution_count": 73,
   "metadata": {},
   "outputs": [
    {
     "name": "stdout",
     "output_type": "stream",
     "text": [
      "I have made tuna!!\n",
      "I have made mushroom!!\n",
      "I have made margerita!!\n",
      "I have made jalepino!!\n",
      "----finished sandwich------\n",
      "Sandwich tuna made and ready to take \n",
      "Sandwich mushroom made and ready to take \n",
      "Sandwich margerita made and ready to take \n",
      "Sandwich jalepino made and ready to take \n"
     ]
    }
   ],
   "source": [
    "sandwich_order=  ['jalepino','margerita','mushroom','tuna']\n",
    "finished_sandwich=[]\n",
    "while sandwich_order :\n",
    "    ordered= sandwich_order.pop()\n",
    "    print(f\"I have made {ordered}!!\")\n",
    "\n",
    "\n",
    "    finished_sandwich.append(ordered)\n",
    "\n",
    "print(\"----finished sandwich------\")\n",
    "for sandwich_orders in finished_sandwich :\n",
    "    print(f\"Sandwich {sandwich_orders} made and ready to take \")"
   ]
  },
  {
   "cell_type": "markdown",
   "metadata": {},
   "source": [
    "7-9. No Pastrami: Using the list sandwich_orders from Exercise 7-8, make sure \n",
    "the sandwich 'pastrami' appears in the list at least three times. Add code \n",
    "near the beginning of your program to print a message saying the deli has \n",
    "run out of pastrami, and then use a while loop to remove all occurrences of \n",
    "'pastrami' from sandwich_orders. Make sure no pastrami sandwiches end up \n",
    "in finished_sandwiches"
   ]
  },
  {
   "cell_type": "code",
   "execution_count": 75,
   "metadata": {},
   "outputs": [
    {
     "name": "stdout",
     "output_type": "stream",
     "text": [
      "--- Sorry ! We are run out of pastrami\n",
      "I have made tuna!!\n",
      "I have made mushroom!!\n",
      "I have made margerita!!\n",
      "I have made jalepino!!\n",
      "----finished sandwich------\n",
      "Sandwich tuna made and ready to take \n",
      "Sandwich mushroom made and ready to take \n",
      "Sandwich margerita made and ready to take \n",
      "Sandwich jalepino made and ready to take \n"
     ]
    }
   ],
   "source": [
    "sandwich_order=  ['jalepino','pastrami','margerita','pastrami','mushroom','tuna','pastrami']\n",
    "finished_sandwich =[]\n",
    "\n",
    "print(\"--- Sorry ! We are run out of pastrami\")\n",
    "\n",
    "\n",
    "while 'pastrami' in sandwich_order:\n",
    "    sandwich_order.remove('pastrami')\n",
    "while sandwich_order :\n",
    "    ordered= sandwich_order.pop()\n",
    "    print(f\"I have made {ordered}!!\")\n",
    "\n",
    "\n",
    "    finished_sandwich.append(ordered)\n",
    "\n",
    "print(\"----finished sandwich------\")\n",
    "for sandwich_orders in finished_sandwich :\n",
    "    print(f\"Sandwich {sandwich_orders} made and ready to take \")"
   ]
  },
  {
   "cell_type": "markdown",
   "metadata": {},
   "source": [
    "7-10. Dream Vacation: Write a program that polls users about their dream vacation. Write a prompt similar to If you could visit one place in the world, where \n",
    "would you go? Include a block of code that prints the results of the poll."
   ]
  },
  {
   "cell_type": "code",
   "execution_count": null,
   "metadata": {},
   "outputs": [],
   "source": [
    "\n",
    "\n",
    "\n",
    "vacation= input (\" Your dream places to travel:   , type 'quit' if done listing your names \" )\n",
    "fav= input(\" which one is best want to travel earilest  ,\" )\n",
    "\n",
    "\n",
    " \n",
    "\n"
   ]
  }
 ],
 "metadata": {
  "kernelspec": {
   "display_name": "Python 3",
   "language": "python",
   "name": "python3"
  },
  "language_info": {
   "codemirror_mode": {
    "name": "ipython",
    "version": 3
   },
   "file_extension": ".py",
   "mimetype": "text/x-python",
   "name": "python",
   "nbconvert_exporter": "python",
   "pygments_lexer": "ipython3",
   "version": "3.11.4"
  }
 },
 "nbformat": 4,
 "nbformat_minor": 2
}
