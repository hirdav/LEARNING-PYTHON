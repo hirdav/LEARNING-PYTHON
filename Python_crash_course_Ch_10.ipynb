{
 "cells": [
  {
   "cell_type": "markdown",
   "metadata": {},
   "source": [
    "Reading the Contents of a File"
   ]
  },
  {
   "cell_type": "code",
   "execution_count": 4,
   "metadata": {},
   "outputs": [
    {
     "name": "stdout",
     "output_type": "stream",
     "text": [
      "What are the advantages of DBMS over file processing system.\n",
      "\n",
      "\n",
      "The advantages of a Database Management System (DBMS) over a File Processing System are numerous and can be categorized as follows:\n",
      "\n",
      "1. Data Redundancy Control\n",
      "File Processing System: Data is often duplicated across files, leading to redundancy and inconsistency.\n",
      "DBMS: Minimizes redundancy by maintaining a single, centralized database where data can be shared among multiple users and applications.\n",
      "2. Data Integrity\n",
      "File Processing System: Ensuring accuracy and consistency of data across files is challenging and requires manual checks.\n",
      "DBMS: Enforces integrity constraints (e.g., primary keys, foreign keys) to ensure data remains accurate and consistent.\n",
      "3. Data Security\n",
      "File Processing System: Provides minimal data security, with limited access control.\n",
      "DBMS: Offers robust security features, including user authentication and authorization mechanisms, to control who can access or modify the data.\n",
      "4. Data Sharing and Concurrent Access\n",
      "File Processing System: Sharing data between different applications or users is difficult, and concurrency control (multiple users accessing the same file) is often limited or nonexistent.\n",
      "DBMS: Allows multiple users and applications to access and manipulate the data concurrently with proper locking mechanisms to avoid conflicts.\n",
      "5. Backup and Recovery\n",
      "File Processing System: Backups have to be handled manually, and recovery from system failures can be complicated and time-consuming.\n",
      "DBMS: Provides automated backup and recovery features, enabling easier restoration of data in case of hardware or software failure.\n",
      "6. Data Independence\n",
      "File Processing System: Data structures are hardcoded within applications, making changes to data storage difficult and requiring modifications to applications.\n",
      "DBMS: Separates data from the applications, allowing changes to data structure without affecting the overall system or requiring application changes.\n",
      "7. Efficient Query Processing\n",
      "File Processing System: Searching and retrieving data often requires custom, manual coding, leading to inefficiencies.\n",
      "DBMS: Provides high-level query languages (like SQL), enabling efficient and optimized data retrieval and manipulation.\n",
      "8. Reduced Application Development Time\n",
      "File Processing System: Each application typically handles its own data storage and processing, requiring significant time and effort.\n",
      "DBMS: Centralized data management reduces development time by allowing applications to interact with a shared database instead of individual files.\n",
      "9. Data Abstraction\n",
      "File Processing System: Users must understand the internal structure of files to interact with them.\n",
      "DBMS: Provides multiple levels of data abstraction (physical, logical, and view levels) to hide the complexity of how data is stored.\n",
      "10. Transaction Management\n",
      "File Processing System: Lacks built-in transaction management, making it difficult to ensure that multiple related operations either complete entirely or not at all.\n",
      "DBMS: Supports transaction management, ensuring atomicity, consistency, isolation, and durability (ACID properties) in all transactions.\n",
      "11. Centralized Management\n",
      "File Processing System: Each file is managed independently, leading to duplication of effort and inefficiencies.\n",
      "DBMS: Centralizes management of the data, improving administration, monitoring, and tuning of the database.\n",
      "These features make DBMS far more efficient, secure, and scalable than traditional file processing systems.\n",
      "\n",
      "\n",
      "\n",
      "\n",
      "\n",
      "\n"
     ]
    }
   ],
   "source": [
    "from pathlib import Path\n",
    "path=Path('the_advantages_of_DBMS.txt')\n",
    "contents = path.read_text()\n",
    "\n",
    "lines = contents.splitlines()\n",
    "for line in lines :\n",
    "    print (line) "
   ]
  },
  {
   "cell_type": "markdown",
   "metadata": {},
   "source": [
    "to check the library/module present or not"
   ]
  },
  {
   "cell_type": "code",
   "execution_count": null,
   "metadata": {},
   "outputs": [],
   "source": [
    "! pip show numpy"
   ]
  },
  {
   "cell_type": "markdown",
   "metadata": {},
   "source": [
    "to remove extra blank line "
   ]
  },
  {
   "cell_type": "code",
   "execution_count": null,
   "metadata": {},
   "outputs": [],
   "source": [
    "from pathlib import Path\n",
    "path = Path('the_advantages_of_DBMS.txt')\n",
    "contents= contents.rstrip()\n",
    "print(contents)"
   ]
  },
  {
   "cell_type": "code",
   "execution_count": 8,
   "metadata": {},
   "outputs": [],
   "source": [
    "contents= path.read_text().rstrip()"
   ]
  },
  {
   "cell_type": "code",
   "execution_count": 1,
   "metadata": {},
   "outputs": [
    {
     "name": "stdout",
     "output_type": "stream",
     "text": [
      "What are the advantages of DBMS over file processing system.\n",
      "\n",
      "\n",
      "The advantages of a Database Management System (DBMS) over a File Processing System are numerous and can be categorized as follows:\n",
      "\n",
      "1. Data Redundancy Control\n",
      "File Processing System: Data is often duplicated across files, leading to redundancy and inconsistency.\n",
      "DBMS: Minimizes redundancy by maintaining a single, centralized database where data can be shared among multiple users and applications.\n",
      "2. Data Integrity\n",
      "File Processing System: Ensuring accuracy and consistency of data across files is challenging and requires manual checks.\n",
      "DBMS: Enforces integrity constraints (e.g., primary keys, foreign keys) to ensure data remains accurate and consistent.\n",
      "3. Data Security\n",
      "File Processing System: Provides minimal data security, with limited access control.\n",
      "DBMS: Offers robust security features, including user authentication and authorization mechanisms, to control who can access or modify the data.\n",
      "4. Data Sharing and Concurrent Access\n",
      "File Processing System: Sharing data between different applications or users is difficult, and concurrency control (multiple users accessing the same file) is often limited or nonexistent.\n",
      "DBMS: Allows multiple users and applications to access and manipulate the data concurrently with proper locking mechanisms to avoid conflicts.\n",
      "5. Backup and Recovery\n",
      "File Processing System: Backups have to be handled manually, and recovery from system failures can be complicated and time-consuming.\n",
      "DBMS: Provides automated backup and recovery features, enabling easier restoration of data in case of hardware or software failure.\n",
      "6. Data Independence\n",
      "File Processing System: Data structures are hardcoded within applications, making changes to data storage difficult and requiring modifications to applications.\n",
      "DBMS: Separates data from the applications, allowing changes to data structure without affecting the overall system or requiring application changes.\n",
      "7. Efficient Query Processing\n",
      "File Processing System: Searching and retrieving data often requires custom, manual coding, leading to inefficiencies.\n",
      "DBMS: Provides high-level query languages (like SQL), enabling efficient and optimized data retrieval and manipulation.\n",
      "8. Reduced Application Development Time\n",
      "File Processing System: Each application typically handles its own data storage and processing, requiring significant time and effort.\n",
      "DBMS: Centralized data management reduces development time by allowing applications to interact with a shared database instead of individual files.\n",
      "9. Data Abstraction\n",
      "File Processing System: Users must understand the internal structure of files to interact with them.\n",
      "DBMS: Provides multiple levels of data abstraction (physical, logical, and view levels) to hide the complexity of how data is stored.\n",
      "10. Transaction Management\n",
      "File Processing System: Lacks built-in transaction management, making it difficult to ensure that multiple related operations either complete entirely or not at all.\n",
      "DBMS: Supports transaction management, ensuring atomicity, consistency, isolation, and durability (ACID properties) in all transactions.\n",
      "11. Centralized Management\n",
      "File Processing System: Each file is managed independently, leading to duplication of effort and inefficiencies.\n",
      "DBMS: Centralizes management of the data, improving administration, monitoring, and tuning of the database.\n",
      "These features make DBMS far more efficient, secure, and scalable than traditional file processing systems.\n"
     ]
    }
   ],
   "source": [
    "from pathlib import Path\n",
    "path = Path('the_advantages_of_DBMS.txt')\n",
    "contents= path.read_text().rstrip()\n",
    "print(contents)"
   ]
  }
 ],
 "metadata": {
  "kernelspec": {
   "display_name": "Python 3",
   "language": "python",
   "name": "python3"
  },
  "language_info": {
   "codemirror_mode": {
    "name": "ipython",
    "version": 3
   },
   "file_extension": ".py",
   "mimetype": "text/x-python",
   "name": "python",
   "nbconvert_exporter": "python",
   "pygments_lexer": "ipython3",
   "version": "3.11.4"
  }
 },
 "nbformat": 4,
 "nbformat_minor": 2
}
