{
 "cells": [
  {
   "cell_type": "markdown",
   "metadata": {},
   "source": [
    "Reading the Contents of a File"
   ]
  },
  {
   "cell_type": "code",
   "execution_count": 4,
   "metadata": {},
   "outputs": [
    {
     "name": "stdout",
     "output_type": "stream",
     "text": [
      "What are the advantages of DBMS over file processing system.\n",
      "\n",
      "\n",
      "The advantages of a Database Management System (DBMS) over a File Processing System are numerous and can be categorized as follows:\n",
      "\n",
      "1. Data Redundancy Control\n",
      "File Processing System: Data is often duplicated across files, leading to redundancy and inconsistency.\n",
      "DBMS: Minimizes redundancy by maintaining a single, centralized database where data can be shared among multiple users and applications.\n",
      "2. Data Integrity\n",
      "File Processing System: Ensuring accuracy and consistency of data across files is challenging and requires manual checks.\n",
      "DBMS: Enforces integrity constraints (e.g., primary keys, foreign keys) to ensure data remains accurate and consistent.\n",
      "3. Data Security\n",
      "File Processing System: Provides minimal data security, with limited access control.\n",
      "DBMS: Offers robust security features, including user authentication and authorization mechanisms, to control who can access or modify the data.\n",
      "4. Data Sharing and Concurrent Access\n",
      "File Processing System: Sharing data between different applications or users is difficult, and concurrency control (multiple users accessing the same file) is often limited or nonexistent.\n",
      "DBMS: Allows multiple users and applications to access and manipulate the data concurrently with proper locking mechanisms to avoid conflicts.\n",
      "5. Backup and Recovery\n",
      "File Processing System: Backups have to be handled manually, and recovery from system failures can be complicated and time-consuming.\n",
      "DBMS: Provides automated backup and recovery features, enabling easier restoration of data in case of hardware or software failure.\n",
      "6. Data Independence\n",
      "File Processing System: Data structures are hardcoded within applications, making changes to data storage difficult and requiring modifications to applications.\n",
      "DBMS: Separates data from the applications, allowing changes to data structure without affecting the overall system or requiring application changes.\n",
      "7. Efficient Query Processing\n",
      "File Processing System: Searching and retrieving data often requires custom, manual coding, leading to inefficiencies.\n",
      "DBMS: Provides high-level query languages (like SQL), enabling efficient and optimized data retrieval and manipulation.\n",
      "8. Reduced Application Development Time\n",
      "File Processing System: Each application typically handles its own data storage and processing, requiring significant time and effort.\n",
      "DBMS: Centralized data management reduces development time by allowing applications to interact with a shared database instead of individual files.\n",
      "9. Data Abstraction\n",
      "File Processing System: Users must understand the internal structure of files to interact with them.\n",
      "DBMS: Provides multiple levels of data abstraction (physical, logical, and view levels) to hide the complexity of how data is stored.\n",
      "10. Transaction Management\n",
      "File Processing System: Lacks built-in transaction management, making it difficult to ensure that multiple related operations either complete entirely or not at all.\n",
      "DBMS: Supports transaction management, ensuring atomicity, consistency, isolation, and durability (ACID properties) in all transactions.\n",
      "11. Centralized Management\n",
      "File Processing System: Each file is managed independently, leading to duplication of effort and inefficiencies.\n",
      "DBMS: Centralizes management of the data, improving administration, monitoring, and tuning of the database.\n",
      "These features make DBMS far more efficient, secure, and scalable than traditional file processing systems.\n",
      "\n",
      "\n",
      "\n",
      "\n",
      "\n",
      "\n"
     ]
    }
   ],
   "source": [
    "from pathlib import Path\n",
    "path=Path('the_advantages_of_DBMS.txt')\n",
    "contents = path.read_text()\n",
    "\n",
    "lines = contents.splitlines()\n",
    "for line in lines :\n",
    "    print (line) "
   ]
  },
  {
   "cell_type": "markdown",
   "metadata": {},
   "source": [
    "to check the library/module present or not"
   ]
  },
  {
   "cell_type": "code",
   "execution_count": null,
   "metadata": {},
   "outputs": [],
   "source": [
    "! pip show numpy"
   ]
  },
  {
   "cell_type": "markdown",
   "metadata": {},
   "source": [
    "to remove extra blank line "
   ]
  },
  {
   "cell_type": "code",
   "execution_count": null,
   "metadata": {},
   "outputs": [],
   "source": [
    "from pathlib import Path\n",
    "path = Path('the_advantages_of_DBMS.txt')\n",
    "contents= contents.rstrip()\n",
    "print(contents)"
   ]
  },
  {
   "cell_type": "code",
   "execution_count": 8,
   "metadata": {},
   "outputs": [],
   "source": [
    "contents= path.read_text().rstrip()"
   ]
  },
  {
   "cell_type": "code",
   "execution_count": 3,
   "metadata": {},
   "outputs": [
    {
     "name": "stdout",
     "output_type": "stream",
     "text": [
      "What are the advantages of DBMS over file processing system.\n",
      "\n",
      "\n",
      "The advantages of a Database Management System (DBMS) over a File Processing System are numerous and can be categorized as follows:\n",
      "\n",
      "1. Data Redundancy Control\n",
      "File Processing System: Data is often duplicated across files, leading to redundancy and inconsistency.\n",
      "DBMS: Minimizes redundancy by maintaining a single, centralized database where data can be shared among multiple users and applications.\n",
      "2. Data Integrity\n",
      "File Processing System: Ensuring accuracy and consistency of data across files is challenging and requires manual checks.\n",
      "DBMS: Enforces integrity constraints (e.g., primary keys, foreign keys) to ensure data remains accurate and consistent.\n",
      "3. Data Security\n",
      "File Processing System: Provides minimal data security, with limited access control.\n",
      "DBMS: Offers robust security features, including user authentication and authorization mechanisms, to control who can access or modify the data.\n",
      "4. Data Sharing and Concurrent Access\n",
      "File Processing System: Sharing data between different applications or users is difficult, and concurrency control (multiple users accessing the same file) is often limited or nonexistent.\n",
      "DBMS: Allows multiple users and applications to access and manipulate the data concurrently with proper locking mechanisms to avoid conflicts.\n",
      "5. Backup and Recovery\n",
      "File Processing System: Backups have to be handled manually, and recovery from system failures can be complicated and time-consuming.\n",
      "DBMS: Provides automated backup and recovery features, enabling easier restoration of data in case of hardware or software failure.\n",
      "6. Data Independence\n",
      "File Processing System: Data structures are hardcoded within applications, making changes to data storage difficult and requiring modifications to applications.\n",
      "DBMS: Separates data from the applications, allowing changes to data structure without affecting the overall system or requiring application changes.\n",
      "7. Efficient Query Processing\n",
      "File Processing System: Searching and retrieving data often requires custom, manual coding, leading to inefficiencies.\n",
      "DBMS: Provides high-level query languages (like SQL), enabling efficient and optimized data retrieval and manipulation.\n",
      "8. Reduced Application Development Time\n",
      "File Processing System: Each application typically handles its own data storage and processing, requiring significant time and effort.\n",
      "DBMS: Centralized data management reduces development time by allowing applications to interact with a shared database instead of individual files.\n",
      "9. Data Abstraction\n",
      "File Processing System: Users must understand the internal structure of files to interact with them.\n",
      "DBMS: Provides multiple levels of data abstraction (physical, logical, and view levels) to hide the complexity of how data is stored.\n",
      "10. Transaction Management\n",
      "File Processing System: Lacks built-in transaction management, making it difficult to ensure that multiple related operations either complete entirely or not at all.\n",
      "DBMS: Supports transaction management, ensuring atomicity, consistency, isolation, and durability (ACID properties) in all transactions.\n",
      "11. Centralized Management\n",
      "File Processing System: Each file is managed independently, leading to duplication of effort and inefficiencies.\n",
      "DBMS: Centralizes management of the data, improving administration, monitoring, and tuning of the database.\n",
      "These features make DBMS far more efficient, secure, and scalable than traditional file processing systems.\n"
     ]
    }
   ],
   "source": [
    "from pathlib import Path\n",
    "path = Path('the_advantages_of_DBMS.txt')\n",
    "contents= path.read_text().rstrip()\n",
    "print(contents)"
   ]
  },
  {
   "cell_type": "markdown",
   "metadata": {},
   "source": [
    "working with file contents"
   ]
  },
  {
   "cell_type": "code",
   "execution_count": null,
   "metadata": {},
   "outputs": [],
   "source": [
    "from pathlib import Path \n",
    "path=Path('the_advantages_of_DBMS.txt')\n",
    "contents = path.read_text()\n",
    "lines = contents.splitlines()\n",
    "DBms_string = ''\n",
    "for line in lines :\n",
    "    DBms_string += line \n",
    "print (DBms_string)\n",
    "print(len(DBms_string))\n"
   ]
  },
  {
   "cell_type": "markdown",
   "metadata": {},
   "source": [
    "finding data from the file "
   ]
  },
  {
   "cell_type": "code",
   "execution_count": 7,
   "metadata": {},
   "outputs": [
    {
     "name": "stdout",
     "output_type": "stream",
     "text": [
      "Your word is : yu\n",
      "Write a new poem once again , cause you lost the soul word of the poem.\n"
     ]
    }
   ],
   "source": [
    "from pathlib import Path\n",
    "path = Path ('the_advantages_of_DBMS.txt')\n",
    "contents = path.read_text()\n",
    "lines= contents.splitlines()\n",
    "dbms_string =''\n",
    "for line in lines :\n",
    "    dbms_string += line.strip()\n",
    "kick = input (\"Enter a  word of your poem that might find  in the text :  \")\n",
    "print(f\"Your word is : {kick}\")\n",
    "if kick in dbms_string :\n",
    "    print(\"Congrats your lost word is found.\")\n",
    "else :\n",
    "    print(\"Write a new poem once again , cause you lost the soul word of the poem.\")"
   ]
  },
  {
   "cell_type": "markdown",
   "metadata": {},
   "source": [
    "10.1 - Learning Python: Open a blank file in your text editor and write a few lines \n",
    "summarizing what you’ve learned about Python so far. Start each line with the \n",
    "phrase In Python you can. . . . Save the file as learning_python.txt in the same \n",
    "directory as your exercises from this chapter. Write a program that reads the file \n",
    "and prints what you wrote two times: print the contents once by reading in the \n",
    "entire file, and once by storing the lines in a list and then looping over each line."
   ]
  },
  {
   "cell_type": "code",
   "execution_count": 26,
   "metadata": {},
   "outputs": [
    {
     "name": "stdout",
     "output_type": "stream",
     "text": [
      "Printing Entire content here :  \n",
      "Python is one of the most popular programming languages in the world. Created in the early 1990s, Python can be employed for a wide range of uses, from automating repetitive tasks and writing web apps to building machine learning models and implementing neural networks. Researchers, mathematicians, and data scientists in particular like Python because of its rich and easy to understand syntax and the wide range of open-source packages available. Packages are shared code libraries that are freely available for anyone to use.\n",
      "\n",
      "Python has a simple, easy to learn syntax, which emphasizes readability. Applications written in Python can run on almost any computer, including those running Windows, macOS, and popular distributions of Linux. Furthermore, the ecosystem contains a rich set of development tools for writing, debugging, and publishing Python applications.\n",
      "\n",
      "Finally, Python is supported by an active user community that is eager to help new programmers learn the Pythonic way, where you don't just get the syntax right, but use the language the way it was intended.\n",
      "\n",
      "Printing content line by line \n",
      "Python is one of the most popular programming languages in the world. Created in the early 1990s, Python can be employed for a wide range of uses, from automating repetitive tasks and writing web apps to building machine learning models and implementing neural networks. Researchers, mathematicians, and data scientists in particular like Python because of its rich and easy to understand syntax and the wide range of open-source packages available. Packages are shared code libraries that are freely available for anyone to use.\n",
      "\n",
      "Python has a simple, easy to learn syntax, which emphasizes readability. Applications written in Python can run on almost any computer, including those running Windows, macOS, and popular distributions of Linux. Furthermore, the ecosystem contains a rich set of development tools for writing, debugging, and publishing Python applications.\n",
      "\n",
      "Finally, Python is supported by an active user community that is eager to help new programmers learn the Pythonic way, where you don't just get the syntax right, but use the language the way it was intended.\n"
     ]
    }
   ],
   "source": [
    "from pathlib import Path\n",
    "path = Path('Learning_Python.txt')\n",
    "conte = path.read_text()\n",
    "\n",
    "print(f\"Printing Entire content here :  \\n{conte}\")\n",
    "# lin = conte.splitlines()\n",
    "print(\"\\nPrinting content line by line \")\n",
    "for line in conte.splitlines() :\n",
    "    print(line)"
   ]
  },
  {
   "cell_type": "markdown",
   "metadata": {},
   "source": [
    "10-2. Learning C: You can use the replace() method to replace any word in a \n",
    "string with a different word. Here’s a quick example showing how to replace \n",
    "'dog' with 'cat' in a sentence"
   ]
  },
  {
   "cell_type": "code",
   "execution_count": 25,
   "metadata": {},
   "outputs": [
    {
     "data": {
      "text/plain": [
       "\"C is one of the most popular programming languages in the world. Created in the early 1990s, C can be employed for a wide range of uses, from automating repetitive tasks and writing web apps to building machine learning models and implementing neural networks. Researchers, mathematicians, and data scientists in particular like C because of its rich and easy to understand syntax and the wide range of open-source packages available. Packages are shared code libraries that are freely available for anyone to use.\\n\\nC has a simple, easy to learn syntax, which emphasizes readability. Applications written in C can run on almost any computer, including those running Windows, macOS, and popular distributions of Linux. Furthermore, the ecosystem contains a rich set of development tools for writing, debugging, and publishing C applications.\\n\\nFinally, C is supported by an active user community that is eager to help new programmers learn the Cic way, where you don't just get the syntax right, but use the language the way it was intended.\""
      ]
     },
     "execution_count": 25,
     "metadata": {},
     "output_type": "execute_result"
    }
   ],
   "source": [
    "from pathlib import Path \n",
    "path = Path('Learning_Python.txt')\n",
    "redo = path.read_text()\n",
    "redo.replace('Python','C')"
   ]
  },
  {
   "cell_type": "markdown",
   "metadata": {},
   "source": [
    "10-3. Simpler Code: The program file_reader.py in this section uses a temporary \n",
    "variable, lines, to show how splitlines() works. You can skip the temporary \n",
    "variable and loop directly over the list that splitlines() returns:\n",
    "for line in contents.splitlines():\n",
    "Remove the temporary variable from each of the programs in this section, \n",
    "to make them more concise"
   ]
  },
  {
   "cell_type": "code",
   "execution_count": null,
   "metadata": {},
   "outputs": [],
   "source": [
    "from pathlib import Path\n",
    "path = Path('Learning_Python.txt')\n",
    "conte = path.read_text()\n",
    "\n",
    "print(f\"Printing Entire content here :  \\n{conte}\")\n",
    "\n",
    "print(\"\\nPrinting content line by line ::: \")\n",
    "for line in conte.splitlines() :\n",
    "    print(line)"
   ]
  },
  {
   "cell_type": "markdown",
   "metadata": {},
   "source": [
    "Writing to a FilE"
   ]
  },
  {
   "cell_type": "code",
   "execution_count": 7,
   "metadata": {},
   "outputs": [
    {
     "data": {
      "text/plain": [
       "1038"
      ]
     },
     "execution_count": 7,
     "metadata": {},
     "output_type": "execute_result"
    }
   ],
   "source": [
    "from pathlib import Path\n",
    "path = Path ('Learning_Python.txt')\n",
    "\n",
    "path.write_text(\"C is one of the most popular programming languages in the world. Created in the early 1990s, C can be employed for a wide range of uses, from automating repetitive tasks and writing web apps to building machine learning models and implementing neural networks. Researchers, mathematicians, and data scientists in particular like C because of its rich and easy to understand syntax and the wide range of open-source packages available. Packages are shared code libraries that are freely available for anyone to use.\\n\\nC has a simple, easy to learn syntax, which emphasizes readability. Applications written in C can run on almost any computer, including those running Windows, macOS, and popular distributions of Linux. Furthermore, the ecosystem contains a rich set of development tools for writing, debugging, and publishing C applications.\\n\\nFinally, C is supported by an active user community that is eager to help new programmers learn the Cic way, where you don't just get the syntax right, but use the language the way it was intended\")"
   ]
  },
  {
   "cell_type": "markdown",
   "metadata": {},
   "source": [
    "to creat a new file by writing new content"
   ]
  },
  {
   "cell_type": "code",
   "execution_count": null,
   "metadata": {},
   "outputs": [
    {
     "data": {
      "text/plain": [
       "250"
      ]
     },
     "execution_count": 14,
     "metadata": {},
     "output_type": "execute_result"
    }
   ],
   "source": [
    "from pathlib import Path\n",
    "\n",
    "contensts = \"C has a simple, easy to learn syntax, which emphasizes readability. Applications written in C can run on almost any computer, including those running Windows, macOS, and popular distributions of Linux. \\n\"\n",
    "contensts += \"Comments:  \\n\"\n",
    "contensts += 'Intel_Ceo :  Wow , thats wonderfull'\n",
    "\n",
    "path = Path ('C_review.txt')\n",
    "path.write_text (contensts)"
   ]
  },
  {
   "cell_type": "markdown",
   "metadata": {},
   "source": [
    "10-4. Guest: Write a program that prompts the user for their name. When they \n",
    "respond, write their name to a file called guest.txt."
   ]
  },
  {
   "cell_type": "code",
   "execution_count": 21,
   "metadata": {},
   "outputs": [
    {
     "name": "stdout",
     "output_type": "stream",
     "text": [
      " Thank you for your presence\n"
     ]
    },
    {
     "data": {
      "text/plain": [
       "'LopezRAmSherion'"
      ]
     },
     "execution_count": 21,
     "metadata": {},
     "output_type": "execute_result"
    }
   ],
   "source": [
    "from pathlib import Path\n",
    "\n",
    "contensts = input('Write your name :     \\n')\n",
    "contensts += input(' \\n Write your name :     \\n') \n",
    "contensts += input(' \\n Write your name :     \\n')\n",
    "\n",
    "print(\" Thank you for your presence\")\n",
    "\n",
    "path = Path ('Guestlist.txt')\n",
    "path.write_text (contensts)\n",
    "path.read_text()"
   ]
  },
  {
   "cell_type": "markdown",
   "metadata": {},
   "source": [
    "10-5. Guest Book: Write a while loop that prompts users for their name. Collect \n",
    "all the names that are entered, and then write these names to a file called \n",
    "guest_book.txt. Make sure each entry appears on a new line in the file."
   ]
  },
  {
   "cell_type": "code",
   "execution_count": null,
   "metadata": {},
   "outputs": [
    {
     "name": "stdout",
     "output_type": "stream",
     "text": [
      "Thank you for your presence\n"
     ]
    },
    {
     "ename": "TypeError",
     "evalue": "data must be str, not WindowsPath",
     "output_type": "error",
     "traceback": [
      "\u001b[1;31m---------------------------------------------------------------------------\u001b[0m",
      "\u001b[1;31mTypeError\u001b[0m                                 Traceback (most recent call last)",
      "Cell \u001b[1;32mIn[32], line 6\u001b[0m\n\u001b[0;32m      3\u001b[0m \u001b[38;5;28mprint\u001b[39m(\u001b[38;5;124m\"\u001b[39m\u001b[38;5;124mThank you for your presence\u001b[39m\u001b[38;5;124m\"\u001b[39m)\n\u001b[0;32m      5\u001b[0m ath \u001b[38;5;241m=\u001b[39m Path (\u001b[38;5;124m'\u001b[39m\u001b[38;5;124mGuest.txt\u001b[39m\u001b[38;5;124m'\u001b[39m)\n\u001b[1;32m----> 6\u001b[0m \u001b[43mpath\u001b[49m\u001b[38;5;241;43m.\u001b[39;49m\u001b[43mwrite_text\u001b[49m\u001b[43m \u001b[49m\u001b[43m(\u001b[49m\u001b[43math\u001b[49m\u001b[43m)\u001b[49m\n\u001b[0;32m      7\u001b[0m \u001b[38;5;66;03m# path.read_text()\u001b[39;00m\n\u001b[0;32m      8\u001b[0m \u001b[38;5;28;01mwhile\u001b[39;00m \u001b[38;5;28;01mTrue\u001b[39;00m:\n",
      "File \u001b[1;32mc:\\Users\\ASUS\\AppData\\Local\\Programs\\Python\\Python311\\Lib\\pathlib.py:1075\u001b[0m, in \u001b[0;36mPath.write_text\u001b[1;34m(self, data, encoding, errors, newline)\u001b[0m\n\u001b[0;32m   1071\u001b[0m \u001b[38;5;250m\u001b[39m\u001b[38;5;124;03m\"\"\"\u001b[39;00m\n\u001b[0;32m   1072\u001b[0m \u001b[38;5;124;03mOpen the file in text mode, write to it, and close the file.\u001b[39;00m\n\u001b[0;32m   1073\u001b[0m \u001b[38;5;124;03m\"\"\"\u001b[39;00m\n\u001b[0;32m   1074\u001b[0m \u001b[38;5;28;01mif\u001b[39;00m \u001b[38;5;129;01mnot\u001b[39;00m \u001b[38;5;28misinstance\u001b[39m(data, \u001b[38;5;28mstr\u001b[39m):\n\u001b[1;32m-> 1075\u001b[0m     \u001b[38;5;28;01mraise\u001b[39;00m \u001b[38;5;167;01mTypeError\u001b[39;00m(\u001b[38;5;124m'\u001b[39m\u001b[38;5;124mdata must be str, not \u001b[39m\u001b[38;5;132;01m%s\u001b[39;00m\u001b[38;5;124m'\u001b[39m \u001b[38;5;241m%\u001b[39m\n\u001b[0;32m   1076\u001b[0m                     data\u001b[38;5;241m.\u001b[39m\u001b[38;5;18m__class__\u001b[39m\u001b[38;5;241m.\u001b[39m\u001b[38;5;18m__name__\u001b[39m)\n\u001b[0;32m   1077\u001b[0m encoding \u001b[38;5;241m=\u001b[39m io\u001b[38;5;241m.\u001b[39mtext_encoding(encoding)\n\u001b[0;32m   1078\u001b[0m \u001b[38;5;28;01mwith\u001b[39;00m \u001b[38;5;28mself\u001b[39m\u001b[38;5;241m.\u001b[39mopen(mode\u001b[38;5;241m=\u001b[39m\u001b[38;5;124m'\u001b[39m\u001b[38;5;124mw\u001b[39m\u001b[38;5;124m'\u001b[39m, encoding\u001b[38;5;241m=\u001b[39mencoding, errors\u001b[38;5;241m=\u001b[39merrors, newline\u001b[38;5;241m=\u001b[39mnewline) \u001b[38;5;28;01mas\u001b[39;00m f:\n",
      "\u001b[1;31mTypeError\u001b[0m: data must be str, not WindowsPath"
     ]
    }
   ],
   "source": [
    "from pathlib import Path\n",
    "\n",
    "print(\"Thank you for your presence\")\n",
    "\n",
    "path = Path ('Guest.txt')\n",
    "path.write_text (contensts)\n",
    "# path.read_text()\n",
    "while True:\n",
    "    name = input(\"Write your name: \")\n",
    "    if name.lower() == 'q':  # Exit condition\n",
    "        break\n",
    "    \n",
    "print(\"Guest List\")   \n",
    "for lop in contensts.splitlines() :\n",
    "    print (lop)\n"
   ]
  }
 ],
 "metadata": {
  "kernelspec": {
   "display_name": "Python 3",
   "language": "python",
   "name": "python3"
  },
  "language_info": {
   "codemirror_mode": {
    "name": "ipython",
    "version": 3
   },
   "file_extension": ".py",
   "mimetype": "text/x-python",
   "name": "python",
   "nbconvert_exporter": "python",
   "pygments_lexer": "ipython3",
   "version": "3.11.4"
  }
 },
 "nbformat": 4,
 "nbformat_minor": 2
}
