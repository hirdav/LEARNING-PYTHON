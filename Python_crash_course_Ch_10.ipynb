{
 "cells": [
  {
   "cell_type": "markdown",
   "metadata": {},
   "source": [
    "Reading the Contents of a File"
   ]
  },
  {
   "cell_type": "code",
   "execution_count": 4,
   "metadata": {},
   "outputs": [
    {
     "name": "stdout",
     "output_type": "stream",
     "text": [
      "What are the advantages of DBMS over file processing system.\n",
      "\n",
      "\n",
      "The advantages of a Database Management System (DBMS) over a File Processing System are numerous and can be categorized as follows:\n",
      "\n",
      "1. Data Redundancy Control\n",
      "File Processing System: Data is often duplicated across files, leading to redundancy and inconsistency.\n",
      "DBMS: Minimizes redundancy by maintaining a single, centralized database where data can be shared among multiple users and applications.\n",
      "2. Data Integrity\n",
      "File Processing System: Ensuring accuracy and consistency of data across files is challenging and requires manual checks.\n",
      "DBMS: Enforces integrity constraints (e.g., primary keys, foreign keys) to ensure data remains accurate and consistent.\n",
      "3. Data Security\n",
      "File Processing System: Provides minimal data security, with limited access control.\n",
      "DBMS: Offers robust security features, including user authentication and authorization mechanisms, to control who can access or modify the data.\n",
      "4. Data Sharing and Concurrent Access\n",
      "File Processing System: Sharing data between different applications or users is difficult, and concurrency control (multiple users accessing the same file) is often limited or nonexistent.\n",
      "DBMS: Allows multiple users and applications to access and manipulate the data concurrently with proper locking mechanisms to avoid conflicts.\n",
      "5. Backup and Recovery\n",
      "File Processing System: Backups have to be handled manually, and recovery from system failures can be complicated and time-consuming.\n",
      "DBMS: Provides automated backup and recovery features, enabling easier restoration of data in case of hardware or software failure.\n",
      "6. Data Independence\n",
      "File Processing System: Data structures are hardcoded within applications, making changes to data storage difficult and requiring modifications to applications.\n",
      "DBMS: Separates data from the applications, allowing changes to data structure without affecting the overall system or requiring application changes.\n",
      "7. Efficient Query Processing\n",
      "File Processing System: Searching and retrieving data often requires custom, manual coding, leading to inefficiencies.\n",
      "DBMS: Provides high-level query languages (like SQL), enabling efficient and optimized data retrieval and manipulation.\n",
      "8. Reduced Application Development Time\n",
      "File Processing System: Each application typically handles its own data storage and processing, requiring significant time and effort.\n",
      "DBMS: Centralized data management reduces development time by allowing applications to interact with a shared database instead of individual files.\n",
      "9. Data Abstraction\n",
      "File Processing System: Users must understand the internal structure of files to interact with them.\n",
      "DBMS: Provides multiple levels of data abstraction (physical, logical, and view levels) to hide the complexity of how data is stored.\n",
      "10. Transaction Management\n",
      "File Processing System: Lacks built-in transaction management, making it difficult to ensure that multiple related operations either complete entirely or not at all.\n",
      "DBMS: Supports transaction management, ensuring atomicity, consistency, isolation, and durability (ACID properties) in all transactions.\n",
      "11. Centralized Management\n",
      "File Processing System: Each file is managed independently, leading to duplication of effort and inefficiencies.\n",
      "DBMS: Centralizes management of the data, improving administration, monitoring, and tuning of the database.\n",
      "These features make DBMS far more efficient, secure, and scalable than traditional file processing systems.\n",
      "\n",
      "\n",
      "\n",
      "\n",
      "\n",
      "\n"
     ]
    }
   ],
   "source": [
    "from pathlib import Path\n",
    "path=Path('the_advantages_of_DBMS.txt')\n",
    "contents = path.read_text()\n",
    "\n",
    "lines = contents.splitlines()\n",
    "for line in lines :\n",
    "    print (line) "
   ]
  },
  {
   "cell_type": "markdown",
   "metadata": {},
   "source": [
    "to check the library/module present or not"
   ]
  },
  {
   "cell_type": "code",
   "execution_count": null,
   "metadata": {},
   "outputs": [],
   "source": [
    "! pip show numpy"
   ]
  },
  {
   "cell_type": "markdown",
   "metadata": {},
   "source": [
    "to remove extra blank line "
   ]
  },
  {
   "cell_type": "code",
   "execution_count": null,
   "metadata": {},
   "outputs": [],
   "source": [
    "from pathlib import Path\n",
    "path = Path('the_advantages_of_DBMS.txt')\n",
    "contents= contents.rstrip()\n",
    "print(contents)"
   ]
  },
  {
   "cell_type": "code",
   "execution_count": 8,
   "metadata": {},
   "outputs": [],
   "source": [
    "contents= path.read_text().rstrip()"
   ]
  },
  {
   "cell_type": "code",
   "execution_count": 3,
   "metadata": {},
   "outputs": [
    {
     "name": "stdout",
     "output_type": "stream",
     "text": [
      "What are the advantages of DBMS over file processing system.\n",
      "\n",
      "\n",
      "The advantages of a Database Management System (DBMS) over a File Processing System are numerous and can be categorized as follows:\n",
      "\n",
      "1. Data Redundancy Control\n",
      "File Processing System: Data is often duplicated across files, leading to redundancy and inconsistency.\n",
      "DBMS: Minimizes redundancy by maintaining a single, centralized database where data can be shared among multiple users and applications.\n",
      "2. Data Integrity\n",
      "File Processing System: Ensuring accuracy and consistency of data across files is challenging and requires manual checks.\n",
      "DBMS: Enforces integrity constraints (e.g., primary keys, foreign keys) to ensure data remains accurate and consistent.\n",
      "3. Data Security\n",
      "File Processing System: Provides minimal data security, with limited access control.\n",
      "DBMS: Offers robust security features, including user authentication and authorization mechanisms, to control who can access or modify the data.\n",
      "4. Data Sharing and Concurrent Access\n",
      "File Processing System: Sharing data between different applications or users is difficult, and concurrency control (multiple users accessing the same file) is often limited or nonexistent.\n",
      "DBMS: Allows multiple users and applications to access and manipulate the data concurrently with proper locking mechanisms to avoid conflicts.\n",
      "5. Backup and Recovery\n",
      "File Processing System: Backups have to be handled manually, and recovery from system failures can be complicated and time-consuming.\n",
      "DBMS: Provides automated backup and recovery features, enabling easier restoration of data in case of hardware or software failure.\n",
      "6. Data Independence\n",
      "File Processing System: Data structures are hardcoded within applications, making changes to data storage difficult and requiring modifications to applications.\n",
      "DBMS: Separates data from the applications, allowing changes to data structure without affecting the overall system or requiring application changes.\n",
      "7. Efficient Query Processing\n",
      "File Processing System: Searching and retrieving data often requires custom, manual coding, leading to inefficiencies.\n",
      "DBMS: Provides high-level query languages (like SQL), enabling efficient and optimized data retrieval and manipulation.\n",
      "8. Reduced Application Development Time\n",
      "File Processing System: Each application typically handles its own data storage and processing, requiring significant time and effort.\n",
      "DBMS: Centralized data management reduces development time by allowing applications to interact with a shared database instead of individual files.\n",
      "9. Data Abstraction\n",
      "File Processing System: Users must understand the internal structure of files to interact with them.\n",
      "DBMS: Provides multiple levels of data abstraction (physical, logical, and view levels) to hide the complexity of how data is stored.\n",
      "10. Transaction Management\n",
      "File Processing System: Lacks built-in transaction management, making it difficult to ensure that multiple related operations either complete entirely or not at all.\n",
      "DBMS: Supports transaction management, ensuring atomicity, consistency, isolation, and durability (ACID properties) in all transactions.\n",
      "11. Centralized Management\n",
      "File Processing System: Each file is managed independently, leading to duplication of effort and inefficiencies.\n",
      "DBMS: Centralizes management of the data, improving administration, monitoring, and tuning of the database.\n",
      "These features make DBMS far more efficient, secure, and scalable than traditional file processing systems.\n"
     ]
    }
   ],
   "source": [
    "from pathlib import Path\n",
    "path = Path('the_advantages_of_DBMS.txt')\n",
    "contents= path.read_text().rstrip()\n",
    "print(contents)"
   ]
  },
  {
   "cell_type": "markdown",
   "metadata": {},
   "source": [
    "working with file contents"
   ]
  },
  {
   "cell_type": "code",
   "execution_count": null,
   "metadata": {},
   "outputs": [],
   "source": [
    "from pathlib import Path \n",
    "path=Path('the_advantages_of_DBMS.txt')\n",
    "contents = path.read_text()\n",
    "lines = contents.splitlines()\n",
    "DBms_string = ''\n",
    "for line in lines :\n",
    "    DBms_string += line \n",
    "print (DBms_string)\n",
    "print(len(DBms_string))\n"
   ]
  },
  {
   "cell_type": "markdown",
   "metadata": {},
   "source": [
    "finding data from the file "
   ]
  },
  {
   "cell_type": "code",
   "execution_count": 7,
   "metadata": {},
   "outputs": [
    {
     "name": "stdout",
     "output_type": "stream",
     "text": [
      "Your word is : yu\n",
      "Write a new poem once again , cause you lost the soul word of the poem.\n"
     ]
    }
   ],
   "source": [
    "from pathlib import Path\n",
    "path = Path ('the_advantages_of_DBMS.txt')\n",
    "contents = path.read_text()\n",
    "lines= contents.splitlines()\n",
    "dbms_string =''\n",
    "for line in lines :\n",
    "    dbms_string += line.strip()\n",
    "kick = input (\"Enter a  word of your poem that might find  in the text :  \")\n",
    "print(f\"Your word is : {kick}\")\n",
    "if kick in dbms_string :\n",
    "    print(\"Congrats your lost word is found.\")\n",
    "else :\n",
    "    print(\"Write a new poem once again , cause you lost the soul word of the poem.\")"
   ]
  },
  {
   "cell_type": "markdown",
   "metadata": {},
   "source": [
    "10.1 - Learning Python: Open a blank file in your text editor and write a few lines \n",
    "summarizing what you’ve learned about Python so far. Start each line with the \n",
    "phrase In Python you can. . . . Save the file as learning_python.txt in the same \n",
    "directory as your exercises from this chapter. Write a program that reads the file \n",
    "and prints what you wrote two times: print the contents once by reading in the \n",
    "entire file, and once by storing the lines in a list and then looping over each line."
   ]
  },
  {
   "cell_type": "code",
   "execution_count": 26,
   "metadata": {},
   "outputs": [
    {
     "name": "stdout",
     "output_type": "stream",
     "text": [
      "Printing Entire content here :  \n",
      "Python is one of the most popular programming languages in the world. Created in the early 1990s, Python can be employed for a wide range of uses, from automating repetitive tasks and writing web apps to building machine learning models and implementing neural networks. Researchers, mathematicians, and data scientists in particular like Python because of its rich and easy to understand syntax and the wide range of open-source packages available. Packages are shared code libraries that are freely available for anyone to use.\n",
      "\n",
      "Python has a simple, easy to learn syntax, which emphasizes readability. Applications written in Python can run on almost any computer, including those running Windows, macOS, and popular distributions of Linux. Furthermore, the ecosystem contains a rich set of development tools for writing, debugging, and publishing Python applications.\n",
      "\n",
      "Finally, Python is supported by an active user community that is eager to help new programmers learn the Pythonic way, where you don't just get the syntax right, but use the language the way it was intended.\n",
      "\n",
      "Printing content line by line \n",
      "Python is one of the most popular programming languages in the world. Created in the early 1990s, Python can be employed for a wide range of uses, from automating repetitive tasks and writing web apps to building machine learning models and implementing neural networks. Researchers, mathematicians, and data scientists in particular like Python because of its rich and easy to understand syntax and the wide range of open-source packages available. Packages are shared code libraries that are freely available for anyone to use.\n",
      "\n",
      "Python has a simple, easy to learn syntax, which emphasizes readability. Applications written in Python can run on almost any computer, including those running Windows, macOS, and popular distributions of Linux. Furthermore, the ecosystem contains a rich set of development tools for writing, debugging, and publishing Python applications.\n",
      "\n",
      "Finally, Python is supported by an active user community that is eager to help new programmers learn the Pythonic way, where you don't just get the syntax right, but use the language the way it was intended.\n"
     ]
    }
   ],
   "source": [
    "from pathlib import Path\n",
    "path = Path('Learning_Python.txt')\n",
    "conte = path.read_text()\n",
    "\n",
    "print(f\"Printing Entire content here :  \\n{conte}\")\n",
    "# lin = conte.splitlines()\n",
    "print(\"\\nPrinting content line by line \")\n",
    "for line in conte.splitlines() :\n",
    "    print(line)"
   ]
  },
  {
   "cell_type": "markdown",
   "metadata": {},
   "source": [
    "10-2. Learning C: You can use the replace() method to replace any word in a \n",
    "string with a different word. Here’s a quick example showing how to replace \n",
    "'dog' with 'cat' in a sentence"
   ]
  },
  {
   "cell_type": "code",
   "execution_count": 25,
   "metadata": {},
   "outputs": [
    {
     "data": {
      "text/plain": [
       "\"C is one of the most popular programming languages in the world. Created in the early 1990s, C can be employed for a wide range of uses, from automating repetitive tasks and writing web apps to building machine learning models and implementing neural networks. Researchers, mathematicians, and data scientists in particular like C because of its rich and easy to understand syntax and the wide range of open-source packages available. Packages are shared code libraries that are freely available for anyone to use.\\n\\nC has a simple, easy to learn syntax, which emphasizes readability. Applications written in C can run on almost any computer, including those running Windows, macOS, and popular distributions of Linux. Furthermore, the ecosystem contains a rich set of development tools for writing, debugging, and publishing C applications.\\n\\nFinally, C is supported by an active user community that is eager to help new programmers learn the Cic way, where you don't just get the syntax right, but use the language the way it was intended.\""
      ]
     },
     "execution_count": 25,
     "metadata": {},
     "output_type": "execute_result"
    }
   ],
   "source": [
    "from pathlib import Path \n",
    "path = Path('Learning_Python.txt')\n",
    "redo = path.read_text()\n",
    "redo.replace('Python','C')"
   ]
  },
  {
   "cell_type": "markdown",
   "metadata": {},
   "source": [
    "10-3. Simpler Code: The program file_reader.py in this section uses a temporary \n",
    "variable, lines, to show how splitlines() works. You can skip the temporary \n",
    "variable and loop directly over the list that splitlines() returns:\n",
    "for line in contents.splitlines():\n",
    "Remove the temporary variable from each of the programs in this section, \n",
    "to make them more concise"
   ]
  },
  {
   "cell_type": "code",
   "execution_count": null,
   "metadata": {},
   "outputs": [],
   "source": [
    "from pathlib import Path\n",
    "path = Path('Learning_Python.txt')\n",
    "conte = path.read_text()\n",
    "\n",
    "print(f\"Printing Entire content here :  \\n{conte}\")\n",
    "\n",
    "print(\"\\nPrinting content line by line ::: \")\n",
    "for line in conte.splitlines() :\n",
    "    print(line)"
   ]
  },
  {
   "cell_type": "markdown",
   "metadata": {},
   "source": [
    "Writing to a FilE"
   ]
  },
  {
   "cell_type": "code",
   "execution_count": null,
   "metadata": {},
   "outputs": [
    {
     "data": {
      "text/plain": [
       "2"
      ]
     },
     "execution_count": 13,
     "metadata": {},
     "output_type": "execute_result"
    }
   ],
   "source": [
    "from pathlib import Path\n",
    "path = Path ('Learning_Python.txt')\n",
    "\n",
    "path.write_text(\"C is one of the most popular programming languages in the world. Created in the early 1990s, C can be employed for a wide range of uses, from automating repetitive tasks and writing web apps to building machine learning models and implementing neural networks. Researchers, mathematicians, and data scientists in particular like C because of its rich and easy to understand syntax and the wide range of open-source packages available. Packages are shared code libraries that are freely available for anyone to use.\\n\\nC has a simple, easy to learn syntax, which emphasizes readability. Applications written in C can run on almost any computer, including those running Windows, macOS, and popular distributions of Linux. Furthermore, the ecosystem contains a rich set of development tools for writing, debugging, and publishing C applications.\\n\\nFinally, C is supported by an active user community that is eager to help new programmers learn the Cic way, where you don't just get the syntax right, but use the language the way it was intended\")"
   ]
  },
  {
   "cell_type": "markdown",
   "metadata": {},
   "source": [
    "to creat a new file by writing new content"
   ]
  },
  {
   "cell_type": "code",
   "execution_count": null,
   "metadata": {},
   "outputs": [
    {
     "data": {
      "text/plain": [
       "250"
      ]
     },
     "execution_count": 14,
     "metadata": {},
     "output_type": "execute_result"
    }
   ],
   "source": [
    "from pathlib import Path\n",
    "\n",
    "contensts = \"C has a simple, easy to learn syntax, which emphasizes readability. Applications written in C can run on almost any computer, including those running Windows, macOS, and popular distributions of Linux. \\n\"\n",
    "contensts += \"Comments:  \\n\"\n",
    "contensts += 'Intel_Ceo :  Wow , thats wonderfull'\n",
    "\n",
    "path = Path ('C_review.txt')\n",
    "path.write_text (contensts)"
   ]
  },
  {
   "cell_type": "markdown",
   "metadata": {},
   "source": [
    "10-4. Guest: Write a program that prompts the user for their name. When they \n",
    "respond, write their name to a file called guest.txt."
   ]
  },
  {
   "cell_type": "code",
   "execution_count": 21,
   "metadata": {},
   "outputs": [
    {
     "name": "stdout",
     "output_type": "stream",
     "text": [
      " Thank you for your presence\n"
     ]
    },
    {
     "data": {
      "text/plain": [
       "'LopezRAmSherion'"
      ]
     },
     "execution_count": 21,
     "metadata": {},
     "output_type": "execute_result"
    }
   ],
   "source": [
    "from pathlib import Path\n",
    "\n",
    "contensts = input('Write your name :     \\n')\n",
    "contensts += input(' \\n Write your name :     \\n') \n",
    "contensts += input(' \\n Write your name :     \\n')\n",
    "\n",
    "print(\" Thank you for your presence\")\n",
    "\n",
    "path = Path ('Guestlist.txt')\n",
    "path.write_text (contensts)\n",
    "path.read_text()"
   ]
  },
  {
   "cell_type": "markdown",
   "metadata": {},
   "source": [
    "10-5. Guest Book: Write a while loop that prompts users for their name. Collect \n",
    "all the names that are entered, and then write these names to a file called \n",
    "guest_book.txt. Make sure each entry appears on a new line in the file."
   ]
  },
  {
   "cell_type": "code",
   "execution_count": null,
   "metadata": {},
   "outputs": [
    {
     "name": "stdout",
     "output_type": "stream",
     "text": [
      "Thank you for your presence\n",
      "q\n",
      "q\n"
     ]
    }
   ],
   "source": [
    "from pathlib import Path\n",
    "\n",
    "print(\"Thank you for your presence\")\n",
    "\n",
    "path = Path ('Guestlist.txt')\n",
    "yuo=path.write_text ('contensts  \\n  con   \\n  gjgjhgjh \\n  htr   \\n')\n",
    "path.read_text()\n",
    "while True:\n",
    "    name = input(\"Write your name: \")\n",
    "    if name.lower() == 'q':  # Exit condition\n",
    "        break\n",
    "print(\"Guest_list --  \")   \n",
    "for iop in name.splitlines() :\n",
    "    print (iop)\n"
   ]
  },
  {
   "cell_type": "code",
   "execution_count": 27,
   "metadata": {},
   "outputs": [
    {
     "name": "stdout",
     "output_type": "stream",
     "text": [
      " REymann  \n",
      "\n",
      " Einstein  \n",
      "\n",
      " Marry Curie  \n",
      "\n",
      " Maliva Marich  \n",
      "\n",
      " Jeniffer Doudna  \n",
      "\n"
     ]
    }
   ],
   "source": [
    "#modified_code \n",
    "from pathlib import Path\n",
    "path = Path ('Guestlist.txt')\n",
    " \n",
    "while True:\n",
    "    name = input(\"Write your name:  \\n [Type Q if dont wan to come ]\")\n",
    "    if name.lower() == 'q':  # Exit condition\n",
    "        break\n",
    "    path.write_text ( path.read_text() + \"Welcome \" + name + \" to the get together : the science get together\\t \\n\" ) # adding path.read_text() makes the previous input saved cause the write_text erase as soon as the new input is provided  \n",
    "\n",
    "    print (f\" {name}  \\n\")\n",
    "\n",
    "\n"
   ]
  },
  {
   "cell_type": "markdown",
   "metadata": {},
   "source": [
    "Try-except Blocks"
   ]
  },
  {
   "cell_type": "code",
   "execution_count": null,
   "metadata": {},
   "outputs": [
    {
     "name": "stdout",
     "output_type": "stream",
     "text": [
      "You can not divide any number by Zero\n"
     ]
    }
   ],
   "source": [
    "try: \n",
    "    print(5/0)\n",
    "except ZeroDivisionError :\n",
    "    print(\"You can not divide  Zero\")\n",
    "\n"
   ]
  },
  {
   "cell_type": "markdown",
   "metadata": {},
   "source": [
    "Practice ::  try and except"
   ]
  },
  {
   "cell_type": "code",
   "execution_count": 39,
   "metadata": {},
   "outputs": [
    {
     "name": "stdout",
     "output_type": "stream",
     "text": [
      "Provide the first number\n",
      "Enter q to quit\n",
      "15.0\n",
      "27.894651539708267\n",
      "you cant devide number by 0 \n",
      "0.09964597999678125\n",
      "17.0\n",
      "0.009929390997352162\n"
     ]
    }
   ],
   "source": [
    "print(\"Provide the first number\")\n",
    "print(\"Enter q to quit\")\n",
    "\n",
    "while True :\n",
    "    first_1= input (\" enter the first number : \")\n",
    "    if first_1 == 'q' :\n",
    "        break \n",
    "    sec_2 = input (\"enter 2nd number : \")\n",
    "    if sec_2 == 'q' :\n",
    "        break\n",
    "\n",
    "\n",
    "    try :\n",
    "        ans = int(first_1)/ int(sec_2) \n",
    "    except ZeroDivisionError :\n",
    "        print (\"you cant devide number by 0 \")\n",
    "\n",
    "    else :\n",
    "        print(ans)    \n"
   ]
  },
  {
   "cell_type": "code",
   "execution_count": null,
   "metadata": {},
   "outputs": [],
   "source": [
    "from pathlib import Path\n",
    "path = Path('alice.txt')\n",
    "try:\n",
    "    contents = path.read_text(encoding='utf-8')\n",
    "except FileNotFoundError:\n",
    "    print(f\"Sorry, the file {path} does not exist.\")\n",
    "else:\n",
    "    # Count the approximate number of words in the file:\n",
    "        words = contents.split()\n",
    "        num_words = len(words)\n",
    "        print(f\"The file {path} has about {num_words} words.\")"
   ]
  }
 ],
 "metadata": {
  "kernelspec": {
   "display_name": "Python 3",
   "language": "python",
   "name": "python3"
  },
  "language_info": {
   "codemirror_mode": {
    "name": "ipython",
    "version": 3
   },
   "file_extension": ".py",
   "mimetype": "text/x-python",
   "name": "python",
   "nbconvert_exporter": "python",
   "pygments_lexer": "ipython3",
   "version": "3.11.4"
  }
 },
 "nbformat": 4,
 "nbformat_minor": 2
}
