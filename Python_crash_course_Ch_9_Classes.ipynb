{
 "cells": [
  {
   "cell_type": "markdown",
   "metadata": {},
   "source": [
    "#####                             ----------Classes--------                     ######"
   ]
  },
  {
   "cell_type": "code",
   "execution_count": 21,
   "metadata": {},
   "outputs": [
    {
     "name": "stdout",
     "output_type": "stream",
     "text": [
      "My dog name is will\n",
      "My dog  is 9 years old.\n",
      "will is now sitting.\n",
      "will rolled over !\n"
     ]
    }
   ],
   "source": [
    "class Dog:\n",
    "    \"\"\"A Simple attempt to model a dog\"\"\"\n",
    "\n",
    "    def __init__(self,name,age) :\n",
    "        \"\"\"\"Initialze name and age attributes\"\"\"\n",
    "        self.name = name \n",
    "        self.age = age\n",
    "    def sit (self) :\n",
    "        \"\"\"Simulate a dog sitting in response to a command.\"\"\"\n",
    "        print (f\"{self.name} is now sitting.\")\n",
    "\n",
    "    def roll_over(self):\n",
    "        \"\"\"Simulate rolling over in response to a command\"\"\"\n",
    "        print (f\"{self.name} rolled over !\")\n",
    "\n",
    "\n",
    "my_dog = Dog('will',9)\n",
    "\n",
    "print(f\"My dog name is {my_dog.name}\")\n",
    "print(f\"My dog  is {my_dog.age} years old.\")\n",
    "\n",
    "my_dog.sit()\n",
    "my_dog.roll_over()\n"
   ]
  },
  {
   "cell_type": "markdown",
   "metadata": {},
   "source": [
    "### 9-1 :  Restaurant: Make a class called Restaurant. The __init__() method for \n",
    "Restaurant should store two attributes: a restaurant_name and a cuisine_type. \n",
    "Make a method called describe_restaurant() that prints these two pieces of \n",
    "information, and a method called open_restaurant() that prints a message indi\n",
    "cating that the restaurant is open.\n",
    " Make an instance called restaurant from your class. Print the two attri\n",
    "butes individually, and then call both methods."
   ]
  },
  {
   "cell_type": "code",
   "execution_count": 34,
   "metadata": {},
   "outputs": [
    {
     "name": "stdout",
     "output_type": "stream",
     "text": [
      "The Restaurant name is TasteBuds\n",
      "This restaurant seves Indian cuisine\n",
      "Name of the restaurant - TasteBuds and served Indian\n",
      "TasteBuds served Indian\n",
      "TasteBuds  is now OPEN  \n"
     ]
    }
   ],
   "source": [
    "class Restaurant :\n",
    "    \"\"\"A simple restaurant class\"\"\"\n",
    "    def __init__(self,restaurant_name,cuisine_type):\n",
    "        self.restaurant_name =restaurant_name\n",
    "        self.cuisine_type =cuisine_type \n",
    "    def describe_restaurant(self) :\n",
    "        print(f\"Name of the restaurant - {self.restaurant_name} and served {self.cuisine_type}\")\n",
    "        print(f\"{self.restaurant_name} served {self.cuisine_type}\")\n",
    "    def open_restaurant(self) :\n",
    "        print(f\"{self.restaurant_name}  is now OPEN  \")\n",
    "\n",
    "\n",
    "my_restaurant=Restaurant('TasteBuds','Indian')\n",
    "\n",
    "print(f\"The Restaurant name is {my_restaurant.restaurant_name}\")\n",
    "print(f\"This restaurant seves {my_restaurant.cuisine_type} cuisine\")\n",
    "\n",
    "my_restaurant.describe_restaurant()\n",
    "my_restaurant.open_restaurant()\n"
   ]
  },
  {
   "cell_type": "markdown",
   "metadata": {},
   "source": [
    "###  9-3. Users: Make a class called User. Create two attributes called first_name \n",
    "and last_name, and then create several other attributes that are typically stored \n",
    "in a user profile. Make a method called describe_user() that prints a summary \n",
    "of the user’s information. Make another method called greet_user() that prints \n",
    "a personalized greeting to the user.\n",
    "Create several instances representing different users, and call both meth\n",
    "ods for each user."
   ]
  },
  {
   "cell_type": "code",
   "execution_count": 42,
   "metadata": {},
   "outputs": [
    {
     "name": "stdout",
     "output_type": "stream",
     "text": [
      "Hirak\n",
      "dhan\n",
      " jio, dhan ,{'op': 3, 'iop': 5}\n",
      " HiHirak ,Happy Durga Puja\n"
     ]
    }
   ],
   "source": [
    "class Users :\n",
    "    def __init__(self,first_name , last_name, **other_attributes) :\n",
    "        self.first_name = first_name \n",
    "        self.last_name = last_name\n",
    "        self.other_attributes = other_attributes\n",
    "    def describe_user(self):\n",
    "        print (f\" {self.first_name}, {self.last_name} ,{self.other_attributes}\")\n",
    "    def greet_user(self):\n",
    "        print (f\" Hi{self.first_name} ,Happy Durga Puja\")\n",
    "\n",
    "user_profile = Users('Hirak','Kalita', ui=23)\n",
    "print(f\"{user_profile.first_name}\")\n",
    "user_profile_3 = Users('jio', 'dhan', op=3, iop=5)\n",
    "\n",
    "print(f\"{user_profile_3.last_name}\")\n",
    "user_profile_3.describe_user()\n",
    "\n",
    "user_profile.greet_user()\n"
   ]
  }
 ],
 "metadata": {
  "kernelspec": {
   "display_name": "Python 3",
   "language": "python",
   "name": "python3"
  },
  "language_info": {
   "codemirror_mode": {
    "name": "ipython",
    "version": 3
   },
   "file_extension": ".py",
   "mimetype": "text/x-python",
   "name": "python",
   "nbconvert_exporter": "python",
   "pygments_lexer": "ipython3",
   "version": "3.11.4"
  }
 },
 "nbformat": 4,
 "nbformat_minor": 2
}
