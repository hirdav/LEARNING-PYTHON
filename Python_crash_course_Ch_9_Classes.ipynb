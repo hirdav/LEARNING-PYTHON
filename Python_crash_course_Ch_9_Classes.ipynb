{
 "cells": [
  {
   "cell_type": "markdown",
   "metadata": {},
   "source": [
    "#####                     Pyhon :  OOPs       ----------Classes--------                     ######"
   ]
  },
  {
   "cell_type": "code",
   "execution_count": 21,
   "metadata": {},
   "outputs": [
    {
     "name": "stdout",
     "output_type": "stream",
     "text": [
      "My dog name is will\n",
      "My dog  is 9 years old.\n",
      "will is now sitting.\n",
      "will rolled over !\n"
     ]
    }
   ],
   "source": [
    "class Dog:\n",
    "    \"\"\"A Simple attempt to model a dog\"\"\"\n",
    "\n",
    "    def __init__(self,name,age) :\n",
    "        \"\"\"\"Initialze name and age attributes\"\"\"\n",
    "        self.name = name \n",
    "        self.age = age\n",
    "    def sit (self) :\n",
    "        \"\"\"Simulate a dog sitting in response to a command.\"\"\"\n",
    "        print (f\"{self.name} is now sitting.\")\n",
    "\n",
    "    def roll_over(self):\n",
    "        \"\"\"Simulate rolling over in response to a command\"\"\"\n",
    "        print (f\"{self.name} rolled over !\")\n",
    "\n",
    "\n",
    "my_dog = Dog('will',9)\n",
    "\n",
    "print(f\"My dog name is {my_dog.name}\")\n",
    "print(f\"My dog  is {my_dog.age} years old.\")\n",
    "\n",
    "my_dog.sit()\n",
    "my_dog.roll_over()\n"
   ]
  },
  {
   "cell_type": "markdown",
   "metadata": {},
   "source": [
    "### 9-1 :  Restaurant: Make a class called Restaurant. The __init__() method for Restaurant should store two attributes: a restaurant_name and a cuisine_type. Make a method called describe_restaurant() that prints these two pieces of information, and a method called open_restaurant() that prints a message indicating that the restaurant is open.Make an instance called restaurant from your class. Print the two attributes individually, and then call both methods."
   ]
  },
  {
   "cell_type": "code",
   "execution_count": 34,
   "metadata": {},
   "outputs": [
    {
     "name": "stdout",
     "output_type": "stream",
     "text": [
      "The Restaurant name is TasteBuds\n",
      "This restaurant seves Indian cuisine\n",
      "Name of the restaurant - TasteBuds and served Indian\n",
      "TasteBuds served Indian\n",
      "TasteBuds  is now OPEN  \n"
     ]
    }
   ],
   "source": [
    "class Restaurant :\n",
    "    \"\"\"A simple restaurant class\"\"\"\n",
    "    def __init__(self,restaurant_name,cuisine_type):\n",
    "        self.restaurant_name =restaurant_name\n",
    "        self.cuisine_type =cuisine_type \n",
    "    def describe_restaurant(self) :\n",
    "        print(f\"Name of the restaurant - {self.restaurant_name} and served {self.cuisine_type}\")\n",
    "        print(f\"{self.restaurant_name} served {self.cuisine_type}\")\n",
    "    def open_restaurant(self) :\n",
    "        print(f\"{self.restaurant_name}  is now OPEN  \")\n",
    "\n",
    "\n",
    "my_restaurant=Restaurant('TasteBuds','Indian')\n",
    "\n",
    "print(f\"The Restaurant name is {my_restaurant.restaurant_name}\")\n",
    "print(f\"This restaurant seves {my_restaurant.cuisine_type} cuisine\")\n",
    "\n",
    "my_restaurant.describe_restaurant()\n",
    "my_restaurant.open_restaurant()\n"
   ]
  },
  {
   "cell_type": "markdown",
   "metadata": {},
   "source": [
    "###  9-2. Three Restaurants: Start with your class from Exercise 9-1. Create three different instances from the class, and call describe_restaurant() for each instance."
   ]
  },
  {
   "cell_type": "code",
   "execution_count": 22,
   "metadata": {},
   "outputs": [
    {
     "name": "stdout",
     "output_type": "stream",
     "text": [
      "The Restaurant name is TasteBuds\n",
      "This restaurant seves Indian cuisine\n",
      "\n",
      "Name of the restaurant - TasteBuds \n",
      "TasteBuds served Indian cuisine\n",
      "\n",
      "Name of the restaurant - Zero1 \n",
      "Zero1 served chinese cuisine\n",
      "\n",
      "Name of the restaurant - FoodMIle \n",
      "FoodMIle served mexican cuisine\n"
     ]
    }
   ],
   "source": [
    "class Restaurant :\n",
    "    \"\"\"A simple restaurant class\"\"\"\n",
    "    def __init__(self,restaurant_name,cuisine_type):\n",
    "        self.restaurant_name =restaurant_name\n",
    "        self.cuisine_type =cuisine_type \n",
    "    def describe_restaurant(self) :\n",
    "        print(f\"\\nName of the restaurant - {self.restaurant_name} \")\n",
    "        print(f\"{self.restaurant_name} served {self.cuisine_type} cuisine\")\n",
    "    def open_restaurant(self) :\n",
    "        print(f\"{self.restaurant_name}  is open  \")\n",
    "\n",
    "\n",
    "my_restaurant=Restaurant('TasteBuds','Indian')\n",
    "my_restaurant_1=Restaurant('Zero1','chinese')\n",
    "my_restaurant_2=Restaurant('FoodMIle','mexican')\n",
    "\n",
    "\n",
    "print(f\"The Restaurant name is {my_restaurant.restaurant_name}\")\n",
    "print(f\"This restaurant seves {my_restaurant.cuisine_type} cuisine\")\n",
    "\n",
    "my_restaurant.describe_restaurant()\n",
    "my_restaurant_1.describe_restaurant()\n",
    "my_restaurant_2.describe_restaurant()"
   ]
  },
  {
   "cell_type": "markdown",
   "metadata": {},
   "source": [
    "###  9-3. Users: Make a class called User. Create two attributes called first_name and last_name, and then create several other attributes that are typically stored in a user profile. Make a method called describe_user() that prints a summary of the user’s information. Make another method called greet_user() that prints a personalized greeting to the user.Create several instances representing different users, and call both methods for each user."
   ]
  },
  {
   "cell_type": "code",
   "execution_count": 18,
   "metadata": {},
   "outputs": [
    {
     "name": "stdout",
     "output_type": "stream",
     "text": [
      "Hirak\n",
      "Tata\n",
      "Ratan, Tata ,{'known_as': 'legend', 'networth_in_b': 300}\n",
      "Hi Hirak, Happy Durga Puja\n"
     ]
    }
   ],
   "source": [
    "class Users :\n",
    "    def __init__(self,first_name , last_name, **other_attributes) :\n",
    "        self.first_name = first_name \n",
    "        self.last_name = last_name\n",
    "        self.other_attributes = other_attributes\n",
    "    def describe_user(self):\n",
    "        print (f\"{self.first_name}, {self.last_name} ,{self.other_attributes}\")\n",
    "    def greet_user(self):\n",
    "        print (f\"Hi {self.first_name}, Happy Durga Puja\")\n",
    "\n",
    "user_profile = Users('Hirak','Kalita', ux=63)\n",
    "print(f\"{user_profile.first_name}\")\n",
    "user_profile_3 = Users('Ratan','Tata',known_as='legend', networth_in_b=300)\n",
    "\n",
    "print(f\"{user_profile_3.last_name}\")\n",
    "user_profile_3.describe_user()\n",
    "\n",
    "user_profile.greet_user()\n"
   ]
  },
  {
   "cell_type": "markdown",
   "metadata": {},
   "source": [
    "### The CAR class"
   ]
  },
  {
   "cell_type": "code",
   "execution_count": 12,
   "metadata": {},
   "outputs": [
    {
     "name": "stdout",
     "output_type": "stream",
     "text": [
      "2024 Audi A4\n"
     ]
    }
   ],
   "source": [
    "class Car:\n",
    "    \"\"\"A simpple attempt to represnt a car\"\"\"\n",
    "    def __init__(self, make, model, year) :\n",
    "        \"\"\"initiating attributes t describe a car\"\"\"\n",
    "        self.make = make\n",
    "        self.model = model\n",
    "        self.year = year\n",
    "    def get_descriptive_name(self) :\n",
    "        \"\"\"return a neatly formatted descriptive name.\"\"\"\n",
    "        long_name= f\"{self.year} {self.make} {self.model}\"\n",
    "        return long_name.title()\n",
    "    my_new_car = Car('audi','a4', 2024)\n",
    "    print(my_new_car.get_descriptive_name())"
   ]
  },
  {
   "cell_type": "markdown",
   "metadata": {},
   "source": [
    "### Setting a Default Value for an Attribute"
   ]
  },
  {
   "cell_type": "code",
   "execution_count": 6,
   "metadata": {},
   "outputs": [
    {
     "name": "stdout",
     "output_type": "stream",
     "text": [
      "2024 Audi A4\n",
      "This car has 0 miles on it .\n"
     ]
    }
   ],
   "source": [
    "class Car:\n",
    "    def __init__ (self,make , model, year) :\n",
    "        \"\"\"intialising attributes to describe a car\"\"\"\n",
    "        self.make = make\n",
    "        self.model = model\n",
    "        self.year= year\n",
    "        self.odometer_reading = 0 \n",
    "    def get_descriptive_name(self) :\n",
    "        \"\"\"retrun in a neatly formatted descriptivd name\"\"\"\n",
    "        long_name = f\"{self.year} {self.make} {self.model}\"\n",
    "        return long_name.title()\n",
    "    def read_odometer(self) :\n",
    "        \"\"\"printing a statement showing the car's mileage\"\"\"\n",
    "        print(f\"This car has {self.odometer_reading} miles on it .\")\n",
    "my_new_car = Car('audi','a4', 2024)\n",
    "print(my_new_car.get_descriptive_name())\n",
    "my_new_car.read_odometer()"
   ]
  },
  {
   "cell_type": "markdown",
   "metadata": {},
   "source": [
    "### modifying attributes\n",
    "\n",
    "my_new_car.read_odometer = 23\n",
    "my_new_car.read_odometer()"
   ]
  },
  {
   "cell_type": "code",
   "execution_count": 7,
   "metadata": {},
   "outputs": [
    {
     "name": "stdout",
     "output_type": "stream",
     "text": [
      "2024 Audi A4\n",
      "This car has 23 miles on it .\n"
     ]
    }
   ],
   "source": [
    "class Car:\n",
    "    def __init__ (self,make , model, year) :\n",
    "        \"\"\"intialising attributes to describe a car\"\"\"\n",
    "        self.make = make\n",
    "        self.model = model\n",
    "        self.year= year\n",
    "        self.odometer_reading = 0 \n",
    "    def get_descriptive_name(self) :\n",
    "        \"\"\"retrun in a neatly formatted descriptivd name\"\"\"\n",
    "        long_name = f\"{self.year} {self.make} {self.model}\"\n",
    "        return long_name.title()\n",
    "    def read_odometer(self) :\n",
    "        \"\"\"printing a statement showing the car's mileage\"\"\"\n",
    "        print(f\"This car has {self.odometer_reading} miles on it .\")\n",
    "my_new_car = Car('audi','a4', 2024)\n",
    "print(my_new_car.get_descriptive_name())\n",
    "my_new_car.odometer_reading = 23\n",
    "my_new_car.read_odometer()"
   ]
  },
  {
   "cell_type": "code",
   "execution_count": 11,
   "metadata": {},
   "outputs": [
    {
     "name": "stdout",
     "output_type": "stream",
     "text": [
      "2024 Audi A4\n",
      "This car has 23 miles on it .\n"
     ]
    }
   ],
   "source": [
    "class Car:\n",
    "    def __init__ (self,make , model, year) :\n",
    "        \"\"\"intialising attributes to describe a car\"\"\"\n",
    "        self.make = make\n",
    "        self.model = model\n",
    "        self.year= year\n",
    "        self.odometer_reading = 0\n",
    "    def get_descriptive_name(self) :\n",
    "        \"\"\"retrun in a neatly formatted descriptivd name\"\"\"\n",
    "        long_name = f\"{self.year} {self.make} {self.model}\"\n",
    "        return long_name.title()\n",
    "    def read_odometer(self) :\n",
    "        \"\"\"printing a statement showing the car's mileage\"\"\"\n",
    "        print(f\"This car has {self.odometer_reading} miles on it .\")\n",
    "    def update_odometer (self,mileage) :\n",
    "        \"\"\"seting the odometer reading to the given value\"\"\"\n",
    "        self.odometer_reading = mileage\n",
    "my_new_car = Car('audi','a4', 2024)\n",
    "print(my_new_car.get_descriptive_name())\n",
    "my_new_car.update_odometer(23)\n",
    "my_new_car.read_odometer()"
   ]
  },
  {
   "cell_type": "code",
   "execution_count": 14,
   "metadata": {},
   "outputs": [
    {
     "name": "stdout",
     "output_type": "stream",
     "text": [
      "2024 Audi A4\n",
      "This car has 20 miles on it .\n"
     ]
    }
   ],
   "source": [
    "class Car:\n",
    "    def __init__ (self,make , model, year) :\n",
    "        \"\"\"intialising attributes to describe a car\"\"\"\n",
    "        self.make = make\n",
    "        self.model = model\n",
    "        self.year= year\n",
    "        self.odometer_reading = 0\n",
    "    def get_descriptive_name(self) :\n",
    "        \"\"\"retrun in a neatly formatted descriptivd name\"\"\"\n",
    "        long_name = f\"{self.year} {self.make} {self.model}\"\n",
    "        return long_name.title()\n",
    "    def read_odometer(self) :\n",
    "        \"\"\"printing a statement showing the car's mileage\"\"\"\n",
    "        print(f\"This car has {self.odometer_reading} miles on it .\")\n",
    "    def update_odometer(self, mileage):\n",
    "        \"\"\"\n",
    "        Set the odometer reading to the given value.\n",
    "        Reject the change if it attempts to roll the odometer back.\n",
    "        \"\"\"\n",
    "        if mileage >= self.odometer_reading:\n",
    "            self.odometer_reading = mileage\n",
    "        else:\n",
    "             print(\"You can't roll back an odometer!\")\n",
    "my_new_car = Car('audi','a4', 2024)\n",
    "print(my_new_car.get_descriptive_name())\n",
    "my_new_car.update_odometer(20)\n",
    "my_new_car.read_odometer()"
   ]
  },
  {
   "cell_type": "markdown",
   "metadata": {},
   "source": [
    "###  9-4. Number Served: Start with your program from Exercise 9-1 (page 162). Add an attribute called *number_served* with a default value of *0*. Create an instance called restaurant from this class. Print the number of customers the restaurant has served, and then change this value and print it again.Add a method called *set_number_served()* that lets you set the number of customers that have been served. Call this method with a new number and print the value again.Add a method called *increment_number_served()* that lets you increment the number of customers who’ve been served. Call this method with any number you like that could represent how many customers were served in, say, a day of business."
   ]
  },
  {
   "cell_type": "code",
   "execution_count": 1,
   "metadata": {},
   "outputs": [
    {
     "name": "stdout",
     "output_type": "stream",
     "text": [
      "Name of the restaurant - Muse and served Mexican\n",
      "Muse served Mexican\n",
      "Muse  is now OPEN  \n",
      "Total 94 number of great customer served \n",
      "And calling the day off with 100 customers in total.\n"
     ]
    }
   ],
   "source": [
    "class Restaurant :\n",
    "    \"\"\"A simple restaurant class\"\"\"\n",
    "    def __init__(self,restaurant_name,cuisine_type,number_served=0):\n",
    "        self.restaurant_name =restaurant_name\n",
    "        self.cuisine_type =cuisine_type \n",
    "        self.number_served = number_served\n",
    "    def describe_restaurant(self) :\n",
    "        print(f\"Name of the restaurant - {self.restaurant_name} and served {self.cuisine_type}\")\n",
    "        print(f\"{self.restaurant_name} served {self.cuisine_type}\")\n",
    "    def open_restaurant(self) :\n",
    "        print(f\"{self.restaurant_name}  is now OPEN  \")\n",
    "    def set_number_served(self,served) :\n",
    "        self.number_served = served\n",
    "    def increment_number_served(self,add_served) :\n",
    "        self.number_served += add_served\n",
    "\n",
    "my_restaurant= Restaurant('Muse', 'Mexican')\n",
    "my_restaurant.describe_restaurant()\n",
    "my_restaurant.open_restaurant()\n",
    "\n",
    "my_restaurant.set_number_served (94)\n",
    "print(f\"Total {my_restaurant.number_served} number of great customer served \")\n",
    "my_restaurant.increment_number_served (6)\n",
    "print(f\"And calling the day off with {my_restaurant.number_served} customers in total.\")\n",
    "\n",
    "\n",
    "\n"
   ]
  },
  {
   "cell_type": "markdown",
   "metadata": {},
   "source": [
    "### 9-5. Login Attempts: Add an attribute called login_attempts to your User class from Exercise 9-3 (page 162). Write a method called increment_login_attempts() that increments the value of login_attempts by 1. Write another method called reset_login_attempts() that resets the value of login_attempts to 0.Make an instance of the User class and call increment_login_attempts() several times. Print the value of login_attempts to make sure it was incremented properly, and then call reset_login_attempts(). Print login_attempts again to make sure it was reset to 0"
   ]
  },
  {
   "cell_type": "code",
   "execution_count": null,
   "metadata": {},
   "outputs": [],
   "source": [
    "class Users :\n",
    "    def __init__(self,first_name , last_name,**other_attributes) :\n",
    "        self.first_name = first_name \n",
    "        self.last_name = last_name\n",
    "        self.login_attempts = 0\n",
    "        self.other_attributes = other_attributes\n",
    "    def describe_user(self):\n",
    "        print (f\"{self.first_name}, {self.last_name} ,{self.other_attributes}\")\n",
    "    def greet_user(self):\n",
    "        print (f\"Hi {self.first_name}, Happy Durga Puja\")\n",
    "    def increment_login_attempts(self) :\n",
    "        self.login_attempts += 1 \n",
    "    def reset_login_attempts (self) :\n",
    "        self.login_attempts = 0 \n",
    "            \n",
    "\n",
    "user_profile = Users('Hirak','Kalita', ux=63)\n",
    "print(f\"{user_profile.first_name}\")\n",
    "user_profile_3 = Users('Ratan','Tata',known_as='legend', networth_in_b=300)\n",
    "print(f\"{user_profile_3.last_name}\")\n",
    "user_profile_3.describe_user()\n",
    "user_profile.greet_user()\n",
    "\n",
    "user_profile.increment_login_attempts()\n",
    "user_profile.increment_login_attempts()\n",
    "user_profile.increment_login_attempts()\n",
    "user_profile.increment_login_attempts()\n",
    "print (f\"\\nyou attempt to log in mortal kombat game for {user_profile.login_attempts} times\")\n",
    "user_profile.reset_login_attempts()\n",
    "print(f\"and now {user_profile.login_attempts} log in left to logout\")\n",
    "\n"
   ]
  },
  {
   "cell_type": "markdown",
   "metadata": {},
   "source": [
    "### Inheritence"
   ]
  },
  {
   "cell_type": "code",
   "execution_count": 4,
   "metadata": {},
   "outputs": [
    {
     "name": "stdout",
     "output_type": "stream",
     "text": [
      "2024 Nissan Leaf\n"
     ]
    }
   ],
   "source": [
    "class Car:\n",
    "    \"\"\"A simple attempt to represent a car.\"\"\"\n",
    "    def __init__(self, make, model, year):\n",
    "        \"\"\"Initialize attributes to describe a car.\"\"\"\n",
    "        self.make = make\n",
    "        self.model = model   \n",
    "        self.year = year\n",
    "        self.odometer_reading = 0\n",
    "    def get_descriptive_name(self):\n",
    "    \n",
    "        \"\"\" Return a neatly formatted descriptive name \"\"\"\n",
    "        long_name = f\"{self.year} {self.make} {self.model}\"\n",
    "        return long_name.title()\n",
    "\n",
    "    def read_odometer(self):\n",
    "        \"\"\"Print a statement showing the cars mileage.\"\"\"\n",
    "        print(f\"This car has {self.odometer_reading} miles on it.\")\n",
    "        \n",
    "    def update_odometer(self, mileage):\n",
    "        \"\"\"Set the odometer reading to the given value.\"\"\"\n",
    "        if mileage >= self.odometer_reading:\n",
    "            self.odometer_reading = mileage\n",
    "        else:\n",
    "            print(\"You can't roll back an odometer!\")\n",
    "    def increment_odometer(self, miles):\n",
    "        \"\"\"Add the given amount to the odometer reading.\"\"\"\n",
    "        self.odometer_reading += miles\n",
    "class ElectricCar(Car):\n",
    "    \"\"\"Represent aspects of a car, specific to electric vehicles.\"\"\"\n",
    "    def __init__(self, make, model, year):\n",
    "        \"\"\"Initialize attributes of the parentclass\"\"\"\n",
    "        super().__init__(make, model, year)\n",
    "my_leaf = ElectricCar('nissan', 'leaf', 2024)\n",
    "print(my_leaf.get_descriptive_name())"
   ]
  },
  {
   "cell_type": "code",
   "execution_count": 5,
   "metadata": {},
   "outputs": [
    {
     "name": "stdout",
     "output_type": "stream",
     "text": [
      "2024 Nissan Leaf\n",
      "This car has 40 kwh battery\n"
     ]
    }
   ],
   "source": [
    "class Car:\n",
    "    \"\"\"A simple attempt to represent a car.\"\"\"\n",
    "    def __init__(self, make, model, year):\n",
    "        \"\"\"Initialize attributes to describe a car.\"\"\"\n",
    "        self.make = make\n",
    "        self.model = model   \n",
    "        self.year = year\n",
    "        self.odometer_reading = 0\n",
    "    def get_descriptive_name(self):\n",
    "    \n",
    "        \"\"\" Return a neatly formatted descriptive name \"\"\"\n",
    "        long_name = f\"{self.year} {self.make} {self.model}\"\n",
    "        return long_name.title()\n",
    "\n",
    "    def read_odometer(self):\n",
    "        \"\"\"Print a statement showing the cars mileage.\"\"\"\n",
    "        print(f\"This car has {self.odometer_reading} miles on it.\")\n",
    "        \n",
    "    def update_odometer(self, mileage):\n",
    "        \"\"\"Set the odometer reading to the given value.\"\"\"\n",
    "        if mileage >= self.odometer_reading:\n",
    "            self.odometer_reading = mileage\n",
    "        else:\n",
    "            print(\"You can't roll back an odometer!\")\n",
    "    def increment_odometer(self, miles):\n",
    "        \"\"\"Add the given amount to the odometer reading.\"\"\"\n",
    "        self.odometer_reading += miles\n",
    "class ElectricCar(Car):\n",
    "    \"\"\"Represent aspects of a car, specific to electric vehicles.\"\"\"\n",
    "    def __init__(self, make, model, year):\n",
    "        \"\"\"Initialize attributes of the parentclass\"\"\"\n",
    "        super().__init__(make, model, year)\n",
    "        self.battery_size = 40 \n",
    "    def describe_battery (self) :\n",
    "        print (f\"This car has {self.battery_size} kwh battery\")\n",
    "my_leaf = ElectricCar('nissan', 'leaf', 2024)\n",
    "print(my_leaf.get_descriptive_name())\n",
    "\n",
    "my_leaf.describe_battery()"
   ]
  },
  {
   "cell_type": "markdown",
   "metadata": {},
   "source": [
    "### Instances as attributes"
   ]
  },
  {
   "cell_type": "code",
   "execution_count": 6,
   "metadata": {},
   "outputs": [
    {
     "name": "stdout",
     "output_type": "stream",
     "text": [
      "2024 Nissan Leaf\n",
      "this car has a 40 - kwh battery\n"
     ]
    }
   ],
   "source": [
    "class Car:\n",
    "    \"\"\"A simple attempt to represent a car.\"\"\"\n",
    "    def __init__(self, make, model, year):\n",
    "        \"\"\"Initialize attributes to describe a car.\"\"\"\n",
    "        self.make = make\n",
    "        self.model = model   \n",
    "        self.year = year\n",
    "        self.odometer_reading = 0\n",
    "    def get_descriptive_name(self):\n",
    "    \n",
    "        \"\"\" Return a neatly formatted descriptive name \"\"\"\n",
    "        long_name = f\"{self.year} {self.make} {self.model}\"\n",
    "        return long_name.title()\n",
    "\n",
    "    def read_odometer(self):\n",
    "        \"\"\"Print a statement showing the cars mileage.\"\"\"\n",
    "        print(f\"This car has {self.odometer_reading} miles on it.\")\n",
    "        \n",
    "    def update_odometer(self, mileage):\n",
    "        \"\"\"Set the odometer reading to the given value.\"\"\"\n",
    "        if mileage >= self.odometer_reading:\n",
    "            self.odometer_reading = mileage\n",
    "        else:\n",
    "            print(\"You can't roll back an odometer!\")\n",
    "    def increment_odometer(self, miles):\n",
    "        \"\"\"Add the given amount to the odometer reading.\"\"\"\n",
    "        self.odometer_reading += miles\n",
    "class Battery :\n",
    "    \"\"\" simple attempt to model a battery \"\"\"\n",
    "    def __init__(self,battery_size = 40):\n",
    "        self.battery_size = battery_size \n",
    "    def describe_battery(self ):\n",
    "        print(f\"this car has a {self.battery_size} - kwh battery\")\n",
    "\n",
    "class ElectricCar(Car):\n",
    "    \"\"\"Represent aspects of a car, specific to electric vehicles.\"\"\"\n",
    "    def __init__(self, make, model, year):\n",
    "        \"\"\"Initialize attributes of the parentclass\"\"\"\n",
    "        super().__init__(make, model, year)\n",
    "        self.battery = Battery() \n",
    "\n",
    "    def describe_battery (self) :\n",
    "        print (f\"This car has {self.battery_size} kwh battery\")\n",
    "my_leaf = ElectricCar('nissan', 'leaf', 2024)\n",
    "print(my_leaf.get_descriptive_name())\n",
    "\n",
    "my_leaf.battery.describe_battery()"
   ]
  },
  {
   "cell_type": "markdown",
   "metadata": {},
   "source": [
    "###  9-6. Ice Cream Stand: An ice cream stand is a specific kind of restaurant. Write a class called IceCreamStand that inherits from the Restaurant class you wrote in Exercise 9-1 (page 162) or Exercise 9-4 (page 166). Either version of the class will work; just pick the one you like better. Add an attribute called flavors that stores a list of ice cream flavors. Write a method that displays these flavors. Create an instance of IceCreamStand, and call this method."
   ]
  },
  {
   "cell_type": "code",
   "execution_count": 29,
   "metadata": {},
   "outputs": [
    {
     "name": "stdout",
     "output_type": "stream",
     "text": [
      "Available flavours for Swice  are : \n",
      "  - orange\n",
      "  - pinapple\n",
      "  - mango\n"
     ]
    }
   ],
   "source": [
    "class Restaurant :\n",
    "    \"\"\"A simple restaurant class\"\"\"\n",
    "    def __init__(self,restaurant_name,cuisine_type,number_served=0):\n",
    "        self.restaurant_name =restaurant_name\n",
    "        self.cuisine_type =cuisine_type \n",
    "        self.number_served = number_served\n",
    "    def describe_restaurant(self) :\n",
    "        print(f\"Name of the restaurant - {self.restaurant_name} and served {self.cuisine_type}\")\n",
    "        print(f\"{self.restaurant_name} served {self.cuisine_type}\")\n",
    "    def open_restaurant(self) :\n",
    "        print(f\"{self.restaurant_name}  is now OPEN  \")\n",
    "    def set_number_served(self,served) :\n",
    "        self.number_served = served\n",
    "    def increment_number_served(self,add_served) :\n",
    "        self.number_served += add_served\n",
    "\n",
    "\n",
    "class IceCreamStand (Restaurant) :\n",
    "    def __init__(self,restaurant_name,cuisine_type,flavours,number_served):\n",
    "        \"\"\"Initialize attributes of the parentclass\"\"\"\n",
    "        super().__init__(restaurant_name,cuisine_type,number_served=0)\n",
    "        self.flavours = flavours \n",
    "    def display_flavours(self):\n",
    "        print (f\"Available flavours for {self.restaurant_name}  are : \")\n",
    "        for flavour in self.flavours :\n",
    "            print(f\"  - {flavour}\")\n",
    "all_flavours = IceCreamStand('Swice', 'Creamheaven',['orange','pinapple','mango'],90)\n",
    "\n",
    "all_flavours.display_flavours()\n",
    "\n",
    "\n",
    "\n",
    "# my_restaurant= Restaurant('Muse', 'Mexican')\n",
    "# my_restaurant.describe_restaurant()\n",
    "# my_restaurant.open_restaurant()\n",
    "# my_restaurant.set_number_served (94)\n",
    "# print(f\"Total {my_restaurant.number_served} number of great customer served \")\n",
    "# my_restaurant.increment_number_served (6)\n",
    "# print(f\"And calling the day off with {my_restaurant.number_served} customers in total.\")\n",
    "\n",
    "\n",
    "\n"
   ]
  },
  {
   "cell_type": "markdown",
   "metadata": {},
   "source": [
    "###  9-7. Admin: An administrator is a special kind of user. Write a class called Admin that inherits from the User class you wrote in Exercise 9-3 (page 162) or Exercise 9-5 (page 167). Add an attribute, privileges, that stores a list of strings like \"can add post\", \"can delete post\", \"can ban user\", and so on. Write a method called show_privileges() that lists the administrator’s set of privileges. Create an instance of Admin, and call your method."
   ]
  },
  {
   "cell_type": "code",
   "execution_count": 50,
   "metadata": {},
   "outputs": [
    {
     "name": "stdout",
     "output_type": "stream",
     "text": [
      "List of Administrator privileges : \n",
      "- can add post\n",
      "- can delete post\n",
      "- can ban user\n",
      "- can creat user\n"
     ]
    }
   ],
   "source": [
    "class Users :\n",
    "    def __init__(self,first_name , last_name, **other_attributes) :\n",
    "        self.first_name = first_name \n",
    "        self.last_name = last_name\n",
    "        self.other_attributes = other_attributes\n",
    "    def describe_user(self):\n",
    "        print (f\"{self.first_name}, {self.last_name} ,{self.other_attributes}\")\n",
    "    def greet_user(self):\n",
    "        print (f\"Hi {self.first_name}, Good Morning\")\n",
    "\n",
    "class Admin(Users) :\n",
    "    \"\"\" adding attributes\"\"\"\n",
    "    def __init__(self,first_name , last_name,privileges,**other_attributes) :\n",
    "\n",
    "        super().__init__(first_name , last_name, **other_attributes)\n",
    "        \"\"\"initializing attributes\"\"\"\n",
    "        self.privileges = privileges\n",
    "    def show_privileges(self) :\n",
    "        print(f\"List of Administrator privileges : \")\n",
    "        for privilege in self.privileges :\n",
    "            print(f\"- {privilege}\")\n",
    "admin_user = Admin('john','doe',[\"can add post\", \"can delete post\", \"can ban user\",'can creat user'])\n",
    "admin_user.show_privileges()\n",
    "\n",
    "\n",
    "\n",
    "\n",
    "\n",
    "# user_profile = Users('Hirak','Kalita', ux=63)\n",
    "# print(f\"{user_profile.first_name}\")\n",
    "# user_profile_3 = Users('Ratan','Tata',known_as='legend', networth_in_b=300)\n",
    "\n",
    "# print(f\"{user_profile_3.last_name}\")\n",
    "# user_profile_3.describe_user()\n",
    "\n",
    "# user_profile.greet_user()\n",
    "\n",
    "\n",
    "    "
   ]
  },
  {
   "cell_type": "markdown",
   "metadata": {},
   "source": [
    "### 9-8. Privileges: Write a separate Privileges class. The class should have one attribute, privileges, that stores a list of strings as described in Exercise 9-7. Move the show_privileges() method to this class. Make a Privileges instance as an attribute in the Admin class. Create a new instance of Admin and use your method to show its privileges"
   ]
  },
  {
   "cell_type": "code",
   "execution_count": 4,
   "metadata": {},
   "outputs": [
    {
     "name": "stdout",
     "output_type": "stream",
     "text": [
      "Privileges:\n",
      "- can add post\n",
      "- can delete post\n",
      "- can ban user\n"
     ]
    }
   ],
   "source": [
    "class Users:\n",
    "    \"\"\"A simple user class.\"\"\"\n",
    "    def __init__(self, first_name, last_name, **other_attributes):\n",
    "        \"\"\"Initialize user attributes.\"\"\"\n",
    "        self.first_name = first_name\n",
    "        self.last_name = last_name\n",
    "        self.other_attributes = other_attributes\n",
    "\n",
    "    def describe_user(self):\n",
    "        \"\"\"Describe the user.\"\"\"\n",
    "        print(f\"User: {self.first_name} {self.last_name}\")\n",
    "        for key, value in self.other_attributes.items():\n",
    "            print(f\"{key}: {value}\")\n",
    "\n",
    "    def greet_user(self):\n",
    "        \"\"\"Greet the user.\"\"\"\n",
    "        print(f\"Hello, {self.first_name}!\")\n",
    "\n",
    "class Privileges:\n",
    "    \"\"\"A class to manage privileges of an admin.\"\"\"\n",
    "    def __init__(self, privileges=[]):\n",
    "        \"\"\"Initialize privileges attribute.\"\"\"\n",
    "        self.privileges = privileges\n",
    "\n",
    "    def show_privileges(self):\n",
    "        \"\"\"Display the privileges.\"\"\"\n",
    "        print(\"Privileges:\")\n",
    "        for privilege in self.privileges:\n",
    "                print(f\"- {privilege}\")\n",
    "        \n",
    "\n",
    "class Admin(Users):\n",
    "    \"\"\"Admin class inherits from Users.\"\"\"\n",
    "    def __init__(self, first_name, last_name, **other_attributes):\n",
    "        \"\"\"Initialize the Admin class with user attributes and privileges.\"\"\"\n",
    "        super().__init__(first_name, last_name, **other_attributes)\n",
    "        self.privileges = Privileges()  # Create an instance of Privileges class\n",
    "\n",
    "# Creating an Admin instance and assigning privileges\n",
    "admin_user = Admin('John', 'Doe')\n",
    "admin_user.privileges.privileges = [\"can add post\", \"can delete post\", \"can ban user\"]\n",
    "admin_user.privileges.show_privileges()\n",
    "\n"
   ]
  },
  {
   "cell_type": "markdown",
   "metadata": {},
   "source": [
    "### 9-9. Battery Upgrade: Use the final version of electric_car.py from this section. Add a method to the Battery class called upgrade_battery(). This method should check the battery size and set the capacity to 65 if it isn’t already. Make an electric car with a default battery size, call get_range() once, and then call get_range() a second time after upgrading the battery. You should see an increase in the car’s range."
   ]
  },
  {
   "cell_type": "code",
   "execution_count": null,
   "metadata": {},
   "outputs": [],
   "source": [
    "class Car:\n",
    "    \"\"\"A simple attempt to represent a car.\"\"\"\n",
    "    def __init__(self, make, model, year):\n",
    "        \"\"\"Initialize attributes to describe a car.\"\"\"\n",
    "        self.make = make\n",
    "        self.model = model\n",
    "        self.year = year\n",
    "        self.odometer_reading = 0\n",
    "    def get_descriptive_name(self):\n",
    "        \"\"\"Return a neatly formatted descriptive name.\"\"\"\n",
    "        long_name = f\"{self.year} {self.make} {self.model}\"\n",
    "        return long_name.title()\n",
    "    def read_odometer(self):\n",
    "        \"\"\"Print a statement showing the car's mileage.\"\"\"\n",
    "        print(f\"This car has {self.odometer_reading} miles on it.\")\n",
    "    def update_odometer(self, mileage):\n",
    "        \"\"\"Set the odometer reading to the given value.\"\"\"\n",
    "        if mileage >= self.odometer_reading:\n",
    "            self.odometer_reading = mileage\n",
    "        else:\n",
    "            print(\"You can't roll back an odometer!\")\n",
    "    def increment_odometer(self, miles):\n",
    "        \"\"\"Add the given amount to the odometer reading.\"\"\"\n",
    "        self.odometer_reading += miles\n",
    "class Battery :\n",
    "    def __init__ (self,battery_size=40):\n",
    "        \"\"\"intialize attributes for battery\"\"\"  \n",
    "        self.battery_size = battery_size\n",
    "        \n",
    "    def describe_battery (self) :\n",
    "        \"\"\"printing a statement of describing battery size\"\"\"\n",
    "        print(f\"this car has a {self.battery_size}kwh battery \")\n",
    "    def get_range(self):\n",
    "        \"\"\"statement about the range this battery provide\"\"\"\n",
    "        if self.battery_size==40 :\n",
    "            range=150\n",
    "        elif self.battery_size ==65 :\n",
    "            range = 225 \n",
    "        print (f\"This car can go {range}\")\n",
    "\n",
    "class ElectricCar(Car):\n",
    "    \"\"\"Represent aspects of a car, specific to electric vehicles.\"\"\"\n",
    " \n",
    "\n",
    "    def __init__(self, make, model, year):\n",
    "        \"\"\"Initialize attributes of the parent class.\"\"\"\n",
    "        super().__init__(make, model, year)\n",
    "        \"\"\"Instances as attribute* also we have for various info regarding battery \"\"\"\n",
    "        \"\"\"so battery moved with a class above for effciency \"\"\"\n",
    "        \"\"\"however electic car need the battery attribute so its dialed up here.\"\"\"\n",
    "        \"\"\"and also called composition\"\"\"\n",
    "        self.battery=Battery() \n",
    "\n",
    "    def describe_battery (self) :\n",
    "        \"\"\"printing a statement of describing battery size\"\"\"\n",
    "        print(f\"this car has a {self.battery_size}-- kwh battery \")\n",
    "    def fill_gas_tank(self):\n",
    "        print(\"This cars doesn't need a gas tank\")\n",
    "my_leaf = ElectricCar ('nissan', 'leaf', 2024)\n",
    "print(my_leaf.get_descriptive_name())\n",
    "my_leaf.battery.describe_battery()\n",
    "my_leaf.battery.get_range()"
   ]
  },
  {
   "cell_type": "code",
   "execution_count": 9,
   "metadata": {},
   "outputs": [
    {
     "data": {
      "text/plain": [
       "1"
      ]
     },
     "execution_count": 9,
     "metadata": {},
     "output_type": "execute_result"
    }
   ],
   "source": [
    "from random import randint\n",
    "randint(1,6)"
   ]
  },
  {
   "cell_type": "code",
   "execution_count": 29,
   "metadata": {},
   "outputs": [
    {
     "data": {
      "text/plain": [
       "'oe'"
      ]
     },
     "execution_count": 29,
     "metadata": {},
     "output_type": "execute_result"
    }
   ],
   "source": [
    "from random import choice\n",
    "high= ['oe','oil','poi']\n",
    "best=choice(high)\n",
    "best"
   ]
  },
  {
   "cell_type": "markdown",
   "metadata": {},
   "source": [
    "9-13. Dice: Make a class Die with one attribute called sides, which has a \n",
    "default value of 6. Write a method called roll_die() that prints a random num\n",
    "ber between 1 and the number of sides the die has. Make a 6-sided die and \n",
    "roll it 10 times.\n",
    "Make a 10-sided die and a 20-sided die. Roll each die 10 times."
   ]
  },
  {
   "cell_type": "code",
   "execution_count": null,
   "metadata": {},
   "outputs": [
    {
     "name": "stdout",
     "output_type": "stream",
     "text": [
      "1 time 5\n"
     ]
    }
   ],
   "source": [
    "from random import randint\n",
    "class Die :\n",
    "    \n",
    "    def __init__(self,sides=6) :\n",
    "        self.sides=sides\n",
    "    def roll_die(self) :\n",
    "        \n",
    "        return randint(1,self.sides)\n",
    "        \n",
    "res= Die(10)\n",
    "\n",
    "for j in range(0,1) :\n",
    "    print(f\"{j+1} time {res.roll_die()}\")\n",
    "        \n",
    "        \n"
   ]
  },
  {
   "cell_type": "markdown",
   "metadata": {},
   "source": [
    "9-14. Lottery: Make a list or tuple containing a series of 10 numbers and 5 letters. \n",
    "Randomly select 4 numbers or letters from the list and print a message saying that \n",
    "any ticket matching these 4 numbers or letters wins a prize"
   ]
  },
  {
   "cell_type": "code",
   "execution_count": null,
   "metadata": {},
   "outputs": [
    {
     "name": "stdout",
     "output_type": "stream",
     "text": [
      "Matching Winning combination : \n",
      "2 36 7 4 "
     ]
    }
   ],
   "source": [
    "from random import randint , choice\n",
    "\n",
    "tupl_1=('f',4,3,1,0,'t',2, 'e',6,36,28, 'y',7,'k')\n",
    "\n",
    "print(\"Matching Winning combination : \"  )\n",
    "for _ in range(0,4) :\n",
    "    print (choice(tupl_1), end = ' ')\n"
   ]
  },
  {
   "cell_type": "code",
   "execution_count": 25,
   "metadata": {},
   "outputs": [
    {
     "name": "stdout",
     "output_type": "stream",
     "text": [
      "1\n",
      "6\n",
      "k\n",
      "f\n",
      "it took 4 iteration to get the ticket 1\n"
     ]
    }
   ],
   "source": [
    "from random import randint , choice\n",
    "\n",
    "tupl_1=('f',4,3,1,0,'t',2, 'e',6,36,28, 'y',7,'k')\n",
    "\n",
    "my_ticket =choice(tupl_1)\n",
    "\n",
    "for i in range(0,len(tupl_1)) :\n",
    "    print(choice(tupl_1))\n",
    "    if tupl_1[i] == my_ticket :\n",
    "        print(f\"it took {i+1} iteration to get the ticket {tupl_1[i]}\")\n",
    "        break"
   ]
  },
  {
   "cell_type": "code",
   "execution_count": null,
   "metadata": {},
   "outputs": [],
   "source": [
    "from random import randint , choice\n",
    "\n",
    "tupl_1=('f',4,3,1,0,'t',2, 'e',6,36,28, 'y',7,'k')\n",
    "\n",
    "print(\"Matching Winning combination : \"  )\n",
    "for _ in range(0,4) :\n",
    "    print (choice(tupl_1), end = ' ')"
   ]
  },
  {
   "cell_type": "code",
   "execution_count": 19,
   "metadata": {},
   "outputs": [
    {
     "name": "stdout",
     "output_type": "stream",
     "text": [
      "[6, 'k', 0, 3]\n"
     ]
    }
   ],
   "source": [
    "from random import choice\n",
    "\n",
    "tupl_1 = ('f', 4, 3, 1, 0, 't', 2, 'e', 6, 36, 28, 'y', 7, 'k')\n",
    "\n",
    "# Collect four random choices in a list\n",
    "winning_combination = [choice(tupl_1) for _ in range(4)]\n",
    "\n",
    "# Print the results in a horizontal format\n",
    "# print(\"Matching Winning combination: \", \" - \".join(map(str, winning_combination))) \n",
    "print(winning_combination)\n"
   ]
  },
  {
   "cell_type": "markdown",
   "metadata": {},
   "source": [
    "9-15. Lottery Analysis: You can use a loop to see how hard it might be to win \n",
    "the kind of lottery you just modeled. Make a list or tuple called my_ticket. Write \n",
    "a loop that keeps pulling numbers until your ticket wins. Print a message report\n",
    "ing how many times the loop had to run to give you a winning ticket."
   ]
  },
  {
   "cell_type": "code",
   "execution_count": null,
   "metadata": {},
   "outputs": [],
   "source": [
    "from random import choice\n",
    "tupl_1 = ('f', 4, 3, 1, 0, 't', 2, 'e', 6, 36, 28, 'y', 7, 'k')\n",
    "my_ticket= choice(tupl_1)\n",
    "\n",
    "for i in my_ticket :\n",
    "    while i == winning_combination :\n",
    "        if i == my_ticket :\n",
    "            print(f\"Winning combination found: \")"
   ]
  },
  {
   "cell_type": "code",
   "execution_count": 9,
   "metadata": {},
   "outputs": [
    {
     "name": "stdout",
     "output_type": "stream",
     "text": [
      "Winning combination found: ['f', 3, 'y', 7]\n",
      "It took 76232 attempts to win the lottery!\n"
     ]
    }
   ],
   "source": [
    "from random import choice\n",
    "\n",
    "# Define the lottery pool and the winning ticket\n",
    "lottery_pool = ('f', 4, 3, 1, 0, 't', 2, 'e', 6, 36, 28, 'y', 7, 'k')\n",
    "my_ticket = ['f', 3, 'y', 7]  # Your target winning combination\n",
    "attempts = 0  # Counter to track the number of attempts\n",
    "\n",
    "while True:\n",
    "    # Generate a new random 4-item combination\n",
    "    current_draw = [choice(lottery_pool) for _ in range(4)]\n",
    "    attempts += 1  # Increment the attempt counter\n",
    "\n",
    "    # Check if the drawn combination matches your ticket\n",
    "    if current_draw == my_ticket:\n",
    "        print(f\"Winning combination found: {current_draw}\")\n",
    "        print(f\"It took {attempts} attempts to win the lottery!\")\n",
    "        break\n"
   ]
  },
  {
   "cell_type": "code",
   "execution_count": 17,
   "metadata": {},
   "outputs": [
    {
     "name": "stdout",
     "output_type": "stream",
     "text": [
      "Target ticket (my_ticket): ['y', 7, 'e', 2]\n",
      "Winning combination found: ['y', 7, 'e', 2]\n",
      "It took 9021 attempts to match the target ticket!\n"
     ]
    }
   ],
   "source": [
    "from random import choice\n",
    "\n",
    "# Define the lottery pool\n",
    "lottery_pool = ('f', 4, 3, 1, 0, 't', 2, 'e', 6, 36, 28, 'y', 7, 'k')\n",
    "\n",
    "# Randomly generate the target ticket\n",
    "my_ticket = [choice(lottery_pool) for _ in range(4)]\n",
    "print(f\"Target ticket (my_ticket): {my_ticket}\")\n",
    "\n",
    "attempts = 0  # Initialize counter\n",
    "\n",
    "while True:\n",
    "    # Generate a new random 4-item draw\n",
    "    current_draw = [choice(lottery_pool) for _ in range(4)]\n",
    "    attempts += 1  # Increment the attempt counter\n",
    "\n",
    "    # Check if the drawn combination matches the target ticket\n",
    "    if current_draw == my_ticket:\n",
    "        print(f\"Winning combination found: {current_draw}\")\n",
    "        print(f\"It took {attempts} attempts to match the target ticket!\")\n",
    "        break\n"
   ]
  },
  {
   "cell_type": "code",
   "execution_count": 12,
   "metadata": {},
   "outputs": [
    {
     "name": "stdout",
     "output_type": "stream",
     "text": [
      "Fountain is written by rynd and has 42 pages\n"
     ]
    }
   ],
   "source": [
    "class Book:\n",
    "    def __init__(self,title,author,pages) :\n",
    "        self.title=title\n",
    "        self.author=author\n",
    "        self.pages=pages\n",
    "    def summary(self):\n",
    "        print(f\"{self.title} is written by {self.author} and has {self.pages} pages\")\n",
    "    \n",
    "details =Book('Fountain','rynd','42')\n",
    "details.summary()"
   ]
  },
  {
   "cell_type": "markdown",
   "metadata": {},
   "source": [
    "Project: Building a Simple School System with Dot Notation and\n",
    "OOP\n",
    "Objective: Create a small program that models a school with  School,  Teacher, and  Student classes, focusing on using dot notation to access and manipulate data.\n",
    "\n",
    "1. Define the Classes:\n",
    "School: Has attributes  name and  teachers (a list).\n",
    "Teacher: Attributes include  name,  subject, and  students (a list).\n",
    "Student: Attributes include  name and  grade.\n",
    "2. Implement Methods:\n",
    "School: Methods to add a teacher and list all teachers.\n",
    "Teacher: Methods to add a student and list all students.\n",
    "Student: Method to update the grade.\n",
    "\n"
   ]
  },
  {
   "cell_type": "code",
   "execution_count": 17,
   "metadata": {},
   "outputs": [
    {
     "name": "stdout",
     "output_type": "stream",
     "text": [
      "Mr .Jhon, subject : iop\n",
      "Mrs. Tanya, subject : CSE\n",
      "AliA - grade :a\n",
      "Tabya - grade :b\n"
     ]
    }
   ],
   "source": [
    "class School :\n",
    "    def __init__(self,name):\n",
    "        self.name=name\n",
    "        self.teachers=[]\n",
    "    def add_teacher (self,teacher) :\n",
    "        self.teachers.append(teacher)\n",
    "    def list_teacher(self):\n",
    "        for teacher in self.teachers :\n",
    "            print(f\"{teacher.name}, subject : {teacher.subject}\")\n",
    "class Teacher :\n",
    "    def __init__ (self, name,subject) :\n",
    "        self.name=name\n",
    "        self.subject=subject\n",
    "        self.students=[]\n",
    "    def add_student(self,student):\n",
    "        self.students.append(student)\n",
    "    def list_students (self):\n",
    "        for student in self.students : \n",
    "            print(f\"{student.name} - grade :{student.grade}\")\n",
    "class Student:\n",
    "    def __init__(self,name,grade) :\n",
    "        self.name=name\n",
    "        self.grade=grade\n",
    "    def update_grade (self,new_grade)  :\n",
    "        self.grade = new_grade\n",
    "\n",
    "school = School (\"xyz\")\n",
    "teacher_1 = Teacher (\"Mr .Jhon\", 'iop')\n",
    "teacher_2 = Teacher (\"Mrs. Tanya\", 'CSE')\n",
    "\n",
    "school.add_teacher(teacher_1)\n",
    "school.add_teacher(teacher_2)\n",
    "\n",
    "student_1= Student(\"AliA\",'a')\n",
    "student_2=Student(\"Tabya\",'b')\n",
    "\n",
    "teacher_1.add_student(student_1)\n",
    "teacher_1.add_student(student_2)\n",
    "\n",
    "school.list_teacher()\n",
    "teacher_1.list_students()"
   ]
  }
 ],
 "metadata": {
  "kernelspec": {
   "display_name": "Python 3",
   "language": "python",
   "name": "python3"
  },
  "language_info": {
   "codemirror_mode": {
    "name": "ipython",
    "version": 3
   },
   "file_extension": ".py",
   "mimetype": "text/x-python",
   "name": "python",
   "nbconvert_exporter": "python",
   "pygments_lexer": "ipython3",
   "version": "3.11.4"
  }
 },
 "nbformat": 4,
 "nbformat_minor": 2
}
