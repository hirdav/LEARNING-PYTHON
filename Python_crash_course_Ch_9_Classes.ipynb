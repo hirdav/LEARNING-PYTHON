{
 "cells": [
  {
   "cell_type": "markdown",
   "metadata": {},
   "source": [
    "#####                             ----------Classes--------                     ######"
   ]
  },
  {
   "cell_type": "code",
   "execution_count": 15,
   "metadata": {},
   "outputs": [],
   "source": [
    "class Dog:\n",
    "    \"\"\"A Simple attempt to model a dog\"\"\"\n",
    "\n",
    "def __init__(self,name,age) :\n",
    "        \"\"\"\"Initialze name and age attributes\"\"\"\n",
    "        self.name = name \n",
    "        self.age = age\n",
    "def sit (self) :\n",
    "    \"\"\"Simulate a dog sitting in response to a command.\"\"\"\n",
    "    print (f\"{self.name} is now sitting.\")\n",
    "\n",
    "def roll_over(self):\n",
    "    \"\"\"Simulate rolling over in response to a command\"\"\"\n",
    "    print (f\"{self.name} roled over !\")\n",
    "\n",
    "\n",
    "    my_dog = Dog('will',9)\n",
    "    my_dog= Dog('oh',8)\n",
    "    print(f\"My dog name is {my_dog.name}\")\n",
    "    print(f\"My dog  is {my_dog.age} years old.\")"
   ]
  }
 ],
 "metadata": {
  "kernelspec": {
   "display_name": "Python 3",
   "language": "python",
   "name": "python3"
  },
  "language_info": {
   "codemirror_mode": {
    "name": "ipython",
    "version": 3
   },
   "file_extension": ".py",
   "mimetype": "text/x-python",
   "name": "python",
   "nbconvert_exporter": "python",
   "pygments_lexer": "ipython3",
   "version": "3.11.4"
  }
 },
 "nbformat": 4,
 "nbformat_minor": 2
}
