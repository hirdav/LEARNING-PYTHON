{
 "cells": [
  {
   "cell_type": "markdown",
   "metadata": {},
   "source": [
    "#####                             ----------Classes--------                     ######"
   ]
  },
  {
   "cell_type": "code",
   "execution_count": 21,
   "metadata": {},
   "outputs": [
    {
     "name": "stdout",
     "output_type": "stream",
     "text": [
      "My dog name is will\n",
      "My dog  is 9 years old.\n",
      "will is now sitting.\n",
      "will rolled over !\n"
     ]
    }
   ],
   "source": [
    "class Dog:\n",
    "    \"\"\"A Simple attempt to model a dog\"\"\"\n",
    "\n",
    "    def __init__(self,name,age) :\n",
    "        \"\"\"\"Initialze name and age attributes\"\"\"\n",
    "        self.name = name \n",
    "        self.age = age\n",
    "    def sit (self) :\n",
    "        \"\"\"Simulate a dog sitting in response to a command.\"\"\"\n",
    "        print (f\"{self.name} is now sitting.\")\n",
    "\n",
    "    def roll_over(self):\n",
    "        \"\"\"Simulate rolling over in response to a command\"\"\"\n",
    "        print (f\"{self.name} rolled over !\")\n",
    "\n",
    "\n",
    "my_dog = Dog('will',9)\n",
    "\n",
    "print(f\"My dog name is {my_dog.name}\")\n",
    "print(f\"My dog  is {my_dog.age} years old.\")\n",
    "\n",
    "my_dog.sit()\n",
    "my_dog.roll_over()\n"
   ]
  },
  {
   "cell_type": "markdown",
   "metadata": {},
   "source": [
    "### 9-1 :  Restaurant: Make a class called Restaurant. The __init__() method for Restaurant should store two attributes: a restaurant_name and a cuisine_type. Make a method called describe_restaurant() that prints these two pieces of information, and a method called open_restaurant() that prints a message indicating that the restaurant is open.Make an instance called restaurant from your class. Print the two attributes individually, and then call both methods."
   ]
  },
  {
   "cell_type": "code",
   "execution_count": 34,
   "metadata": {},
   "outputs": [
    {
     "name": "stdout",
     "output_type": "stream",
     "text": [
      "The Restaurant name is TasteBuds\n",
      "This restaurant seves Indian cuisine\n",
      "Name of the restaurant - TasteBuds and served Indian\n",
      "TasteBuds served Indian\n",
      "TasteBuds  is now OPEN  \n"
     ]
    }
   ],
   "source": [
    "class Restaurant :\n",
    "    \"\"\"A simple restaurant class\"\"\"\n",
    "    def __init__(self,restaurant_name,cuisine_type):\n",
    "        self.restaurant_name =restaurant_name\n",
    "        self.cuisine_type =cuisine_type \n",
    "    def describe_restaurant(self) :\n",
    "        print(f\"Name of the restaurant - {self.restaurant_name} and served {self.cuisine_type}\")\n",
    "        print(f\"{self.restaurant_name} served {self.cuisine_type}\")\n",
    "    def open_restaurant(self) :\n",
    "        print(f\"{self.restaurant_name}  is now OPEN  \")\n",
    "\n",
    "\n",
    "my_restaurant=Restaurant('TasteBuds','Indian')\n",
    "\n",
    "print(f\"The Restaurant name is {my_restaurant.restaurant_name}\")\n",
    "print(f\"This restaurant seves {my_restaurant.cuisine_type} cuisine\")\n",
    "\n",
    "my_restaurant.describe_restaurant()\n",
    "my_restaurant.open_restaurant()\n"
   ]
  },
  {
   "cell_type": "markdown",
   "metadata": {},
   "source": [
    "###  9-2. Three Restaurants: Start with your class from Exercise 9-1. Create three different instances from the class, and call describe_restaurant() for each instance."
   ]
  },
  {
   "cell_type": "code",
   "execution_count": 22,
   "metadata": {},
   "outputs": [
    {
     "name": "stdout",
     "output_type": "stream",
     "text": [
      "The Restaurant name is TasteBuds\n",
      "This restaurant seves Indian cuisine\n",
      "\n",
      "Name of the restaurant - TasteBuds \n",
      "TasteBuds served Indian cuisine\n",
      "\n",
      "Name of the restaurant - Zero1 \n",
      "Zero1 served chinese cuisine\n",
      "\n",
      "Name of the restaurant - FoodMIle \n",
      "FoodMIle served mexican cuisine\n"
     ]
    }
   ],
   "source": [
    "class Restaurant :\n",
    "    \"\"\"A simple restaurant class\"\"\"\n",
    "    def __init__(self,restaurant_name,cuisine_type):\n",
    "        self.restaurant_name =restaurant_name\n",
    "        self.cuisine_type =cuisine_type \n",
    "    def describe_restaurant(self) :\n",
    "        print(f\"\\nName of the restaurant - {self.restaurant_name} \")\n",
    "        print(f\"{self.restaurant_name} served {self.cuisine_type} cuisine\")\n",
    "    def open_restaurant(self) :\n",
    "        print(f\"{self.restaurant_name}  is open  \")\n",
    "\n",
    "\n",
    "my_restaurant=Restaurant('TasteBuds','Indian')\n",
    "my_restaurant_1=Restaurant('Zero1','chinese')\n",
    "my_restaurant_2=Restaurant('FoodMIle','mexican')\n",
    "\n",
    "\n",
    "print(f\"The Restaurant name is {my_restaurant.restaurant_name}\")\n",
    "print(f\"This restaurant seves {my_restaurant.cuisine_type} cuisine\")\n",
    "\n",
    "my_restaurant.describe_restaurant()\n",
    "my_restaurant_1.describe_restaurant()\n",
    "my_restaurant_2.describe_restaurant()"
   ]
  },
  {
   "cell_type": "markdown",
   "metadata": {},
   "source": [
    "###  9-3. Users: Make a class called User. Create two attributes called first_name and last_name, and then create several other attributes that are typically stored in a user profile. Make a method called describe_user() that prints a summary of the user’s information. Make another method called greet_user() that prints a personalized greeting to the user.Create several instances representing different users, and call both methods for each user."
   ]
  },
  {
   "cell_type": "code",
   "execution_count": 18,
   "metadata": {},
   "outputs": [
    {
     "name": "stdout",
     "output_type": "stream",
     "text": [
      "Hirak\n",
      "Tata\n",
      "Ratan, Tata ,{'known_as': 'legend', 'networth_in_b': 300}\n",
      "Hi Hirak, Happy Durga Puja\n"
     ]
    }
   ],
   "source": [
    "class Users :\n",
    "    def __init__(self,first_name , last_name, **other_attributes) :\n",
    "        self.first_name = first_name \n",
    "        self.last_name = last_name\n",
    "        self.other_attributes = other_attributes\n",
    "    def describe_user(self):\n",
    "        print (f\"{self.first_name}, {self.last_name} ,{self.other_attributes}\")\n",
    "    def greet_user(self):\n",
    "        print (f\"Hi {self.first_name}, Happy Durga Puja\")\n",
    "\n",
    "user_profile = Users('Hirak','Kalita', ux=63)\n",
    "print(f\"{user_profile.first_name}\")\n",
    "user_profile_3 = Users('Ratan','Tata',known_as='legend', networth_in_b=300)\n",
    "\n",
    "print(f\"{user_profile_3.last_name}\")\n",
    "user_profile_3.describe_user()\n",
    "\n",
    "user_profile.greet_user()\n"
   ]
  },
  {
   "cell_type": "markdown",
   "metadata": {},
   "source": [
    "### The CAR class"
   ]
  },
  {
   "cell_type": "code",
   "execution_count": 12,
   "metadata": {},
   "outputs": [
    {
     "name": "stdout",
     "output_type": "stream",
     "text": [
      "2024 Audi A4\n"
     ]
    }
   ],
   "source": [
    "class Car:\n",
    "    \"\"\"A simpple attempt to represnt a car\"\"\"\n",
    "    def __init__(self, make, model, year) :\n",
    "        \"\"\"initiating attributes t describe a car\"\"\"\n",
    "        self.make = make\n",
    "        self.model = model\n",
    "        self.year = year\n",
    "    def get_descriptive_name(self) :\n",
    "        \"\"\"return a neatly formatted descriptive name.\"\"\"\n",
    "        long_name= f\"{self.year} {self.make} {self.model}\"\n",
    "        return long_name.title()\n",
    "    my_new_car = Car('audi','a4', 2024)\n",
    "    print(my_new_car.get_descriptive_name())"
   ]
  },
  {
   "cell_type": "markdown",
   "metadata": {},
   "source": [
    "### Setting a Default Value for an Attribute"
   ]
  },
  {
   "cell_type": "code",
   "execution_count": 6,
   "metadata": {},
   "outputs": [
    {
     "name": "stdout",
     "output_type": "stream",
     "text": [
      "2024 Audi A4\n",
      "This car has 0 miles on it .\n"
     ]
    }
   ],
   "source": [
    "class Car:\n",
    "    def __init__ (self,make , model, year) :\n",
    "        \"\"\"intialising attributes to describe a car\"\"\"\n",
    "        self.make = make\n",
    "        self.model = model\n",
    "        self.year= year\n",
    "        self.odometer_reading = 0 \n",
    "    def get_descriptive_name(self) :\n",
    "        \"\"\"retrun in a neatly formatted descriptivd name\"\"\"\n",
    "        long_name = f\"{self.year} {self.make} {self.model}\"\n",
    "        return long_name.title()\n",
    "    def read_odometer(self) :\n",
    "        \"\"\"printing a statement showing the car's mileage\"\"\"\n",
    "        print(f\"This car has {self.odometer_reading} miles on it .\")\n",
    "my_new_car = Car('audi','a4', 2024)\n",
    "print(my_new_car.get_descriptive_name())\n",
    "my_new_car.read_odometer()"
   ]
  },
  {
   "cell_type": "markdown",
   "metadata": {},
   "source": [
    "### modifying attributes\n",
    "\n",
    "my_new_car.read_odometer = 23\n",
    "my_new_car.read_odometer()"
   ]
  },
  {
   "cell_type": "code",
   "execution_count": 7,
   "metadata": {},
   "outputs": [
    {
     "name": "stdout",
     "output_type": "stream",
     "text": [
      "2024 Audi A4\n",
      "This car has 23 miles on it .\n"
     ]
    }
   ],
   "source": [
    "class Car:\n",
    "    def __init__ (self,make , model, year) :\n",
    "        \"\"\"intialising attributes to describe a car\"\"\"\n",
    "        self.make = make\n",
    "        self.model = model\n",
    "        self.year= year\n",
    "        self.odometer_reading = 0 \n",
    "    def get_descriptive_name(self) :\n",
    "        \"\"\"retrun in a neatly formatted descriptivd name\"\"\"\n",
    "        long_name = f\"{self.year} {self.make} {self.model}\"\n",
    "        return long_name.title()\n",
    "    def read_odometer(self) :\n",
    "        \"\"\"printing a statement showing the car's mileage\"\"\"\n",
    "        print(f\"This car has {self.odometer_reading} miles on it .\")\n",
    "my_new_car = Car('audi','a4', 2024)\n",
    "print(my_new_car.get_descriptive_name())\n",
    "my_new_car.odometer_reading = 23\n",
    "my_new_car.read_odometer()"
   ]
  },
  {
   "cell_type": "code",
   "execution_count": 11,
   "metadata": {},
   "outputs": [
    {
     "name": "stdout",
     "output_type": "stream",
     "text": [
      "2024 Audi A4\n",
      "This car has 23 miles on it .\n"
     ]
    }
   ],
   "source": [
    "class Car:\n",
    "    def __init__ (self,make , model, year) :\n",
    "        \"\"\"intialising attributes to describe a car\"\"\"\n",
    "        self.make = make\n",
    "        self.model = model\n",
    "        self.year= year\n",
    "        self.odometer_reading = 0\n",
    "    def get_descriptive_name(self) :\n",
    "        \"\"\"retrun in a neatly formatted descriptivd name\"\"\"\n",
    "        long_name = f\"{self.year} {self.make} {self.model}\"\n",
    "        return long_name.title()\n",
    "    def read_odometer(self) :\n",
    "        \"\"\"printing a statement showing the car's mileage\"\"\"\n",
    "        print(f\"This car has {self.odometer_reading} miles on it .\")\n",
    "    def update_odometer (self,mileage) :\n",
    "        \"\"\"seting the odometer reading to the given value\"\"\"\n",
    "        self.odometer_reading = mileage\n",
    "my_new_car = Car('audi','a4', 2024)\n",
    "print(my_new_car.get_descriptive_name())\n",
    "my_new_car.update_odometer(23)\n",
    "my_new_car.read_odometer()"
   ]
  },
  {
   "cell_type": "code",
   "execution_count": 14,
   "metadata": {},
   "outputs": [
    {
     "name": "stdout",
     "output_type": "stream",
     "text": [
      "2024 Audi A4\n",
      "This car has 20 miles on it .\n"
     ]
    }
   ],
   "source": [
    "class Car:\n",
    "    def __init__ (self,make , model, year) :\n",
    "        \"\"\"intialising attributes to describe a car\"\"\"\n",
    "        self.make = make\n",
    "        self.model = model\n",
    "        self.year= year\n",
    "        self.odometer_reading = 0\n",
    "    def get_descriptive_name(self) :\n",
    "        \"\"\"retrun in a neatly formatted descriptivd name\"\"\"\n",
    "        long_name = f\"{self.year} {self.make} {self.model}\"\n",
    "        return long_name.title()\n",
    "    def read_odometer(self) :\n",
    "        \"\"\"printing a statement showing the car's mileage\"\"\"\n",
    "        print(f\"This car has {self.odometer_reading} miles on it .\")\n",
    "    def update_odometer(self, mileage):\n",
    "        \"\"\"\n",
    "        Set the odometer reading to the given value.\n",
    "        Reject the change if it attempts to roll the odometer back.\n",
    "        \"\"\"\n",
    "        if mileage >= self.odometer_reading:\n",
    "            self.odometer_reading = mileage\n",
    "        else:\n",
    "             print(\"You can't roll back an odometer!\")\n",
    "my_new_car = Car('audi','a4', 2024)\n",
    "print(my_new_car.get_descriptive_name())\n",
    "my_new_car.update_odometer(20)\n",
    "my_new_car.read_odometer()"
   ]
  },
  {
   "cell_type": "markdown",
   "metadata": {},
   "source": [
    "###  9-4. Number Served: Start with your program from Exercise 9-1 (page 162). Add an attribute called *number_served* with a default value of *0*. Create an instance called restaurant from this class. Print the number of customers the restaurant has served, and then change this value and print it again.Add a method called *set_number_served()* that lets you set the number of customers that have been served. Call this method with a new number and print the value again.Add a method called *increment_number_served()* that lets you increment the number of customers who’ve been served. Call this method with any number you like that could represent how many customers were served in, say, a day of business."
   ]
  },
  {
   "cell_type": "code",
   "execution_count": 1,
   "metadata": {},
   "outputs": [
    {
     "name": "stdout",
     "output_type": "stream",
     "text": [
      "Name of the restaurant - Muse and served Mexican\n",
      "Muse served Mexican\n",
      "Muse  is now OPEN  \n",
      "Total 94 number of great customer served \n",
      "And calling the day off with 100 customers in total.\n"
     ]
    }
   ],
   "source": [
    "class Restaurant :\n",
    "    \"\"\"A simple restaurant class\"\"\"\n",
    "    def __init__(self,restaurant_name,cuisine_type,number_served=0):\n",
    "        self.restaurant_name =restaurant_name\n",
    "        self.cuisine_type =cuisine_type \n",
    "        self.number_served = number_served\n",
    "    def describe_restaurant(self) :\n",
    "        print(f\"Name of the restaurant - {self.restaurant_name} and served {self.cuisine_type}\")\n",
    "        print(f\"{self.restaurant_name} served {self.cuisine_type}\")\n",
    "    def open_restaurant(self) :\n",
    "        print(f\"{self.restaurant_name}  is now OPEN  \")\n",
    "    def set_number_served(self,served) :\n",
    "        self.number_served = served\n",
    "    def increment_number_served(self,add_served) :\n",
    "        self.number_served += add_served\n",
    "\n",
    "my_restaurant= Restaurant('Muse', 'Mexican')\n",
    "my_restaurant.describe_restaurant()\n",
    "my_restaurant.open_restaurant()\n",
    "\n",
    "my_restaurant.set_number_served (94)\n",
    "print(f\"Total {my_restaurant.number_served} number of great customer served \")\n",
    "my_restaurant.increment_number_served (6)\n",
    "print(f\"And calling the day off with {my_restaurant.number_served} customers in total.\")\n",
    "\n",
    "\n",
    "\n"
   ]
  },
  {
   "cell_type": "markdown",
   "metadata": {},
   "source": [
    "### 9-5. Login Attempts: Add an attribute called login_attempts to your User class from Exercise 9-3 (page 162). Write a method called increment_login_attempts() that increments the value of login_attempts by 1. Write another method called reset_login_attempts() that resets the value of login_attempts to 0.Make an instance of the User class and call increment_login_attempts() several times. Print the value of login_attempts to make sure it was incremented properly, and then call reset_login_attempts(). Print login_attempts again to make sure it was reset to 0"
   ]
  },
  {
   "cell_type": "code",
   "execution_count": 32,
   "metadata": {},
   "outputs": [
    {
     "name": "stdout",
     "output_type": "stream",
     "text": [
      "Hirak\n",
      "Tata\n",
      "Ratan, Tata ,{'known_as': 'legend', 'networth_in_b': 300}\n",
      "Hi Hirak, Happy Durga Puja\n",
      "\n",
      "you attempt to log in durga puja game for 4 times\n",
      "and now 0 log in left to logout\n"
     ]
    }
   ],
   "source": [
    "class Users :\n",
    "    def __init__(self,first_name , last_name,**other_attributes) :\n",
    "        self.first_name = first_name \n",
    "        self.last_name = last_name\n",
    "        self.login_attempts = 0\n",
    "        self.other_attributes = other_attributes\n",
    "    def describe_user(self):\n",
    "        print (f\"{self.first_name}, {self.last_name} ,{self.other_attributes}\")\n",
    "    def greet_user(self):\n",
    "        print (f\"Hi {self.first_name}, Happy Durga Puja\")\n",
    "    def increment_login_attempts(self) :\n",
    "        self.login_attempts += 1 \n",
    "    def reset_login_attempts (self) :\n",
    "        self.login_attempts = 0 \n",
    "            \n",
    "\n",
    "user_profile = Users('Hirak','Kalita', ux=63)\n",
    "print(f\"{user_profile.first_name}\")\n",
    "user_profile_3 = Users('Ratan','Tata',known_as='legend', networth_in_b=300)\n",
    "print(f\"{user_profile_3.last_name}\")\n",
    "user_profile_3.describe_user()\n",
    "user_profile.greet_user()\n",
    "\n",
    "user_profile.increment_login_attempts()\n",
    "user_profile.increment_login_attempts()\n",
    "user_profile.increment_login_attempts()\n",
    "user_profile.increment_login_attempts()\n",
    "print (f\"\\nyou attempt to log in durga puja game for {user_profile.login_attempts} times\")\n",
    "user_profile.reset_login_attempts()\n",
    "print(f\"and now {user_profile.login_attempts} log in left to logout\")\n",
    "\n"
   ]
  },
  {
   "cell_type": "code",
   "execution_count": null,
   "metadata": {},
   "outputs": [],
   "source": []
  }
 ],
 "metadata": {
  "kernelspec": {
   "display_name": "Python 3",
   "language": "python",
   "name": "python3"
  },
  "language_info": {
   "codemirror_mode": {
    "name": "ipython",
    "version": 3
   },
   "file_extension": ".py",
   "mimetype": "text/x-python",
   "name": "python",
   "nbconvert_exporter": "python",
   "pygments_lexer": "ipython3",
   "version": "3.11.4"
  }
 },
 "nbformat": 4,
 "nbformat_minor": 2
}
