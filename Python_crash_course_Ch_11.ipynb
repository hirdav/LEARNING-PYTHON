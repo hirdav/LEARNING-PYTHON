{
 "cells": [
  {
   "cell_type": "markdown",
   "metadata": {},
   "source": [
    "Testing a function "
   ]
  },
  {
   "cell_type": "code",
   "execution_count": 6,
   "metadata": {},
   "outputs": [
    {
     "name": "stdout",
     "output_type": "stream",
     "text": [
      "Enter 'q' at any time to quit\n",
      " \t neatly formatted name Hirak Kalita\n",
      " \t neatly formatted name Hirak Kalita\n",
      " \t neatly formatted name Hirak K\n"
     ]
    }
   ],
   "source": [
    "from name_function import get_formatted_name \n",
    "\n",
    "print (\"Enter 'q' at any time to quit\")\n",
    "while True : \n",
    "    first =  input (\"\\n please give me a first name\")\n",
    "    if first == 'q' :\n",
    "        break\n",
    "    last = input (\"Please give me a last game \")\n",
    "\n",
    "    if last == 'q':\n",
    "        break\n",
    "    formatted_name = get_formatted_name (first,last)\n",
    "    print(f\" \\t neatly formatted name {formatted_name}\")"
   ]
  },
  {
   "cell_type": "markdown",
   "metadata": {},
   "source": [
    "A passing test\n"
   ]
  },
  {
   "cell_type": "code",
   "execution_count": null,
   "metadata": {},
   "outputs": [],
   "source": [
    "from name_function import get_formatted_name \n",
    "def test_first_last_name():\n",
    "    \"\"\"do names like john hopkins work\"\"\"\n",
    "    formatted_name = get_formatted_name('john','hopkins')\n",
    "    assert formatted_name == 'john hopkins'"
   ]
  }
 ],
 "metadata": {
  "kernelspec": {
   "display_name": "Python 3",
   "language": "python",
   "name": "python3"
  },
  "language_info": {
   "codemirror_mode": {
    "name": "ipython",
    "version": 3
   },
   "file_extension": ".py",
   "mimetype": "text/x-python",
   "name": "python",
   "nbconvert_exporter": "python",
   "pygments_lexer": "ipython3",
   "version": "3.11.4"
  }
 },
 "nbformat": 4,
 "nbformat_minor": 2
}
