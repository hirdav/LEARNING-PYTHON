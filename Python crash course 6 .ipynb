{
 "cells": [
  {
   "cell_type": "code",
   "execution_count": null,
   "metadata": {},
   "outputs": [
    {
     "name": "stdout",
     "output_type": "stream",
     "text": [
      "-------------Try It Yourself 6.6------------\n",
      "hey Raju,please take the poll\n",
      "Hi Ria, Thanks for taking the poll\n",
      "hey Rajnikanta,please take the poll\n"
     ]
    }
   ],
   "source": [
    "        \n",
    "        #6.6\n",
    "        print(\"-------------Try It Yourself 6.6------------\")\n",
    "        fav_langu = {'ria': 'eng', 'rony': 'marathi', 'iqbal': 'bengali'}\n",
    "        extra = ['raju', 'ria', 'rajnikanta']\n",
    "        # taken_poll = []\n",
    "\n",
    "        for kai in extra:\n",
    "            if kai in fav_langu.keys() :\n",
    "                print(f\"Hi {kai.title()}, Thanks for taking the poll\")\n",
    "            else:\n",
    "                print(f\"hey {kai.title()},please take the poll\")\n",
    "        \n",
    "        # if kai in extra and kai not in taken_poll:\n",
    "        #     print(f\"{kai.title()}, thanks for taking the poll\")\n",
    "        #     taken_poll.append(kai)\n",
    "        # elif kai not in fav_langu:\n",
    "        #     print(f\"{kai.title()}, please take the poll\")\n",
    "\n",
    "        # print(\"People who have taken the poll:\", taken_poll)"
   ]
  },
  {
   "cell_type": "code",
   "execution_count": null,
   "metadata": {},
   "outputs": [],
   "source": [
    "alien_0={'color':'pink','pol':'bad','soy':'5'}\n",
    "alien_1={'pen':'ink','doll':'red','toy':'yellow'}\n",
    "alien_2={'boot':'black','noho':'sad','soy':'blue'}\n",
    "alien=[alien_0,alien_1,alien_2]\n",
    "for noearth in alien:\n",
    "    print(noearth)\n",
    "    "
   ]
  },
  {
   "cell_type": "code",
   "execution_count": null,
   "metadata": {},
   "outputs": [],
   "source": [
    "#chatGpt ::  \n",
    "#   Create a Python program that simulates a class of students taking a quiz. Each student should have a name and a score. \n",
    "#   Initialize an empty list to represent the class. \n",
    "#   Use a loop to generate 20 students with random names and quiz scores between 60 and 100. \n",
    "#   Display the names and scores of the first 5 students, then print the average score of the entire class\n",
    "clases_1=[]\n",
    "for x in  range(20):\n",
    "    students ={'roy':'70','joy':93, 'tou':60}\n",
    "    clases_1.append(students)\n",
    "    print(x)"
   ]
  },
  {
   "cell_type": "code",
   "execution_count": null,
   "metadata": {},
   "outputs": [],
   "source": [
    "aliens = []\n",
    "\n",
    "for alien_number in range(30):\n",
    "    new_alien = {'color': 'green', 'points': '5', 'speed': '68'}\n",
    "    aliens.append(new_alien)"
   ]
  },
  {
   "cell_type": "code",
   "execution_count": null,
   "metadata": {},
   "outputs": [],
   "source": [
    "aliens =[] #made an empty list\n",
    "for alien_number in range(30) : #then loop for 30 times the empty list\n",
    "    new_alien = {'color':'green','points':'5','speed':'68'} #in that loop new alien would append to the empty list[aliens] till 30 counts\n",
    "    aliens.append(new_alien)\n",
    "for alien in aliens[:3]:#now it started the loop for 30 counts that appended earlier with new alien items and wil print the first three sets\n",
    "    print(alien)\n",
    "# print(\".....\")\n",
    "print(f\"total number of aliens : {len(aliens)}\")\n"
   ]
  },
  {
   "cell_type": "code",
   "execution_count": null,
   "metadata": {},
   "outputs": [],
   "source": [
    "#modification of those aliens\n",
    "aliens=[]\n",
    "for alien_number in range(10):\n",
    "    new_alien={'color':'green','points':'5','speed':'68'}\n",
    "    aliens.append(new_alien)\n",
    "for alien in aliens[:1]:\n",
    "    if alien['color'] =='green':\n",
    "       alien['color']='red'\n",
    "       alien['points']='90'\n",
    "       alien['speed']='fast'\n",
    "    else :\n",
    "        print(\"this alien is not present in this gola\")\n",
    "for alien in aliens[:8]:\n",
    "    print(alien)\n",
    "print(\"done\")"
   ]
  },
  {
   "cell_type": "code",
   "execution_count": null,
   "metadata": {},
   "outputs": [],
   "source": [
    "aliens=[]\n",
    "for alien_number in range(10):\n",
    "    new_alien={'color':'green','points':'5','speed':'68'}\n",
    "    aliens.append(new_alien)\n",
    "for alien in aliens[:50]:\n",
    "    if alien['color'] =='green':\n",
    "       alien['color']='pink'\n",
    "       alien['points']=26\n",
    "       alien['speed']='moderate'\n",
    "for alien in aliens[:49]:\n",
    "    print(alien)\n",
    "print(\"done\")"
   ]
  },
  {
   "cell_type": "code",
   "execution_count": null,
   "metadata": {},
   "outputs": [
    {
     "name": "stdout",
     "output_type": "stream",
     "text": [
      "{'color': 'red', 'points': 90, 'speed': 'fast'}\n",
      "{'color': 'red', 'points': 90, 'speed': 'fast'}\n",
      "{'color': 'red', 'points': 90, 'speed': 'fast'}\n",
      "{'color': 'green', 'points': 5, 'speed': '68'}\n",
      "{'color': 'green', 'points': 5, 'speed': '68'}\n",
      "{'color': 'green', 'points': 5, 'speed': '68'}\n",
      "done\n"
     ]
    }
   ],
   "source": [
    "aliens=[]\n",
    "for alien_number in range(10):\n",
    "    new_alien={'color':'green','points': 5,'speed':'68'}\n",
    "    aliens.append(new_alien)\n",
    "for alien in aliens[:3]:\n",
    "    if alien['color'] =='green':\n",
    "       alien['color']='red'\n",
    "       alien['points']= 90\n",
    "       alien['speed']='fast'\n",
    "    # elif alien['color']== 'red' :\n",
    "    #      alien['color']='pinkish'\n",
    "    #      alien['speed']='low'\n",
    "    #      alien['points']= 67\n",
    "for alien in aliens[:6]:\n",
    "    print(alien)\n",
    "print(\"done\")"
   ]
  },
  {
   "cell_type": "code",
   "execution_count": null,
   "metadata": {},
   "outputs": [
    {
     "name": "stdout",
     "output_type": "stream",
     "text": [
      " the following languages are metioned ::      \n",
      "Jen\n",
      "Alii\n",
      "Husi\n"
     ]
    }
   ],
   "source": [
    "favi_lang ={ 'jen' : 'beng',\n",
    "            'alii' : 'hindi',\n",
    "            'husi' : 'eng'}\n",
    "print(\" the following languages are metioned ::      \")\n",
    "\n",
    "for key ,value in favi_lang.items():\n",
    "    print (f\"{key.title()}\")\n",
    "\n"
   ]
  },
  {
   "cell_type": "code",
   "execution_count": null,
   "metadata": {},
   "outputs": [],
   "source": [
    "pizza={\n",
    "        'crust' : 'thick',\n",
    "        'toppings': ['mushrooms','extra cheese'],\n",
    "}\n",
    "print(f\"I ordered {pizza['crust']} crust  \"\n",
    "      \"with the following toppings: \")\n",
    "for topping in pizza ['toppings']:\n",
    "    print(f\"\\t {topping}\")"
   ]
  },
  {
   "cell_type": "code",
   "execution_count": null,
   "metadata": {},
   "outputs": [
    {
     "name": "stdout",
     "output_type": "stream",
     "text": [
      "Hey Jen you should take the poll.\n",
      "Hey John you should take the poll.\n",
      "Hey Ron you should take the poll.\n"
     ]
    }
   ],
   "source": [
    "favorite_langu= { 'jen' : 'python',\n",
    "                 'sarah': 'c',\n",
    "                 'edward': 'rust',\n",
    "                 'phil' : ' python'\n",
    "}\n",
    "people= ['jen', 'john','ron']\n",
    "for person in people:\n",
    "    if person in favorite_langu.items() : \n",
    "        print ( f\"Hey {person.title()} , thank you for taking the poll.\")\n",
    "    else:\n",
    "        print(f\"Hey {person.title()} you should take the poll.\")\n"
   ]
  },
  {
   "cell_type": "code",
   "execution_count": null,
   "metadata": {},
   "outputs": [
    {
     "name": "stdout",
     "output_type": "stream",
     "text": [
      "hey coach make this player named ['sachin', 'dhoni', 'kohli'] greatest batter of all time and create this player named Jadeja greatest of all time all rounder\n",
      "sachin is the best player\n",
      "dhoni is the best player\n",
      "kohli is the best player\n",
      "all the batters are here: ['sachin', 'dhoni', 'kohli']\n"
     ]
    }
   ],
   "source": [
    "indian_team={'batter': ['sachin','dhoni','kohli'],\n",
    "             'all_rounder': 'Jadeja'}\n",
    "print(f\"hey coach make this player named {indian_team['batter']} greatest batter of all time \"\n",
    "      f\"and create this player named {indian_team ['all_rounder']} greatest of all time all rounder\")\n",
    "for batt in indian_team['batter']:\n",
    "    print(f\"{batt} is the best player\")\n",
    "print(f\"all the batters are here: {(indian_team['batter'])}\")"
   ]
  },
  {
   "cell_type": "code",
   "execution_count": null,
   "metadata": {},
   "outputs": [],
   "source": [
    "#modified\n",
    "indian_team = {'batter': ['sachin', 'dhoni', 'kohli'], 'all_rounder': 'Jadeja'}\n",
    "\n",
    "# Print the introductory message for the batters\n",
    "print(f\"all the batters are here: {', '.join(indian_team['batter'])}\") # anew function join \n",
    "\n",
    "# Print the introductory message for the all-rounder\n",
    "print(f\"the all-rounder is here: {indian_team['all_rounder']}\")\n"
   ]
  },
  {
   "cell_type": "code",
   "execution_count": null,
   "metadata": {},
   "outputs": [
    {
     "name": "stdout",
     "output_type": "stream",
     "text": [
      "Roy's fav languages are : \n",
      "Eng\n",
      "Python\n",
      "Hindi\n",
      "wah Roy,you know more than one language\n",
      "Aliya's fav languages are : \n",
      "Hindi\n",
      "Ups\n",
      "C\n",
      "Joy's fav languages are : \n",
      "Bangla\n",
      "Rust\n",
      "wah Joy,you know more than one language\n"
     ]
    }
   ],
   "source": [
    "fav_langu={ 'roy':['eng','python','hindi'], 'aliya':['hindi','ups','c'],\n",
    "                'joy':['bangla','rust']\n",
    "}\n",
    "for key , value  in fav_langu.items():\n",
    "    # print(f\"{key.title()} is fav languages are {value.title()}\")# you cant run 2 loops in command \n",
    "    print(f\"{key.title()}'s fav languages are : \")\n",
    "    for ket in value : \n",
    "        print(f\"{ket.title()}\")\n",
    "    if len(ket) > 1 :\n",
    "            print(f\"wah {key.title()},you know more than one language\")\n",
    "\n"
   ]
  },
  {
   "cell_type": "code",
   "execution_count": null,
   "metadata": {},
   "outputs": [
    {
     "name": "stdout",
     "output_type": "stream",
     "text": [
      "Roy's favorite languages are:\n",
      " - Eng\n",
      " - Python\n",
      " - Hindi\n",
      "Wah Roy, you know more than one language!\n",
      "\n",
      "Aliya's favorite languages are:\n",
      " - Hindi\n",
      " - Ups\n",
      " - C\n",
      "Wah Aliya, you know more than one language!\n",
      "\n",
      "Joy's favorite languages are:\n",
      " - Bangla\n",
      " - Rust\n",
      "Wah Joy, you know more than one language!\n",
      "\n"
     ]
    }
   ],
   "source": [
    "fav_langu = {\n",
    "    'roy': ['eng', 'python', 'hindi'],\n",
    "    'aliya': ['hindi', 'ups', 'c'],\n",
    "    'joy': ['bangla', 'rust']\n",
    "}\n",
    "\n",
    "# Iterate through the dictionary\n",
    "for name, languages in fav_langu.items():\n",
    "    # Print the person's name and their favorite languages\n",
    "    print(f\"{name.title()}'s favorite languages are:\")\n",
    "\n",
    "    # Loop through each language in the list\n",
    "    for language in languages:\n",
    "        print(f\" - {language.title()}\")\n",
    "\n",
    "    # Check if the person knows more than one language\n",
    "    if len(languages) > 1:\n",
    "        print(f\"Wah {name.title()}, you know more than one language!\\n\")\n",
    "    else:\n",
    "        print()  # Print a newline for better readability\n"
   ]
  },
  {
   "cell_type": "code",
   "execution_count": null,
   "metadata": {},
   "outputs": [
    {
     "name": "stdout",
     "output_type": "stream",
     "text": [
      "Roy's is fav languages are : \n",
      "Eng\n",
      "Python\n",
      "Hindi\n",
      "Aliya's is fav languages are : \n",
      "Hindi\n",
      "Ups\n",
      "C\n",
      "Joy's is fav languages are : \n",
      "Bangla\n",
      "Rust\n"
     ]
    }
   ],
   "source": [
    "fav_langu = {\n",
    "    'roy': ['eng', 'python', 'hindi'],\n",
    "    'aliya': ['hindi', 'ups', 'c'],\n",
    "    'joy': ['bangla', 'rust']\n",
    "}\n",
    "\n",
    "for key, value in fav_langu.items():\n",
    "    print(f\"{key.title()}'s is fav languages are : \")\n",
    "    for language in value:\n",
    "        # print(f\"{language.title()}\")\n",
    "        # if len(language) > 1:\n",
    "           print(language.title())\n"
   ]
  },
  {
   "cell_type": "code",
   "execution_count": 3,
   "metadata": {},
   "outputs": [
    {
     "name": "stdout",
     "output_type": "stream",
     "text": [
      "Username : einstein\n",
      "full name : Albert Einstein\n",
      "Location : Princeton \n",
      "--------=====--------\n",
      "Username : Madam\n",
      "full name : Merry Currie\n",
      "Location : Sweden\n"
     ]
    }
   ],
   "source": [
    "#dictionary in dictionary\n",
    "\n",
    "users= {\n",
    "    'einstein': {'first' : 'albert',\n",
    "                 'last' : 'einstein',\n",
    "                 'location' : 'princeton \\n--------=====--------'}, \n",
    "    'Madam':    {'first' : 'merry',\n",
    "                'last': 'currie',\n",
    "                'location': 'sweden'}\n",
    "                          }\n",
    "for username , user_info in users.items():\n",
    "    print (f\"Username : {username}\")\n",
    "    full_name =f\"{user_info['first']} {user_info['last']}\"\n",
    "    location=user_info['location']\n",
    "    print(f'full name : {full_name.title()}')\n",
    "    print(f'Location : {location.title()}')\n",
    "\n",
    "\n"
   ]
  },
  {
   "cell_type": "code",
   "execution_count": 33,
   "metadata": {},
   "outputs": [
    {
     "name": "stdout",
     "output_type": "stream",
     "text": [
      "------------Try it yourself - 6.6---------------\n",
      "Hey Ari,you should take the poll\n",
      "And thanks for the responds\n",
      "Hey Ras,you should take the poll\n",
      "And thanks for the responds\n",
      "Hey Isha,you should take the poll\n",
      "And thanks for the responds\n",
      "Hey Rubi,you should take the poll\n",
      "And thanks for the responds\n",
      "Hey Zoe,you should take the poll\n",
      "And thanks for the responds\n"
     ]
    }
   ],
   "source": [
    "print (\"------------Try it yourself - 6.6---------------\")\n",
    "\n",
    "poll= { 'ras' , 'rubi','isha','zoe','ari'}\n",
    "for xu in poll :\n",
    "    print (f\"Hey {xu.title()},you should take the poll\\nAnd thanks for the responds\")\n",
    "    "
   ]
  },
  {
   "cell_type": "code",
   "execution_count": null,
   "metadata": {},
   "outputs": [],
   "source": [
    "print(\"pyjhdgfjassgdksjdhkdfkkhsdbfkj\")"
   ]
  },
  {
   "cell_type": "code",
   "execution_count": 7,
   "metadata": {},
   "outputs": [
    {
     "name": "stdout",
     "output_type": "stream",
     "text": [
      "rying new\n"
     ]
    }
   ],
   "source": [
    "print(\"rying new\")"
   ]
  }
 ],
 "metadata": {
  "kernelspec": {
   "display_name": "Python 3",
   "language": "python",
   "name": "python3"
  },
  "language_info": {
   "codemirror_mode": {
    "name": "ipython",
    "version": 3
   },
   "file_extension": ".py",
   "mimetype": "text/x-python",
   "name": "python",
   "nbconvert_exporter": "python",
   "pygments_lexer": "ipython3",
   "version": "3.11.4"
  }
 },
 "nbformat": 4,
 "nbformat_minor": 2
}
