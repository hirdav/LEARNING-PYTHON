{
 "cells": [
  {
   "cell_type": "code",
   "execution_count": null,
   "metadata": {},
   "outputs": [
    {
     "name": "stdout",
     "output_type": "stream",
     "text": [
      "-------------Try It Yourself 6.6------------\n",
      "hey Raju,please take the poll\n",
      "Hi Ria, Thanks for taking the poll\n",
      "hey Rajnikanta,please take the poll\n"
     ]
    }
   ],
   "source": [
    "        \n",
    "        #6.6\n",
    "        print(\"-------------Try It Yourself 6.6------------\")\n",
    "        fav_langu = {'ria': 'eng', 'rony': 'marathi', 'iqbal': 'bengali'}\n",
    "        extra = ['raju', 'ria', 'rajnikanta']\n",
    "        # taken_poll = []\n",
    "\n",
    "        for kai in extra:\n",
    "            if kai in fav_langu.keys() :\n",
    "                print(f\"Hi {kai.title()}, Thanks for taking the poll\")\n",
    "            else:\n",
    "                print(f\"hey {kai.title()},please take the poll\")\n",
    "        \n",
    "        # if kai in extra and kai not in taken_poll:\n",
    "        #     print(f\"{kai.title()}, thanks for taking the poll\")\n",
    "        #     taken_poll.append(kai)\n",
    "        # elif kai not in fav_langu:\n",
    "        #     print(f\"{kai.title()}, please take the poll\")\n",
    "\n",
    "        # print(\"People who have taken the poll:\", taken_poll)"
   ]
  },
  {
   "cell_type": "code",
   "execution_count": null,
   "metadata": {},
   "outputs": [],
   "source": [
    "alien_0={'color':'pink','pol':'bad','soy':'5'}\n",
    "alien_1={'pen':'ink','doll':'red','toy':'yellow'}\n",
    "alien_2={'boot':'black','noho':'sad','soy':'blue'}\n",
    "alien=[alien_0,alien_1,alien_2]\n",
    "for noearth in alien:\n",
    "    print(noearth)\n",
    "    "
   ]
  },
  {
   "cell_type": "code",
   "execution_count": null,
   "metadata": {},
   "outputs": [],
   "source": [
    "#chatGpt ::  \n",
    "#   Create a Python program that simulates a class of students taking a quiz. Each student should have a name and a score. \n",
    "#   Initialize an empty list to represent the class. \n",
    "#   Use a loop to generate 20 students with random names and quiz scores between 60 and 100. \n",
    "#   Display the names and scores of the first 5 students, then print the average score of the entire class\n",
    "clases_1=[]\n",
    "for x in  range(20):\n",
    "    students ={'roy':'70','joy':93, 'tou':60}\n",
    "    clases_1.append(students)\n",
    "    print(x)"
   ]
  },
  {
   "cell_type": "code",
   "execution_count": null,
   "metadata": {},
   "outputs": [],
   "source": [
    "aliens = []\n",
    "\n",
    "for alien_number in range(30):\n",
    "    new_alien = {'color': 'green', 'points': '5', 'speed': '68'}\n",
    "    aliens.append(new_alien)"
   ]
  },
  {
   "cell_type": "code",
   "execution_count": null,
   "metadata": {},
   "outputs": [],
   "source": [
    "aliens =[] #made an empty list\n",
    "for alien_number in range(30) : #then loop for 30 times the empty list\n",
    "    new_alien = {'color':'green','points':'5','speed':'68'} #in that loop new alien would append to the empty list[aliens] till 30 counts\n",
    "    aliens.append(new_alien)\n",
    "for alien in aliens[:3]:#now it started the loop for 30 counts that appended earlier with new alien items and wil print the first three sets\n",
    "    print(alien)\n",
    "# print(\".....\")\n",
    "print(f\"total number of aliens : {len(aliens)}\")\n"
   ]
  },
  {
   "cell_type": "code",
   "execution_count": null,
   "metadata": {},
   "outputs": [],
   "source": [
    "#modification of those aliens\n",
    "aliens=[]\n",
    "for alien_number in range(10):\n",
    "    new_alien={'color':'green','points':'5','speed':'68'}\n",
    "    aliens.append(new_alien)\n",
    "for alien in aliens[:1]:\n",
    "    if alien['color'] =='green':\n",
    "       alien['color']='red'\n",
    "       alien['points']='90'\n",
    "       alien['speed']='fast'\n",
    "    else :\n",
    "        print(\"this alien is not present in this gola\")\n",
    "for alien in aliens[:8]:\n",
    "    print(alien)\n",
    "print(\"done\")"
   ]
  },
  {
   "cell_type": "code",
   "execution_count": null,
   "metadata": {},
   "outputs": [],
   "source": [
    "aliens=[]\n",
    "for alien_number in range(10):\n",
    "    new_alien={'color':'green','points':'5','speed':'68'}\n",
    "    aliens.append(new_alien)\n",
    "for alien in aliens[:50]:\n",
    "    if alien['color'] =='green':\n",
    "       alien['color']='pink'\n",
    "       alien['points']=26\n",
    "       alien['speed']='moderate'\n",
    "for alien in aliens[:49]:\n",
    "    print(alien)\n",
    "print(\"done\")"
   ]
  },
  {
   "cell_type": "code",
   "execution_count": null,
   "metadata": {},
   "outputs": [
    {
     "name": "stdout",
     "output_type": "stream",
     "text": [
      "{'color': 'red', 'points': 90, 'speed': 'fast'}\n",
      "{'color': 'red', 'points': 90, 'speed': 'fast'}\n",
      "{'color': 'red', 'points': 90, 'speed': 'fast'}\n",
      "{'color': 'green', 'points': 5, 'speed': '68'}\n",
      "{'color': 'green', 'points': 5, 'speed': '68'}\n",
      "{'color': 'green', 'points': 5, 'speed': '68'}\n",
      "done\n"
     ]
    }
   ],
   "source": [
    "aliens=[]\n",
    "for alien_number in range(10):\n",
    "    new_alien={'color':'green','points': 5,'speed':'68'}\n",
    "    aliens.append(new_alien)\n",
    "for alien in aliens[:3]:\n",
    "    if alien['color'] =='green':\n",
    "       alien['color']='red'\n",
    "       alien['points']= 90\n",
    "       alien['speed']='fast'\n",
    "    # elif alien['color']== 'red' :\n",
    "    #      alien['color']='pinkish'\n",
    "    #      alien['speed']='low'\n",
    "    #      alien['points']= 67\n",
    "for alien in aliens[:6]:\n",
    "    print(alien)\n",
    "print(\"done\")"
   ]
  },
  {
   "cell_type": "code",
   "execution_count": null,
   "metadata": {},
   "outputs": [
    {
     "name": "stdout",
     "output_type": "stream",
     "text": [
      " the following languages are metioned ::      \n",
      "Jen\n",
      "Alii\n",
      "Husi\n"
     ]
    }
   ],
   "source": [
    "favi_lang ={ 'jen' : 'beng',\n",
    "            'alii' : 'hindi',\n",
    "            'husi' : 'eng'}\n",
    "print(\" the following languages are metioned ::      \")\n",
    "\n",
    "for key ,value in favi_lang.items():\n",
    "    print (f\"{key.title()}\")\n",
    "\n"
   ]
  },
  {
   "cell_type": "code",
   "execution_count": null,
   "metadata": {},
   "outputs": [],
   "source": [
    "pizza={\n",
    "        'crust' : 'thick',\n",
    "        'toppings': ['mushrooms','extra cheese'],\n",
    "}\n",
    "print(f\"I ordered {pizza['crust']} crust  \"\n",
    "      \"with the following toppings: \")\n",
    "for topping in pizza ['toppings']:\n",
    "    print(f\"\\t {topping}\")"
   ]
  },
  {
   "cell_type": "code",
   "execution_count": null,
   "metadata": {},
   "outputs": [
    {
     "name": "stdout",
     "output_type": "stream",
     "text": [
      "Hey Jen you should take the poll.\n",
      "Hey John you should take the poll.\n",
      "Hey Ron you should take the poll.\n"
     ]
    }
   ],
   "source": [
    "favorite_langu= { 'jen' : 'python',\n",
    "                 'sarah': 'c',\n",
    "                 'edward': 'rust',\n",
    "                 'phil' : ' python'\n",
    "}\n",
    "people= ['jen', 'john','ron']\n",
    "for person in people:\n",
    "    if person in favorite_langu.items() : \n",
    "        print ( f\"Hey {person.title()} , thank you for taking the poll.\")\n",
    "    else:\n",
    "        print(f\"Hey {person.title()} you should take the poll.\")\n"
   ]
  },
  {
   "cell_type": "code",
   "execution_count": null,
   "metadata": {},
   "outputs": [
    {
     "name": "stdout",
     "output_type": "stream",
     "text": [
      "hey coach make this player named ['sachin', 'dhoni', 'kohli'] greatest batter of all time and create this player named Jadeja greatest of all time all rounder\n",
      "sachin is the best player\n",
      "dhoni is the best player\n",
      "kohli is the best player\n",
      "all the batters are here: ['sachin', 'dhoni', 'kohli']\n"
     ]
    }
   ],
   "source": [
    "indian_team={'batter': ['sachin','dhoni','kohli'],\n",
    "             'all_rounder': 'Jadeja'}\n",
    "print(f\"hey coach make this player named {indian_team['batter']} greatest batter of all time \"\n",
    "      f\"and create this player named {indian_team ['all_rounder']} greatest of all time all rounder\")\n",
    "for batt in indian_team['batter']:\n",
    "    print(f\"{batt} is the best player\")\n",
    "print(f\"all the batters are here: {(indian_team['batter'])}\")"
   ]
  },
  {
   "cell_type": "code",
   "execution_count": null,
   "metadata": {},
   "outputs": [],
   "source": [
    "#modified\n",
    "indian_team = {'batter': ['sachin', 'dhoni', 'kohli'], 'all_rounder': 'Jadeja'}\n",
    "\n",
    "# Print the introductory message for the batters\n",
    "print(f\"all the batters are here: {', '.join(indian_team['batter'])}\") # anew function join \n",
    "\n",
    "# Print the introductory message for the all-rounder\n",
    "print(f\"the all-rounder is here: {indian_team['all_rounder']}\")\n"
   ]
  },
  {
   "cell_type": "code",
   "execution_count": null,
   "metadata": {},
   "outputs": [],
   "source": [
    "print (\"------------Try it yourself - 6.6---------------\")\n",
    "\n",
    "poll= { 'ras' , 'rubi','isha','zoe','ari'}\n",
    "for xu in poll :\n",
    "    print (f\"Hey {xu.title()},you should take the poll\\nAnd thanks for the responds\")\n",
    "    "
   ]
  },
  {
   "cell_type": "code",
   "execution_count": null,
   "metadata": {},
   "outputs": [
    {
     "name": "stdout",
     "output_type": "stream",
     "text": [
      "Roy's fav languages are : \n",
      "Eng\n",
      "Python\n",
      "Hindi\n",
      "wah Roy,you know more than one language\n",
      "Aliya's fav languages are : \n",
      "Hindi\n",
      "Ups\n",
      "C\n",
      "Joy's fav languages are : \n",
      "Bangla\n",
      "Rust\n",
      "wah Joy,you know more than one language\n"
     ]
    }
   ],
   "source": [
    "fav_langu={ 'roy':['eng','python','hindi'], 'aliya':['hindi','ups','c'],\n",
    "                'joy':['bangla','rust']\n",
    "}\n",
    "for key , value  in fav_langu.items():\n",
    "    # print(f\"{key.title()} is fav languages are {value.title()}\")# you cant run 2 loops in command \n",
    "    print(f\"{key.title()}'s fav languages are : \")\n",
    "    for ket in value : \n",
    "        print(f\"{ket.title()}\")\n",
    "    if len(ket) > 1 :\n",
    "            print(f\"wah {key.title()},you know more than one language\")\n",
    "\n"
   ]
  },
  {
   "cell_type": "code",
   "execution_count": null,
   "metadata": {},
   "outputs": [
    {
     "name": "stdout",
     "output_type": "stream",
     "text": [
      "Roy's favorite languages are:\n",
      " - Eng\n",
      " - Python\n",
      " - Hindi\n",
      "Wah Roy, you know more than one language!\n",
      "\n",
      "Aliya's favorite languages are:\n",
      " - Hindi\n",
      " - Ups\n",
      " - C\n",
      "Wah Aliya, you know more than one language!\n",
      "\n",
      "Joy's favorite languages are:\n",
      " - Bangla\n",
      " - Rust\n",
      "Wah Joy, you know more than one language!\n",
      "\n"
     ]
    }
   ],
   "source": [
    "fav_langu = {\n",
    "    'roy': ['eng', 'python', 'hindi'],\n",
    "    'aliya': ['hindi', 'ups', 'c'],\n",
    "    'joy': ['bangla', 'rust']\n",
    "}\n",
    "\n",
    "# Iterate through the dictionary\n",
    "for name, languages in fav_langu.items():\n",
    "    # Print the person's name and their favorite languages\n",
    "    print(f\"{name.title()}'s favorite languages are:\")\n",
    "\n",
    "    # Loop through each language in the list\n",
    "    for language in languages:\n",
    "        print(f\" - {language.title()}\")\n",
    "\n",
    "    # Check if the person knows more than one language\n",
    "    if len(languages) > 1:\n",
    "        print(f\"Wah {name.title()}, you know more than one language!\\n\")\n",
    "    else:\n",
    "        print()  # Print a newline for better readability\n"
   ]
  },
  {
   "cell_type": "code",
   "execution_count": null,
   "metadata": {},
   "outputs": [
    {
     "name": "stdout",
     "output_type": "stream",
     "text": [
      "Roy's is fav languages are : \n",
      "Eng\n",
      "Python\n",
      "Hindi\n",
      "Aliya's is fav languages are : \n",
      "Hindi\n",
      "Ups\n",
      "C\n",
      "Joy's is fav languages are : \n",
      "Bangla\n",
      "Rust\n"
     ]
    }
   ],
   "source": [
    "fav_langu = {\n",
    "    'roy': ['eng', 'python', 'hindi'],\n",
    "    'aliya': ['hindi', 'ups', 'c'],\n",
    "    'joy': ['bangla', 'rust']\n",
    "}\n",
    "\n",
    "for key, value in fav_langu.items():\n",
    "    print(f\"{key.title()}'s is fav languages are : \")\n",
    "    for language in value:\n",
    "        # print(f\"{language.title()}\")\n",
    "        # if len(language) > 1:\n",
    "           print(language.title())\n"
   ]
  },
  {
   "cell_type": "code",
   "execution_count": 3,
   "metadata": {},
   "outputs": [
    {
     "name": "stdout",
     "output_type": "stream",
     "text": [
      "Username : einstein\n",
      "full name : Albert Einstein\n",
      "Location : Princeton \n",
      "--------=====--------\n",
      "Username : Madam\n",
      "full name : Merry Currie\n",
      "Location : Sweden\n"
     ]
    }
   ],
   "source": [
    "#nested dictionary\n",
    "\n",
    "users= {\n",
    "    'einstein': {'first' : 'albert',\n",
    "                 'last' : 'einstein',\n",
    "                 'location' : 'princeton \\n--------=====--------'}, \n",
    "    'Madam':    {'first' : 'merry',\n",
    "                'last': 'currie',\n",
    "                'location': 'sweden'}\n",
    "                          }\n",
    "for username , user_info in users.items():\n",
    "    print (f\"Username : {username}\")\n",
    "    full_name =f\"{user_info['first']} {user_info['last']}\"\n",
    "    location=user_info['location']\n",
    "    print(f'full name : {full_name.title()}')\n",
    "    print(f'Location : {location.title()}')\n",
    "\n",
    "\n"
   ]
  },
  {
   "cell_type": "code",
   "execution_count": null,
   "metadata": {},
   "outputs": [],
   "source": [
    "ticker = { 'symbol': 'apple',\n",
    "          'price': '211',\n",
    "          'volume': '34212222',\n",
    "          'momentum' : '20',\n",
    "          'product' :['phone','watch','desktop']\n",
    "    \n",
    "}\n",
    "\n",
    "ticker['volume'] = 300000\n",
    "# for i , j in ticker :\n",
    "if ticker['volume'] ==3000000:\n",
    "        print(f\"sell{ticker['symbol']} for {ticker['momentum']}\")\n",
    "else:\n",
    "        print (f\"{ticker['symbol']} has good product like {ticker['product']}\")\n",
    "print(\"good trade\")\n",
    "\n",
    "print(\"---------------------------------------------------------------\")"
   ]
  },
  {
   "cell_type": "code",
   "execution_count": 19,
   "metadata": {},
   "outputs": [
    {
     "name": "stdout",
     "output_type": "stream",
     "text": [
      "first_name: john\n",
      "Last_name: ron\n",
      "age: 24\n",
      "\n",
      "\n",
      "first_name: jisu\n",
      "Last_name:  pain\n",
      "age: 24\n",
      "\n",
      "\n",
      "first_name: john\n",
      "Last_name: ro\n",
      "age: 24\n",
      "\n",
      "\n"
     ]
    }
   ],
   "source": [
    "#------------ TiY---6.7---------#\n",
    "p1 = {'first_name':'john' ,'Last_name': 'ron','age': '24' }\n",
    "p2 =  {'first_name':'jisu' ,'Last_name': ' pain','age': '24'}\n",
    "p3 = {'first_name':'john' ,'Last_name': 'ro','age': '24'}\n",
    "persons =[p1,p2,p3]\n",
    "\n",
    "for people in persons:\n",
    "    for k, v in people.items():\n",
    "        print(f\"{k}: {v}\")\n",
    "    print (\"\\n\")\n",
    "\n",
    "\n",
    "\n"
   ]
  },
  {
   "cell_type": "code",
   "execution_count": 25,
   "metadata": {},
   "outputs": [
    {
     "name": "stdout",
     "output_type": "stream",
     "text": [
      " owner:janki\n",
      " pet:cat\n",
      "\n",
      "\n",
      " owner:ritz\n",
      " pet:dog\n",
      "\n",
      "\n",
      " owner:kitu\n",
      " pet:muse\n",
      "\n",
      "\n"
     ]
    }
   ],
   "source": [
    "print(\"#------------ TiY---6.8---------#\")\n",
    "pet1={'owner':'janki','pet': 'cat'}\n",
    "pet2={'owner':'ritz','pet':'dog'}\n",
    "pet3={'owner':'kitu','pet': 'muse'}\n",
    "pets=[pet1,pet2,pet3]\n",
    "\n",
    "for pet in pets:\n",
    "    for k,v in pet.items():\n",
    "        print(f\" {k}:{v}\")\n",
    "    print(\"\\n\")"
   ]
  },
  {
   "cell_type": "code",
   "execution_count": 27,
   "metadata": {},
   "outputs": [
    {
     "name": "stdout",
     "output_type": "stream",
     "text": [
      "#------------ TiY---6.9---------#\n",
      "Alice's favorite places are:\n",
      "- Paris\n",
      "- New York\n",
      "- Kyoto\n",
      "\n",
      "Bob's favorite places are:\n",
      "- Hawaii\n",
      "- Banff\n",
      "- Santorini\n",
      "\n",
      "Charlie's favorite places are:\n",
      "- Amsterdam\n",
      "- Berlin\n",
      "\n"
     ]
    }
   ],
   "source": [
    "print(\"#------------ TiY---6.9---------#\")\n",
    "# Dictionary of favorite places\n",
    "favorite_places = {\n",
    "    'Alice': ['Paris', 'New York', 'Kyoto'],\n",
    "    'Bob': ['Hawaii', 'Banff', 'Santorini'],\n",
    "    'Charlie': ['Amsterdam', 'Berlin']\n",
    "}\n",
    "\n",
    "# Loop through the dictionary and print each person's name and their favorite places\n",
    "for name, places in favorite_places.items():\n",
    "    print(f\"{name}'s favorite places are:\")\n",
    "    for place in places:\n",
    "        print(f\"- {place}\")\n",
    "    print()  # Add an extra blank line for readability\n"
   ]
  },
  {
   "cell_type": "markdown",
   "metadata": {},
   "source": [
    "Favorite Numbers: Use a dictionary to store people’s favorite numbers. \n",
    "Think of five names, and use them as keys in your dictionary. Think of a favorite \n",
    "\n",
    "number for each person, and store each as a value in your dictionary. Print \n",
    "each person’s name and their favorite number. For even more fun, poll a few \n",
    "friends and get some actual data for your program."
   ]
  },
  {
   "cell_type": "code",
   "execution_count": null,
   "metadata": {},
   "outputs": [],
   "source": [
    "\n",
    "#for more than one items in the list , you should use another lines of code which print the rest of the value of adisctionary \n",
    "fav_number= {'alo':[4,8,7],\n",
    "             'ali':[67,7,0],\n",
    "             'alq':[25,34,2],\n",
    "             'alw':[3,34,45],\n",
    "             'alr':[1,3,2]\n",
    "             }\n",
    "for k ,v  in fav_number.items():\n",
    "    print(f\"mr {k}'s fav numnber are : \")\n",
    "    for number in v:\n",
    "        print(f\" \\n{number}\")"
   ]
  },
  {
   "cell_type": "markdown",
   "metadata": {},
   "source": [
    "Make a dictionary called cities. Use the names of three cities as \n",
    "keys in your dictionary. Create a dictionary of information about each city and \n",
    "include the country that the city is in, its approximate population, and one fact \n",
    "about that city. The keys for each city’s dictionary should be something like \n",
    "country, population, and fact. Print the name of each city and all of the infor\n",
    "mation you have stored about it."
   ]
  },
  {
   "cell_type": "code",
   "execution_count": 53,
   "metadata": {},
   "outputs": [
    {
     "name": "stdout",
     "output_type": "stream",
     "text": [
      "Information about Vetican City   :\n",
      "country: Vetican_city\n",
      "population: 746\n",
      "fact: smallest_city\n",
      "Information about Delhi City   :\n",
      "country: India\n",
      "population: 33 million\n",
      "fact: capital of India\n",
      "Information about Newyork City   :\n",
      "country: USA\n",
      "population: 8.3 million\n",
      "fact: worlds financial hub\n",
      "\n",
      "Some information about the city Vetican:\n",
      "country: Vetican_City\n",
      "population: 746\n",
      "fact: smallest_city\n",
      "\n",
      "Some information about the city Delhi:\n",
      "country: India\n",
      "population: 33 million\n",
      "fact: capital of India\n",
      "\n",
      "Some information about the city Newyork:\n",
      "country: USA\n",
      "population: 8.3 million\n",
      "fact: worlds financial hub\n",
      "\n"
     ]
    }
   ],
   "source": [
    "cities={ 'Vetican'  : { 'country' : 'Vetican_city', \n",
    "                       'population': '746',\n",
    "                       'fact':'smallest_city'\n",
    "},\n",
    "        'Delhi'     :{ 'country':  'India',\n",
    "                        'population': '33 million' ,\n",
    "                        'fact'    : 'capital of India'              \n",
    "                       \n",
    "},\n",
    "        'Newyork'   :{ 'country':  'USA',\n",
    "                        'population': '8.3 million',\n",
    "                        'fact': 'worlds financial hub'\n",
    "                } \n",
    "\n",
    "\n",
    "}\n",
    "\n",
    "for k , v in cities.items():\n",
    "        print(f\"Information about {k} City   :\")\n",
    "        for information in v:\n",
    "                print(f\"{information}: {v[information] }\")\n",
    "\n",
    "print (\"\\n\")\n",
    "\n",
    "\n",
    "\n",
    "\n",
    "\n",
    "\n",
    "#gpt ans :\n",
    "\n",
    "cities = {\n",
    "    'Vetican': {\n",
    "        'country': 'Vetican_City',\n",
    "        'population': '746',\n",
    "        'fact': 'smallest_city'\n",
    "    },\n",
    "    'Delhi': {\n",
    "        'country': 'India',\n",
    "        'population': '33 million',\n",
    "        'fact': 'capital of India'\n",
    "    },\n",
    "    'Newyork': {\n",
    "        'country': 'USA',\n",
    "        'population': '8.3 million',\n",
    "        'fact': 'worlds financial hub'\n",
    "    }\n",
    "}\n",
    "\n",
    "for city, info in cities.items():\n",
    "    print(f\"Some information about the city {city}:\")\n",
    "    for key, value in info.items():\n",
    "        print(f\"{key}: {value}\")\n",
    "    print()  # Adding a blank line for better formatting\n",
    "\n"
   ]
  },
  {
   "cell_type": "code",
   "execution_count": null,
   "metadata": {},
   "outputs": [],
   "source": [
    "_"
   ]
  }
 ],
 "metadata": {
  "kernelspec": {
   "display_name": "Python 3",
   "language": "python",
   "name": "python3"
  },
  "language_info": {
   "codemirror_mode": {
    "name": "ipython",
    "version": 3
   },
   "file_extension": ".py",
   "mimetype": "text/x-python",
   "name": "python",
   "nbconvert_exporter": "python",
   "pygments_lexer": "ipython3",
   "version": "3.11.4"
  }
 },
 "nbformat": 4,
 "nbformat_minor": 2
}
